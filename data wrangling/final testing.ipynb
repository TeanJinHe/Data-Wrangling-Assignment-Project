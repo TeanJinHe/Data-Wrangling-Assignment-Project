{
 "cells": [
  {
   "cell_type": "code",
   "execution_count": 1,
   "id": "d016f4fb",
   "metadata": {},
   "outputs": [
    {
     "name": "stdout",
     "output_type": "stream",
     "text": [
      "(22, 2)\n",
      "(20, 4)\n",
      "(20, 5)\n",
      "(9, 7)\n",
      "(20, 11)\n",
      "(20, 21)\n",
      "(11, 4)\n",
      "(17, 5)\n",
      "(10, 4)\n",
      "(9, 6)\n",
      "(4, 13)\n",
      "(9, 2)\n",
      "(2, 2)\n",
      "(23, 2)\n",
      "(1, 2)\n",
      "(5, 2)\n",
      "(2, 2)\n",
      "(1, 2)\n",
      "(6, 2)\n",
      "(5, 2)\n"
     ]
    }
   ],
   "source": [
    "import requests\n",
    "import pandas as pd\n",
    "\n",
    "# Specify the URL of the Wikipedia page\n",
    "url = 'https://en.wikipedia.org/wiki/2010–11_Premier_League'\n",
    "\n",
    "# Send a GET request to the URL to fetch the HTML content\n",
    "response = requests.get(url)\n",
    "\n",
    "# Check if the request was successful\n",
    "if response.status_code == 200:\n",
    "    # Extract tables from the HTML content using pandas\n",
    "    tables = pd.read_html(response.text)\n",
    "\n",
    "    # Iterate over the tables and print the dimensions\n",
    "    for table in tables:\n",
    "        dimensions = table.shape\n",
    "        print(dimensions)\n",
    "\n",
    "else:\n",
    "    print('Failed to retrieve data from the Wikipedia page.')"
   ]
  },
  {
   "cell_type": "code",
   "execution_count": 3,
   "id": "39ec1799",
   "metadata": {},
   "outputs": [
    {
     "name": "stdout",
     "output_type": "stream",
     "text": [
      "(22, 2)\n",
      "(20, 4)\n",
      "(20, 5)\n",
      "(9, 7)\n",
      "(20, 11)\n",
      "(20, 21)\n",
      "(11, 4)\n",
      "(17, 5)\n",
      "(10, 4)\n",
      "(9, 6)\n",
      "(4, 13)\n",
      "(9, 2)\n",
      "(2, 2)\n",
      "(23, 2)\n",
      "(1, 2)\n",
      "(5, 2)\n",
      "(2, 2)\n",
      "(1, 2)\n",
      "(6, 2)\n",
      "(5, 2)\n"
     ]
    }
   ],
   "source": [
    "import pandas as pd\n",
    "url = \"https://en.wikipedia.org/wiki/2010-11_Premier_League\"\n",
    "# Read the HTML tables from the URL\n",
    "tables = pd.read_html(url)\n",
    "# Loop through each table and print its shape\n",
    "for table in tables:\n",
    " print(table.shape)\n"
   ]
  },
  {
   "cell_type": "code",
   "execution_count": 7,
   "id": "cdba7315",
   "metadata": {},
   "outputs": [
    {
     "name": "stdout",
     "output_type": "stream",
     "text": [
      "    Pos                     Team  Pld   W   D   L  GF  GA   GD  Pts  \\\n",
      "0     1    Manchester United (C)   38  23  11   4  78  37  +41   80   \n",
      "1     2                  Chelsea   38  21   8   9  69  33  +36   71   \n",
      "2     3          Manchester City   38  21   8   9  60  33  +27   71   \n",
      "3     4                  Arsenal   38  19  11   8  72  43  +29   68   \n",
      "4     5        Tottenham Hotspur   38  16  14   8  55  46   +9   62   \n",
      "5     6                Liverpool   38  17   7  14  59  44  +15   58   \n",
      "6     7                  Everton   38  13  15  10  51  45   +6   54   \n",
      "7     8                   Fulham   38  11  16  11  49  43   +6   49   \n",
      "8     9              Aston Villa   38  12  12  14  48  59  −11   48   \n",
      "9    10               Sunderland   38  12  11  15  45  56  −11   47   \n",
      "10   11     West Bromwich Albion   38  12  11  15  56  71  −15   47   \n",
      "11   12         Newcastle United   38  11  13  14  56  57   −1   46   \n",
      "12   13               Stoke City   38  13   7  18  46  48   −2   46   \n",
      "13   14         Bolton Wanderers   38  12  10  16  52  56   −4   46   \n",
      "14   15         Blackburn Rovers   38  11  10  17  46  59  −13   43   \n",
      "15   16           Wigan Athletic   38   9  15  14  40  61  −21   42   \n",
      "16   17  Wolverhampton Wanderers   38  11   7  20  46  66  −20   40   \n",
      "17   18      Birmingham City (R)   38   8  15  15  37  58  −21   39   \n",
      "18   19            Blackpool (R)   38  10   9  19  55  78  −23   39   \n",
      "19   20      West Ham United (R)   38   7  12  19  43  70  −27   33   \n",
      "\n",
      "                          Qualification or relegation  \n",
      "0   Qualification for the Champions League group s...  \n",
      "1   Qualification for the Champions League group s...  \n",
      "2   Qualification for the Champions League group s...  \n",
      "3   Qualification for the Champions League play-of...  \n",
      "4   Qualification for the Europa League play-off r...  \n",
      "5                                                 NaN  \n",
      "6                                                 NaN  \n",
      "7   Qualification for the Europa League first qual...  \n",
      "8                                                 NaN  \n",
      "9                                                 NaN  \n",
      "10                                                NaN  \n",
      "11                                                NaN  \n",
      "12  Qualification for the Europa League third qual...  \n",
      "13                                                NaN  \n",
      "14                                                NaN  \n",
      "15                                                NaN  \n",
      "16                                                NaN  \n",
      "17  Europa League play-off round and relegation to...  \n",
      "18     Relegation to the Football League Championship  \n",
      "19     Relegation to the Football League Championship  \n"
     ]
    }
   ],
   "source": [
    "import pandas as pd\n",
    "url = \"https://en.wikipedia.org/wiki/2010-11_Premier_League\"\n",
    "# Read the HTML tables from the URL\n",
    "tables = pd.read_html(url)\n",
    "# Find the index of the table with shape (20, 5)\n",
    "desired_table_index = 4\n",
    "# Extract the desired table\n",
    "desired_table = tables[desired_table_index]\n",
    "# Print the extracted table\n",
    "print(desired_table)"
   ]
  },
  {
   "cell_type": "code",
   "execution_count": null,
   "id": "6555a2e7",
   "metadata": {},
   "outputs": [],
   "source": []
  }
 ],
 "metadata": {
  "kernelspec": {
   "display_name": "Python 3 (ipykernel)",
   "language": "python",
   "name": "python3"
  },
  "language_info": {
   "codemirror_mode": {
    "name": "ipython",
    "version": 3
   },
   "file_extension": ".py",
   "mimetype": "text/x-python",
   "name": "python",
   "nbconvert_exporter": "python",
   "pygments_lexer": "ipython3",
   "version": "3.9.13"
  }
 },
 "nbformat": 4,
 "nbformat_minor": 5
}
