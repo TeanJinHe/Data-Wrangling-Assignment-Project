{
 "cells": [
  {
   "cell_type": "code",
   "execution_count": 117,
   "id": "6d14744a",
   "metadata": {},
   "outputs": [
    {
     "name": "stdout",
     "output_type": "stream",
     "text": [
      "[616, 30, 105, 671, 195, 680, 489, 517, 401, 950, 317, 460, 218, 746, 61, 70, 844, 215, 472, 271, 185, 108, 401, 119, 839, 277, 574, 226, 778, 609, 950, 970, 653, 866, 462, 989, 513, 145, 991, 972, 737, 444, 433, 367, 614, 543, 37, 821, 497, 423, 307, 40, 520, 891, 157, 901, 158, 263, 78, 334, 616, 281, 574, 729, 632, 652, 645, 927, 188, 899, 1000, 872, 366, 680, 251, 487, 141, 863, 166, 259, 869, 365, 128, 209, 563, 965, 545, 279, 11, 524, 765, 413, 128, 111, 830, 899, 63, 698, 652, 774, 883, 732, 883, 566, 855, 558, 177, 802, 795, 362, 872, 202, 355, 689, 158, 894, 557, 708, 41, 936, 922, 441, 499, 658, 367, 85, 720, 922, 70, 532, 442, 469, 704, 420, 686, 73, 740, 400, 606, 13, 101, 697, 91, 262, 246, 647, 687, 830, 119, 315, 931, 343, 505, 204, 801, 124, 53, 315, 156, 480, 74, 271, 407, 73, 232, 697, 827, 78, 117, 621, 72, 899, 379, 307, 222, 750, 210, 536, 632, 983, 904, 879, 502, 246, 956, 788, 57, 322, 277, 255, 449, 94, 564, 229, 611, 63, 272, 931, 374, 899, 487, 573, 937, 607, 47, 61, 673, 235, 71, 60, 239, 960, 478, 366, 908, 525, 938, 1, 946, 922, 341, 249, 787, 644, 170, 435, 374, 458, 175, 739, 832, 494, 565, 975, 241, 79, 687, 932, 855, 546, 73, 214, 71, 436, 422, 468, 503, 774, 515, 534, 299, 510, 314, 197, 178, 727, 320, 858, 503, 11, 588, 277, 205, 69, 554, 861, 289, 100, 18, 166, 737, 141, 848, 152, 553, 34, 395, 625, 524, 256, 148, 193, 412, 940, 908, 585, 736, 680, 346, 463, 477, 565, 551, 719, 777, 653, 388, 864, 469, 747, 219, 384, 687, 419, 481, 544, 156, 270, 417, 519, 797, 769, 534, 934, 697, 792, 752, 472, 821, 340, 503, 515, 534, 685, 850, 378, 403, 608, 778, 877, 410, 263, 702, 832, 554, 276, 561, 733, 149, 714, 968, 389, 569, 528, 751, 8, 65, 347, 101, 410, 524, 545, 585, 156, 786, 701, 178, 439, 796, 301, 959, 658, 626, 519, 122, 8, 851, 642, 692, 331, 149, 884, 825, 325, 909, 575, 55, 408, 897, 441, 388, 56, 120, 1000, 368, 935, 587, 918, 324, 340, 68, 364, 228, 432, 683, 427, 389, 649, 232, 574, 700, 248, 510, 568, 494, 514, 828, 65, 58, 56, 627, 828, 570, 287, 486, 153, 399, 432, 157, 217, 466, 105, 708, 952, 657, 625, 497, 221, 630, 985, 873, 452, 560, 451, 572, 116, 719, 822, 877, 273, 372, 744, 464, 112, 529, 560, 41, 324, 388, 464, 992, 214, 114, 926, 476, 1, 644, 675, 788, 998, 375, 538, 957, 453, 554, 657, 743, 779, 18, 488, 911, 570, 699, 413, 400, 349, 820, 966, 365, 501, 71, 968, 454, 423, 108, 764, 288, 500, 451, 767, 11, 731, 513, 876, 722, 904, 644, 540, 301, 980, 655, 10, 431, 106, 572, 634, 9, 314, 481, 910, 960, 475, 40, 627, 491, 217, 723, 810, 526, 354, 275, 516, 624, 472, 773, 249, 429, 267, 383, 831, 231, 331, 352, 247, 409, 803, 416, 475, 98, 73, 21, 744, 671, 165, 438, 549, 834, 302, 477, 183, 970, 774, 803, 302, 428, 72, 496, 488, 376, 337, 951, 223, 784, 553, 940, 232, 675, 422, 799, 803, 890, 296, 619, 766, 169, 769, 515, 71, 424, 857, 224, 488, 358, 701, 97, 901, 917, 484, 695, 848, 262, 477, 980, 723, 600, 835, 489, 268, 745, 591, 472, 630, 32, 489, 60, 490, 643, 461, 628, 895, 31, 481, 402, 470, 955, 743, 689, 834, 694, 287, 700, 773, 232, 816, 865, 19, 514, 268, 888, 874, 899, 862, 610, 770, 994, 437, 285, 566, 111, 759, 815, 804, 247, 908, 965, 34, 998, 13, 99, 680, 554, 106, 600, 77, 59, 928, 212, 541, 620, 798, 425, 379, 300, 851, 972, 585, 871, 572, 702, 525, 471, 978, 746, 764, 235, 806, 930, 654, 465, 415, 546, 239, 873, 875, 365, 132, 532, 920, 541, 102, 378, 601, 164, 52, 612, 55, 320, 916, 204, 720, 927, 918, 303, 584, 504, 757, 249, 204, 743, 156, 517, 248, 747, 52, 157, 165, 993, 382, 161, 667, 301, 165, 389, 233, 444, 622, 85, 573, 205, 62, 76, 423, 808, 528, 97, 302, 495, 458, 930, 304, 912, 63, 61, 801, 881, 917, 143, 716, 812, 790, 432, 928, 416, 306, 923, 891, 874, 464, 593, 560, 78, 759, 577, 829, 293, 288, 195, 125, 928, 293, 222, 327, 887, 436, 792, 331, 46, 963, 245, 564, 525, 176, 127, 568, 808, 595, 367, 201, 937, 449, 755, 317, 946, 545, 70, 569, 418, 594, 906, 476, 508, 861, 675, 430, 639, 999, 128, 943, 193, 154, 517, 571, 396, 804, 829, 746, 862, 495, 534, 34, 148, 343, 238, 310, 807, 496, 99, 933, 229, 175, 573, 89, 235, 340, 644, 379, 412, 906, 182, 612, 578, 101, 905, 587, 640, 505, 600, 227, 9, 149, 644, 421, 204, 206, 350, 265, 731, 828, 301, 590, 574, 348, 358, 260, 253, 363, 737, 590, 355, 833, 308, 975, 35, 356, 212, 735, 824, 450, 676, 327, 638, 133, 946, 664, 504, 355, 284, 304, 324, 67, 698, 594, 750, 574, 354, 764, 404, 636, 308, 560, 616, 924, 119, 744, 53, 539, 186, 658, 702, 806, 27, 684, 617, 437, 320, 136, 373, 653, 328, 770, 184, 410, 214, 562, 764, 125, 245, 241, 352, 489, 977, 960, 876, 967, 978, 31, 315, 349, 75, 25, 749, 384, 113, 190, 976, 488, 935, 168, 549, 222, 311, 98, 747, 880, 257, 732, 996, 503, 570, 863, 461, 471, 148, 227, 1, 413, 854, 183, 840, 746, 490, 889, 167, 784, 555, 629, 110, 228, 306, 252, 793, 797, 442, 797, 170, 411, 533, 755, 299, 682, 144, 249, 362, 661, 701, 199, 418, 539, 171, 317]\n",
      "801.5\n"
     ]
    }
   ],
   "source": [
    "# 1. Import the random library.\n",
    "import random\n",
    "\n",
    "# 2. Use the randint method from the random library to create 1000 random numbers.\n",
    "random_number_list = [random.randint(1, 1000) for _ in range(1000)]\n",
    "\n",
    "# 3. Print random_number_list. \n",
    "print(random_number_list)\n",
    "\n",
    "# 4. Create a list_with_divisible_by_5 list from random_number_list, which will contain only numbers \n",
    "# that are divisible by 5. \n",
    "list_with_divisible_by_5 = [n for n in random_number_list if n % 5 == 0]\n",
    "\n",
    "# 5. Use the len function to measure the length of the first list and the second list, and store them in \n",
    "# two different variables, length_of_random_list and length_of_5_divisible_list. Calculate the \n",
    "# difference in length in a variable called difference. \n",
    "length_of_random_list = len(random_number_list)\n",
    "length_of_5_divisible_list = len(list_with_divisible_by_5)\n",
    "difference = length_of_random_list - length_of_5_divisible_list\n",
    "\n",
    "# 6. Combine the tasks we have performed so far and add a for loop to it. Run the loop 10 times \n",
    "# and add the values of the difference variables to a list.\n",
    "differences = []\n",
    "for _ in range(10):\n",
    "    # Repeat steps 2 to 5\n",
    "    random_number_list = [random.randint(1, 1000) for _ in range(1000)]\n",
    "    list_with_divisible_by_5 = [n for n in random_number_list if n % 5 == 0]\n",
    "    length_of_random_list = len(random_number_list)\n",
    "    length_of_5_divisible_list = len(list_with_divisible_by_5)\n",
    "    difference = length_of_random_list - length_of_5_divisible_list\n",
    "    # Add the difference to the list\n",
    "    differences.append(difference)\n",
    "\n",
    "# 7. Then, calculate the arithmetic mean (common average) for the differences in the lengths that you have.\n",
    "mean_difference = sum(differences) / len(differences)\n",
    "print(mean_difference)"
   ]
  },
  {
   "cell_type": "code",
   "execution_count": 72,
   "id": "f6686065",
   "metadata": {},
   "outputs": [
    {
     "name": "stdout",
     "output_type": "stream",
     "text": [
      "The average difference in length is: 805.6\n"
     ]
    }
   ],
   "source": [
    "import random\n",
    "\n",
    "difference_list = []\n",
    "\n",
    "for i in range(10):\n",
    "    random_number_list = [random.randint(1, 1000) for _ in range(1000)]\n",
    "    list_with_divisible_by_5 = [num for num in random_number_list if num % 5 == 0 and num >= 25]\n",
    "    \n",
    "    length_of_random_list = len(random_number_list)\n",
    "    length_of_5_divisible_list = len(list_with_divisible_by_5)\n",
    "    difference = length_of_random_list - length_of_5_divisible_list\n",
    "    \n",
    "    difference_list.append(difference)\n",
    "\n",
    "average_difference = sum(difference_list) / len(difference_list)\n",
    "\n",
    "print(\"The average difference in length is:\", average_difference)"
   ]
  },
  {
   "cell_type": "code",
   "execution_count": 100,
   "id": "3e6a4022",
   "metadata": {},
   "outputs": [
    {
     "name": "stdout",
     "output_type": "stream",
     "text": [
      "List difference lengths: [793, 811, 780, 816, 809, 783, 814, 805, 812, 792]\n",
      "Average difference length: 801.5\n",
      "Execution time: 0.007978439331054688 seconds.\n"
     ]
    }
   ],
   "source": [
    "import random\n",
    "import time\n",
    "\n",
    "diff_lengths = []\n",
    "\n",
    "start_time = time.time()\n",
    "\n",
    "for i in range(10):\n",
    "    random_number_list = [random.randint(0, 1000) for j in range(1000)]\n",
    "    list_with_divisible_by_5 = [num for num in random_number_list if num % 5 == 0]\n",
    "    length_of_random_list = len(random_number_list)\n",
    "    length_of_5_divisible_list = len(list_with_divisible_by_5)\n",
    "    difference = length_of_random_list - length_of_5_divisible_list\n",
    "    diff_lengths.append(difference)\n",
    "\n",
    "end_time = time.time()\n",
    "\n",
    "avg_diff_length = sum(diff_lengths) / len(diff_lengths)\n",
    "\n",
    "print(\"List difference lengths:\", diff_lengths)\n",
    "print(\"Average difference length:\", avg_diff_length)\n",
    "print(\"Execution time:\", end_time - start_time, \"seconds.\")"
   ]
  },
  {
   "cell_type": "code",
   "execution_count": null,
   "id": "6451c00d",
   "metadata": {},
   "outputs": [],
   "source": []
  }
 ],
 "metadata": {
  "kernelspec": {
   "display_name": "Python 3 (ipykernel)",
   "language": "python",
   "name": "python3"
  },
  "language_info": {
   "codemirror_mode": {
    "name": "ipython",
    "version": 3
   },
   "file_extension": ".py",
   "mimetype": "text/x-python",
   "name": "python",
   "nbconvert_exporter": "python",
   "pygments_lexer": "ipython3",
   "version": "3.9.13"
  }
 },
 "nbformat": 4,
 "nbformat_minor": 5
}
