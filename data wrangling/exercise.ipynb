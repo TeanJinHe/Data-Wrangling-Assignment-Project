{
 "cells": [
  {
   "cell_type": "markdown",
   "id": "b44dfdae",
   "metadata": {},
   "source": [
    "# CHAPTER 2 DATA STRUCTURES"
   ]
  },
  {
   "cell_type": "markdown",
   "id": "b2d638f0",
   "metadata": {},
   "source": [
    "### BSD2333 DATA WRANGLING"
   ]
  },
  {
   "cell_type": "markdown",
   "id": "538a63c2",
   "metadata": {},
   "source": [
    "### 2.3 DATA STRUCTURES AND SEQUENCES"
   ]
  },
  {
   "cell_type": "markdown",
   "id": "2c569ee0",
   "metadata": {},
   "source": [
    "#### LISTS"
   ]
  },
  {
   "cell_type": "markdown",
   "id": "149a61d4",
   "metadata": {},
   "source": [
    "Lists are fundamental Python data structures that have continuous memory locations and can host\n",
    "different d ata t ypes ( such a s s trings, n umbers, fl oats, an d do ubles) an d ca n be ac cessed by the\n",
    "index.\n",
    "\n",
    "We will start with a list and list comprehension. A list comprehension is a syntactic sugar (or\n",
    "shorthand) for a for loop, which iterates over a list. We will generate a list of numbers, and then\n",
    "examine which ones among them are even. We will sort, reverse, and check for duplicates. We will\n",
    "also see the different w ays w e c an a ccess t he l ist e lements, i terating o ver t hem a nd c hecking the\n",
    "membership of an element.\n",
    "\n",
    "The following is an example of a simple list:"
   ]
  },
  {
   "cell_type": "code",
   "execution_count": 1,
   "id": "be44e35c",
   "metadata": {},
   "outputs": [],
   "source": [
    "list_example = [51, 27, 34, 46, 90, 45, -19]"
   ]
  },
  {
   "cell_type": "markdown",
   "id": "6c36ec96",
   "metadata": {},
   "source": [
    "The following is also an example of a list:"
   ]
  },
  {
   "cell_type": "code",
   "execution_count": 2,
   "id": "064e131a",
   "metadata": {},
   "outputs": [],
   "source": [
    "list_example2 = [15, \"Yellow car\", True, 9.456, [12, \"Hello\"]]"
   ]
  },
  {
   "cell_type": "markdown",
   "id": "2d6e20c1",
   "metadata": {},
   "source": [
    "As you can see, a list can contain any number of the allowed data types, such as int, float, string,\n",
    "and boolean, and a list can also be a mix of different data types (including nested lists).\n",
    "\n",
    "List Functions\n",
    "\n",
    "In this section, we will discuss a few basic functions for handling lists. You can access list elements\n",
    "using the following code:\n"
   ]
  },
  {
   "cell_type": "code",
   "execution_count": 3,
   "id": "5d337091",
   "metadata": {},
   "outputs": [
    {
     "data": {
      "text/plain": [
       "51"
      ]
     },
     "execution_count": 3,
     "metadata": {},
     "output_type": "execute_result"
    }
   ],
   "source": [
    "list_example = [51, 27, 34, 46, 90, 45, -19]\n",
    "list_example[0]"
   ]
  },
  {
   "cell_type": "markdown",
   "id": "d27fdf74",
   "metadata": {},
   "source": [
    "To find out the length of a list, we simply use the len f unction. The len function in Python returns\n",
    "the length of the specified list:"
   ]
  },
  {
   "cell_type": "code",
   "execution_count": 4,
   "id": "c9959053",
   "metadata": {},
   "outputs": [
    {
     "data": {
      "text/plain": [
       "7"
      ]
     },
     "execution_count": 4,
     "metadata": {},
     "output_type": "execute_result"
    }
   ],
   "source": [
    "len(list_example)"
   ]
  },
  {
   "cell_type": "markdown",
   "id": "84fa7e3f",
   "metadata": {},
   "source": [
    "We can append new elements in the list. append is a built-in method in Python for the list data\n",
    "type:\n"
   ]
  },
  {
   "cell_type": "code",
   "execution_count": 5,
   "id": "60a5c399",
   "metadata": {},
   "outputs": [
    {
     "data": {
      "text/plain": [
       "[51, 27, 34, 46, 90, 45, -19, 11]"
      ]
     },
     "execution_count": 5,
     "metadata": {},
     "output_type": "execute_result"
    }
   ],
   "source": [
    "list_example.append(11)\n",
    "list_example"
   ]
  },
  {
   "cell_type": "markdown",
   "id": "6d9ebf1e",
   "metadata": {},
   "source": [
    "Exercise 2.01 : Accessing the List Members\n",
    "    \n",
    "1. Open a new Jupyter Notebook and define a list called ssn. Read from the ssn.csv file using\n",
    "the read_csv command and print the list elements:\n"
   ]
  },
  {
   "cell_type": "code",
   "execution_count": 8,
   "id": "3c68dd8a",
   "metadata": {},
   "outputs": [
    {
     "name": "stdout",
     "output_type": "stream",
     "text": [
      "['218-68-9955', '165-73-3124', '432-47-4043', '563-93-1393', '153-93-3401', '670-09-7369', '123-05-9652', '812-13-2476', '726-13-1007', '825-05-4836']\n"
     ]
    }
   ],
   "source": [
    "import pandas as pd\n",
    "ssn = list(pd.read_csv(\"ssn.csv\"))\n",
    "print(ssn)"
   ]
  },
  {
   "cell_type": "markdown",
   "id": "5ed43c48",
   "metadata": {},
   "source": [
    "2. Access the first element of ssn using its forward index:"
   ]
  },
  {
   "cell_type": "code",
   "execution_count": 9,
   "id": "a1ec4511",
   "metadata": {},
   "outputs": [
    {
     "data": {
      "text/plain": [
       "'218-68-9955'"
      ]
     },
     "execution_count": 9,
     "metadata": {},
     "output_type": "execute_result"
    }
   ],
   "source": [
    "ssn[0]"
   ]
  },
  {
   "cell_type": "markdown",
   "id": "eef14552",
   "metadata": {},
   "source": [
    "3. Access the fourth element of ssn using its forward index:"
   ]
  },
  {
   "cell_type": "code",
   "execution_count": 10,
   "id": "19ee5fe3",
   "metadata": {},
   "outputs": [
    {
     "data": {
      "text/plain": [
       "'563-93-1393'"
      ]
     },
     "execution_count": 10,
     "metadata": {},
     "output_type": "execute_result"
    }
   ],
   "source": [
    "ssn[3]"
   ]
  },
  {
   "cell_type": "markdown",
   "id": "49d500bd",
   "metadata": {},
   "source": [
    "4. Access the last element of ssn using the len function:"
   ]
  },
  {
   "cell_type": "code",
   "execution_count": 11,
   "id": "3953290c",
   "metadata": {},
   "outputs": [
    {
     "data": {
      "text/plain": [
       "'825-05-4836'"
      ]
     },
     "execution_count": 11,
     "metadata": {},
     "output_type": "execute_result"
    }
   ],
   "source": [
    " ssn[len(ssn) - 1]"
   ]
  },
  {
   "cell_type": "markdown",
   "id": "8013e5f4",
   "metadata": {},
   "source": [
    "5. Access the last element of ssn using its backward index:"
   ]
  },
  {
   "cell_type": "code",
   "execution_count": 12,
   "id": "52ba7a7f",
   "metadata": {},
   "outputs": [
    {
     "data": {
      "text/plain": [
       "'825-05-4836'"
      ]
     },
     "execution_count": 12,
     "metadata": {},
     "output_type": "execute_result"
    }
   ],
   "source": [
    "ssn[-1]"
   ]
  },
  {
   "cell_type": "markdown",
   "id": "72fa883d",
   "metadata": {},
   "source": [
    "6. Access the first three elements of ssn using forward indices:"
   ]
  },
  {
   "cell_type": "code",
   "execution_count": 13,
   "id": "2aa23625",
   "metadata": {},
   "outputs": [
    {
     "data": {
      "text/plain": [
       "['165-73-3124', '432-47-4043']"
      ]
     },
     "execution_count": 13,
     "metadata": {},
     "output_type": "execute_result"
    }
   ],
   "source": [
    " ssn[1:3]"
   ]
  },
  {
   "cell_type": "markdown",
   "id": "85a2863e",
   "metadata": {},
   "source": [
    "7. Access the last two elements of ssn by slicing:"
   ]
  },
  {
   "cell_type": "code",
   "execution_count": 14,
   "id": "8a1502d8",
   "metadata": {},
   "outputs": [
    {
     "data": {
      "text/plain": [
       "['726-13-1007', '825-05-4836']"
      ]
     },
     "execution_count": 14,
     "metadata": {},
     "output_type": "execute_result"
    }
   ],
   "source": [
    " ssn[-2:]"
   ]
  },
  {
   "cell_type": "markdown",
   "id": "e677f1f4",
   "metadata": {},
   "source": [
    "8. Access the first two elements using backward indices:"
   ]
  },
  {
   "cell_type": "code",
   "execution_count": 15,
   "id": "afaf3db3",
   "metadata": {},
   "outputs": [
    {
     "data": {
      "text/plain": [
       "['218-68-9955',\n",
       " '165-73-3124',\n",
       " '432-47-4043',\n",
       " '563-93-1393',\n",
       " '153-93-3401',\n",
       " '670-09-7369',\n",
       " '123-05-9652',\n",
       " '812-13-2476']"
      ]
     },
     "execution_count": 15,
     "metadata": {},
     "output_type": "execute_result"
    }
   ],
   "source": [
    " ssn[:-2]"
   ]
  },
  {
   "cell_type": "markdown",
   "id": "7ad6d1bf",
   "metadata": {},
   "source": [
    "When we leave one side of the colon (:) blank, we are basically telling Python either to go until the\n",
    "end or start from the beginning of the list. It will automatically apply the rule of list slices that\n",
    "we just learned.\n",
    "\n",
    "9. Reverse the elements in the list:\n"
   ]
  },
  {
   "cell_type": "code",
   "execution_count": 16,
   "id": "1a25b0a9",
   "metadata": {},
   "outputs": [
    {
     "data": {
      "text/plain": [
       "['825-05-4836',\n",
       " '726-13-1007',\n",
       " '812-13-2476',\n",
       " '123-05-9652',\n",
       " '670-09-7369',\n",
       " '153-93-3401',\n",
       " '563-93-1393',\n",
       " '432-47-4043',\n",
       " '165-73-3124',\n",
       " '218-68-9955']"
      ]
     },
     "execution_count": 16,
     "metadata": {},
     "output_type": "execute_result"
    }
   ],
   "source": [
    "ssn[-1::-1]"
   ]
  },
  {
   "cell_type": "markdown",
   "id": "29a8c0b2",
   "metadata": {},
   "source": [
    "In this exercise, we learned how to access the list members with forward and backward indices.\n",
    "We’ll create a list in the next exercise.\n"
   ]
  },
  {
   "cell_type": "markdown",
   "id": "e1b38f4a",
   "metadata": {},
   "source": [
    "Exercise 2.02: Generating and Iterating through a List\n",
    "    \n",
    "In this exercise, we are going to examine various ways of generating a list and a nested list using\n",
    "the same file containing the list of social security numbers ( ssn. csv) that we used in the previous\n",
    "exercise.\n",
    "\n",
    "We are going to use the append method to add new elements to the list and a while loop to iterate\n",
    "through the list. To do so, let’s go through the following steps:\n",
    "    \n",
    "1. Open a new Jupyter Notebook and import the necessary Python libraries. Read from the\n",
    "ssn.csv file:"
   ]
  },
  {
   "cell_type": "code",
   "execution_count": 17,
   "id": "160ba88e",
   "metadata": {},
   "outputs": [],
   "source": [
    "import pandas as pd\n",
    "ssn = list(pd.read_csv(\"ssn.csv\"))"
   ]
  },
  {
   "cell_type": "markdown",
   "id": "abe1f139",
   "metadata": {},
   "source": [
    "2. Create a list using the append method. The append method from the Python library will\n",
    "allow you to add items to the list:"
   ]
  },
  {
   "cell_type": "code",
   "execution_count": 18,
   "id": "111e7ffd",
   "metadata": {},
   "outputs": [
    {
     "data": {
      "text/plain": [
       "['218-68-9955',\n",
       " '165-73-3124',\n",
       " '432-47-4043',\n",
       " '563-93-1393',\n",
       " '153-93-3401',\n",
       " '670-09-7369',\n",
       " '123-05-9652',\n",
       " '812-13-2476',\n",
       " '726-13-1007',\n",
       " '825-05-4836']"
      ]
     },
     "execution_count": 18,
     "metadata": {},
     "output_type": "execute_result"
    }
   ],
   "source": [
    "ssn_2 = []\n",
    "for x in ssn:\n",
    "    ssn_2.append(x)\n",
    "ssn_2"
   ]
  },
  {
   "cell_type": "markdown",
   "id": "c637fd08",
   "metadata": {},
   "source": [
    "3. Generate a list using the following command:\n"
   ]
  },
  {
   "cell_type": "code",
   "execution_count": 19,
   "id": "5fd89932",
   "metadata": {},
   "outputs": [
    {
     "data": {
      "text/plain": [
       "['soc: 218-68-9955',\n",
       " 'soc: 165-73-3124',\n",
       " 'soc: 432-47-4043',\n",
       " 'soc: 563-93-1393',\n",
       " 'soc: 153-93-3401',\n",
       " 'soc: 670-09-7369',\n",
       " 'soc: 123-05-9652',\n",
       " 'soc: 812-13-2476',\n",
       " 'soc: 726-13-1007',\n",
       " 'soc: 825-05-4836']"
      ]
     },
     "execution_count": 19,
     "metadata": {},
     "output_type": "execute_result"
    }
   ],
   "source": [
    "ssn_3 = [\"soc: \" + x for x in ssn_2]\n",
    "ssn_3"
   ]
  },
  {
   "cell_type": "markdown",
   "id": "7ba04da1",
   "metadata": {},
   "source": [
    "This is list comprehension, which is a very powerful tool that we need to master. The power\n",
    "of list comprehension comes from the fact that we can use conditionals such as for..in inside the\n",
    "comprehension itself. This will be discussed in detail in Chapter 2, Advanced Operations on Built-in\n",
    "Data Structures.\n",
    "\n",
    "4. Use a while loop to iterate over the list:"
   ]
  },
  {
   "cell_type": "code",
   "execution_count": 21,
   "id": "1cbbb986",
   "metadata": {},
   "outputs": [
    {
     "name": "stdout",
     "output_type": "stream",
     "text": [
      "soc: 218-68-9955\n",
      "soc: 165-73-3124\n",
      "soc: 432-47-4043\n",
      "soc: 563-93-1393\n",
      "soc: 153-93-3401\n",
      "soc: 670-09-7369\n",
      "soc: 123-05-9652\n",
      "soc: 812-13-2476\n",
      "soc: 726-13-1007\n",
      "soc: 825-05-4836\n"
     ]
    }
   ],
   "source": [
    "i = 0\n",
    "while i < len(ssn_3):\n",
    "    print(ssn_3[i])\n",
    "    i += 1"
   ]
  },
  {
   "cell_type": "markdown",
   "id": "898dfd23",
   "metadata": {},
   "source": [
    "5. Search all the social security numbers with the number 5 in them:\n"
   ]
  },
  {
   "cell_type": "code",
   "execution_count": 22,
   "id": "9c8c3b79",
   "metadata": {},
   "outputs": [
    {
     "data": {
      "text/plain": [
       "['soc: 218-68-9955',\n",
       " 'soc: 563-93-1393',\n",
       " 'soc: 153-93-3401',\n",
       " 'soc: 670-09-7369',\n",
       " 'soc: 123-05-9652']"
      ]
     },
     "execution_count": 22,
     "metadata": {},
     "output_type": "execute_result"
    }
   ],
   "source": [
    "numbers = [x for x in ssn_3 if \"9\" in x]\n",
    "numbers"
   ]
  },
  {
   "cell_type": "markdown",
   "id": "285b4aad",
   "metadata": {},
   "source": [
    "Let’s explore a few more list operations. We are going to use the + operator to add the contents of\n",
    "two lists and use the extend keyword to replace the contents of the existing list with another list.\n",
    "\n",
    "6. Generate a list by adding the two lists. Here, we will just use the + operator:\n"
   ]
  },
  {
   "cell_type": "code",
   "execution_count": 23,
   "id": "ae47b763",
   "metadata": {},
   "outputs": [
    {
     "data": {
      "text/plain": [
       "['218-68-9955',\n",
       " '165-73-3124',\n",
       " '432-47-4043',\n",
       " '563-93-1393',\n",
       " '153-93-3401',\n",
       " '670-09-7369',\n",
       " '123-05-9652',\n",
       " '812-13-2476',\n",
       " '726-13-1007',\n",
       " '825-05-4836',\n",
       " '102-90-0314',\n",
       " '247-17-2338',\n",
       " '318-22-2760']"
      ]
     },
     "execution_count": 23,
     "metadata": {},
     "output_type": "execute_result"
    }
   ],
   "source": [
    "ssn_4 = [\"102-90-0314\" , \"247-17-2338\" , \"318-22-2760\"]\n",
    "ssn_5 = ssn + ssn_4\n",
    "ssn_5"
   ]
  },
  {
   "cell_type": "markdown",
   "id": "64a74ccc",
   "metadata": {},
   "source": [
    "7. Extend a string using the extend keyword:\n"
   ]
  },
  {
   "cell_type": "code",
   "execution_count": 24,
   "id": "c1e970d8",
   "metadata": {},
   "outputs": [
    {
     "data": {
      "text/plain": [
       "['218-68-9955',\n",
       " '165-73-3124',\n",
       " '432-47-4043',\n",
       " '563-93-1393',\n",
       " '153-93-3401',\n",
       " '670-09-7369',\n",
       " '123-05-9652',\n",
       " '812-13-2476',\n",
       " '726-13-1007',\n",
       " '825-05-4836',\n",
       " '102-90-0314',\n",
       " '247-17-2338',\n",
       " '318-22-2760']"
      ]
     },
     "execution_count": 24,
     "metadata": {},
     "output_type": "execute_result"
    }
   ],
   "source": [
    "ssn_2.extend(ssn_4)\n",
    "ssn_2"
   ]
  },
  {
   "cell_type": "markdown",
   "id": "f8304b2b",
   "metadata": {},
   "source": [
    "8. Now, let’s loop over the first list and create a nested list inside that loop that goes over the\n",
    "second list:\n"
   ]
  },
  {
   "cell_type": "code",
   "execution_count": 25,
   "id": "0cefd3b7",
   "metadata": {},
   "outputs": [
    {
     "name": "stdout",
     "output_type": "stream",
     "text": [
      "218-68-9955 , 218-68-9955\n",
      "218-68-9955 , 165-73-3124\n",
      "218-68-9955 , 432-47-4043\n",
      "218-68-9955 , 563-93-1393\n",
      "218-68-9955 , 153-93-3401\n",
      "218-68-9955 , 670-09-7369\n",
      "218-68-9955 , 123-05-9652\n",
      "218-68-9955 , 812-13-2476\n",
      "218-68-9955 , 726-13-1007\n",
      "218-68-9955 , 825-05-4836\n",
      "218-68-9955 , 102-90-0314\n",
      "218-68-9955 , 247-17-2338\n",
      "218-68-9955 , 318-22-2760\n",
      "165-73-3124 , 218-68-9955\n",
      "165-73-3124 , 165-73-3124\n",
      "165-73-3124 , 432-47-4043\n",
      "165-73-3124 , 563-93-1393\n",
      "165-73-3124 , 153-93-3401\n",
      "165-73-3124 , 670-09-7369\n",
      "165-73-3124 , 123-05-9652\n",
      "165-73-3124 , 812-13-2476\n",
      "165-73-3124 , 726-13-1007\n",
      "165-73-3124 , 825-05-4836\n",
      "165-73-3124 , 102-90-0314\n",
      "165-73-3124 , 247-17-2338\n",
      "165-73-3124 , 318-22-2760\n",
      "432-47-4043 , 218-68-9955\n",
      "432-47-4043 , 165-73-3124\n",
      "432-47-4043 , 432-47-4043\n",
      "432-47-4043 , 563-93-1393\n",
      "432-47-4043 , 153-93-3401\n",
      "432-47-4043 , 670-09-7369\n",
      "432-47-4043 , 123-05-9652\n",
      "432-47-4043 , 812-13-2476\n",
      "432-47-4043 , 726-13-1007\n",
      "432-47-4043 , 825-05-4836\n",
      "432-47-4043 , 102-90-0314\n",
      "432-47-4043 , 247-17-2338\n",
      "432-47-4043 , 318-22-2760\n",
      "563-93-1393 , 218-68-9955\n",
      "563-93-1393 , 165-73-3124\n",
      "563-93-1393 , 432-47-4043\n",
      "563-93-1393 , 563-93-1393\n",
      "563-93-1393 , 153-93-3401\n",
      "563-93-1393 , 670-09-7369\n",
      "563-93-1393 , 123-05-9652\n",
      "563-93-1393 , 812-13-2476\n",
      "563-93-1393 , 726-13-1007\n",
      "563-93-1393 , 825-05-4836\n",
      "563-93-1393 , 102-90-0314\n",
      "563-93-1393 , 247-17-2338\n",
      "563-93-1393 , 318-22-2760\n",
      "153-93-3401 , 218-68-9955\n",
      "153-93-3401 , 165-73-3124\n",
      "153-93-3401 , 432-47-4043\n",
      "153-93-3401 , 563-93-1393\n",
      "153-93-3401 , 153-93-3401\n",
      "153-93-3401 , 670-09-7369\n",
      "153-93-3401 , 123-05-9652\n",
      "153-93-3401 , 812-13-2476\n",
      "153-93-3401 , 726-13-1007\n",
      "153-93-3401 , 825-05-4836\n",
      "153-93-3401 , 102-90-0314\n",
      "153-93-3401 , 247-17-2338\n",
      "153-93-3401 , 318-22-2760\n",
      "670-09-7369 , 218-68-9955\n",
      "670-09-7369 , 165-73-3124\n",
      "670-09-7369 , 432-47-4043\n",
      "670-09-7369 , 563-93-1393\n",
      "670-09-7369 , 153-93-3401\n",
      "670-09-7369 , 670-09-7369\n",
      "670-09-7369 , 123-05-9652\n",
      "670-09-7369 , 812-13-2476\n",
      "670-09-7369 , 726-13-1007\n",
      "670-09-7369 , 825-05-4836\n",
      "670-09-7369 , 102-90-0314\n",
      "670-09-7369 , 247-17-2338\n",
      "670-09-7369 , 318-22-2760\n",
      "123-05-9652 , 218-68-9955\n",
      "123-05-9652 , 165-73-3124\n",
      "123-05-9652 , 432-47-4043\n",
      "123-05-9652 , 563-93-1393\n",
      "123-05-9652 , 153-93-3401\n",
      "123-05-9652 , 670-09-7369\n",
      "123-05-9652 , 123-05-9652\n",
      "123-05-9652 , 812-13-2476\n",
      "123-05-9652 , 726-13-1007\n",
      "123-05-9652 , 825-05-4836\n",
      "123-05-9652 , 102-90-0314\n",
      "123-05-9652 , 247-17-2338\n",
      "123-05-9652 , 318-22-2760\n",
      "812-13-2476 , 218-68-9955\n",
      "812-13-2476 , 165-73-3124\n",
      "812-13-2476 , 432-47-4043\n",
      "812-13-2476 , 563-93-1393\n",
      "812-13-2476 , 153-93-3401\n",
      "812-13-2476 , 670-09-7369\n",
      "812-13-2476 , 123-05-9652\n",
      "812-13-2476 , 812-13-2476\n",
      "812-13-2476 , 726-13-1007\n",
      "812-13-2476 , 825-05-4836\n",
      "812-13-2476 , 102-90-0314\n",
      "812-13-2476 , 247-17-2338\n",
      "812-13-2476 , 318-22-2760\n",
      "726-13-1007 , 218-68-9955\n",
      "726-13-1007 , 165-73-3124\n",
      "726-13-1007 , 432-47-4043\n",
      "726-13-1007 , 563-93-1393\n",
      "726-13-1007 , 153-93-3401\n",
      "726-13-1007 , 670-09-7369\n",
      "726-13-1007 , 123-05-9652\n",
      "726-13-1007 , 812-13-2476\n",
      "726-13-1007 , 726-13-1007\n",
      "726-13-1007 , 825-05-4836\n",
      "726-13-1007 , 102-90-0314\n",
      "726-13-1007 , 247-17-2338\n",
      "726-13-1007 , 318-22-2760\n",
      "825-05-4836 , 218-68-9955\n",
      "825-05-4836 , 165-73-3124\n",
      "825-05-4836 , 432-47-4043\n",
      "825-05-4836 , 563-93-1393\n",
      "825-05-4836 , 153-93-3401\n",
      "825-05-4836 , 670-09-7369\n",
      "825-05-4836 , 123-05-9652\n",
      "825-05-4836 , 812-13-2476\n",
      "825-05-4836 , 726-13-1007\n",
      "825-05-4836 , 825-05-4836\n",
      "825-05-4836 , 102-90-0314\n",
      "825-05-4836 , 247-17-2338\n",
      "825-05-4836 , 318-22-2760\n",
      "102-90-0314 , 218-68-9955\n",
      "102-90-0314 , 165-73-3124\n",
      "102-90-0314 , 432-47-4043\n",
      "102-90-0314 , 563-93-1393\n",
      "102-90-0314 , 153-93-3401\n",
      "102-90-0314 , 670-09-7369\n",
      "102-90-0314 , 123-05-9652\n",
      "102-90-0314 , 812-13-2476\n",
      "102-90-0314 , 726-13-1007\n",
      "102-90-0314 , 825-05-4836\n",
      "102-90-0314 , 102-90-0314\n",
      "102-90-0314 , 247-17-2338\n",
      "102-90-0314 , 318-22-2760\n",
      "247-17-2338 , 218-68-9955\n",
      "247-17-2338 , 165-73-3124\n",
      "247-17-2338 , 432-47-4043\n",
      "247-17-2338 , 563-93-1393\n",
      "247-17-2338 , 153-93-3401\n",
      "247-17-2338 , 670-09-7369\n",
      "247-17-2338 , 123-05-9652\n",
      "247-17-2338 , 812-13-2476\n",
      "247-17-2338 , 726-13-1007\n",
      "247-17-2338 , 825-05-4836\n",
      "247-17-2338 , 102-90-0314\n",
      "247-17-2338 , 247-17-2338\n",
      "247-17-2338 , 318-22-2760\n",
      "318-22-2760 , 218-68-9955\n",
      "318-22-2760 , 165-73-3124\n",
      "318-22-2760 , 432-47-4043\n",
      "318-22-2760 , 563-93-1393\n",
      "318-22-2760 , 153-93-3401\n",
      "318-22-2760 , 670-09-7369\n",
      "318-22-2760 , 123-05-9652\n",
      "318-22-2760 , 812-13-2476\n",
      "318-22-2760 , 726-13-1007\n",
      "318-22-2760 , 825-05-4836\n",
      "318-22-2760 , 102-90-0314\n",
      "318-22-2760 , 247-17-2338\n",
      "318-22-2760 , 318-22-2760\n"
     ]
    }
   ],
   "source": [
    "for x in ssn_2:\n",
    "    for y in ssn_5:\n",
    "        print(str(x) + ' , ' + str(y))"
   ]
  },
  {
   "cell_type": "markdown",
   "id": "0139d57d",
   "metadata": {},
   "source": [
    "In this exercise, we used the built-in methods of Python to manipulate lists. In the next exercise,\n",
    "we’ll check whether the elements or members in a dataset are present as per our expectations.\n",
    "\n",
    "Exercise 2.03: Iterating over a List and Checking Membership\n",
    "\n",
    "    This exercise will demonstrate how we can iterate over a list and verify that the values are as\n",
    "expected. This is a manual test that can often be done while dealing with a reasonably sized\n",
    "dataset for business case scenarios. Let’s go through the following steps to check the membership\n",
    "of values and whether they exist in the .csv file:\n",
    "\n",
    "    1. Import the necessary Python libraries and read from the car_models.csv file:\n"
   ]
  },
  {
   "cell_type": "code",
   "execution_count": 26,
   "id": "6813b905",
   "metadata": {},
   "outputs": [
    {
     "data": {
      "text/plain": [
       "['Escalade ',\n",
       " ' X5 M',\n",
       " 'D150',\n",
       " 'Camaro',\n",
       " 'F350',\n",
       " 'Aurora',\n",
       " 'S8',\n",
       " 'E350',\n",
       " 'Tiburon',\n",
       " 'F-Series Super Duty ']"
      ]
     },
     "execution_count": 26,
     "metadata": {},
     "output_type": "execute_result"
    }
   ],
   "source": [
    "import pandas as pd\n",
    "car_models = list(pd.read_csv(\"car_models.csv\"))\n",
    "car_models"
   ]
  },
  {
   "cell_type": "markdown",
   "id": "11ad39c7",
   "metadata": {},
   "source": [
    "2. Iterate over a list:\n"
   ]
  },
  {
   "cell_type": "code",
   "execution_count": 27,
   "id": "a421ed4c",
   "metadata": {},
   "outputs": [
    {
     "name": "stdout",
     "output_type": "stream",
     "text": [
      "Escalade \n",
      " X5 M\n",
      "D150\n",
      "Camaro\n",
      "F350\n",
      "Aurora\n",
      "S8\n",
      "E350\n",
      "Tiburon\n",
      "F-Series Super Duty \n"
     ]
    }
   ],
   "source": [
    "list_1 = [x for x in car_models]\n",
    "for i in range(0, len(list_1)):\n",
    "    print(list_1[i])"
   ]
  },
  {
   "cell_type": "markdown",
   "id": "49f0369c",
   "metadata": {},
   "source": [
    "However, this is not very Pythonic. Being Pythonic means to follow and conform to a set of best\n",
    "practices and conventions that have been created over the years by thousands of capable developers.\n",
    "In this case, this means we could use the in keyword in the for..in conditional because Python does\n",
    "not have index initialization, bounds checking, or index incrementing, unlike traditional languages.\n",
    "Python uses syntactic sugar to make iterating through lists easy and readable. In other languages,\n",
    "you might have to create a variable (index initialization) as you loop over the list check that variable\n",
    "(bounds checking) since it will be incremented in the loop (index incrementing).\n",
    "\n",
    "3. Write the following code to see the Pythonic way of iterating over a list:"
   ]
  },
  {
   "cell_type": "code",
   "execution_count": 28,
   "id": "c8f79a71",
   "metadata": {},
   "outputs": [
    {
     "name": "stdout",
     "output_type": "stream",
     "text": [
      "Escalade \n",
      " X5 M\n",
      "D150\n",
      "Camaro\n",
      "F350\n",
      "Aurora\n",
      "S8\n",
      "E350\n",
      "Tiburon\n",
      "F-Series Super Duty \n"
     ]
    }
   ],
   "source": [
    "for i in list_1:\n",
    "    print(i)"
   ]
  },
  {
   "cell_type": "markdown",
   "id": "5e6140a1",
   "metadata": {},
   "source": [
    "Notice that in the second method, we do not need a counter anymore to access the list index;\n",
    "instead, Python’s in operator gives us the element at the ith position directly.\n",
    "\n",
    "4. Check whether the strings D150 and Mustang are in the list using the in operator:"
   ]
  },
  {
   "cell_type": "code",
   "execution_count": 29,
   "id": "b473c271",
   "metadata": {},
   "outputs": [
    {
     "data": {
      "text/plain": [
       "True"
      ]
     },
     "execution_count": 29,
     "metadata": {},
     "output_type": "execute_result"
    }
   ],
   "source": [
    "\"D150\" in list_1"
   ]
  },
  {
   "cell_type": "code",
   "execution_count": 30,
   "id": "4cf74fa5",
   "metadata": {},
   "outputs": [
    {
     "data": {
      "text/plain": [
       "False"
      ]
     },
     "execution_count": 30,
     "metadata": {},
     "output_type": "execute_result"
    }
   ],
   "source": [
    "\"Mustang\" in list_1"
   ]
  },
  {
   "cell_type": "markdown",
   "id": "c27f73ba",
   "metadata": {},
   "source": [
    "In this exercise, we’ve seen how to iterate over a list and verified the membership of each element.\n",
    "This is an important skill. Often, when working with large applications, manually checking a list\n",
    "could be useful. If at any time you are unsure of a list, you can easily verify what values are present.\n",
    "Now, we will see how we can perform a sort operation on a list.\n",
    "\n",
    "Exercise 2.04: Sorting a List\n",
    "\n",
    "In this exercise, we will sort a list of numbers, first by using the sort method and then by using the\n",
    "reverse method. To do so, let’s go through the following steps:\n",
    "\n",
    "1. Open a new Jupyter Notebook and import the necessary Python libraries:"
   ]
  },
  {
   "cell_type": "code",
   "execution_count": 31,
   "id": "09d7e096",
   "metadata": {},
   "outputs": [],
   "source": [
    "import pandas as pd\n",
    "ssn = list(pd.read_csv(\"ssn.csv\"))"
   ]
  },
  {
   "cell_type": "markdown",
   "id": "a748211c",
   "metadata": {},
   "source": [
    "2. Use the sort method with reverse=True:"
   ]
  },
  {
   "cell_type": "code",
   "execution_count": 32,
   "id": "6ebb44d7",
   "metadata": {},
   "outputs": [
    {
     "data": {
      "text/plain": [
       "[100,\n",
       " 99,\n",
       " 98,\n",
       " 97,\n",
       " 96,\n",
       " 95,\n",
       " 94,\n",
       " 93,\n",
       " 92,\n",
       " 91,\n",
       " 90,\n",
       " 89,\n",
       " 88,\n",
       " 87,\n",
       " 86,\n",
       " 85,\n",
       " 84,\n",
       " 83,\n",
       " 82,\n",
       " 81,\n",
       " 80,\n",
       " 79,\n",
       " 78,\n",
       " 77,\n",
       " 76,\n",
       " 75,\n",
       " 74,\n",
       " 73,\n",
       " 72,\n",
       " 71,\n",
       " 70,\n",
       " 69,\n",
       " 68,\n",
       " 67,\n",
       " 66,\n",
       " 65,\n",
       " 64,\n",
       " 63,\n",
       " 62,\n",
       " 61,\n",
       " 60,\n",
       " 59,\n",
       " 58,\n",
       " 57,\n",
       " 56,\n",
       " 55,\n",
       " 54,\n",
       " 53,\n",
       " 52,\n",
       " 51,\n",
       " 50,\n",
       " 49,\n",
       " 48,\n",
       " 47,\n",
       " 46,\n",
       " 45,\n",
       " 44,\n",
       " 43,\n",
       " 42,\n",
       " 41,\n",
       " 40,\n",
       " 39,\n",
       " 38,\n",
       " 37,\n",
       " 36,\n",
       " 35,\n",
       " 34,\n",
       " 33,\n",
       " 32,\n",
       " 31,\n",
       " 30,\n",
       " 29,\n",
       " 28,\n",
       " 27,\n",
       " 26,\n",
       " 25,\n",
       " 24,\n",
       " 23,\n",
       " 22,\n",
       " 21,\n",
       " 20,\n",
       " 19,\n",
       " 18,\n",
       " 17,\n",
       " 16,\n",
       " 15,\n",
       " 14,\n",
       " 13,\n",
       " 12,\n",
       " 11,\n",
       " 10,\n",
       " 9,\n",
       " 8,\n",
       " 7,\n",
       " 6,\n",
       " 5,\n",
       " 4,\n",
       " 3,\n",
       " 2,\n",
       " 1,\n",
       " 0]"
      ]
     },
     "execution_count": 32,
     "metadata": {},
     "output_type": "execute_result"
    }
   ],
   "source": [
    "list_1 = [*range(0, 101, 1)]\n",
    "list_1.sort(reverse=True)\n",
    "list_1"
   ]
  },
  {
   "cell_type": "markdown",
   "id": "95134865",
   "metadata": {},
   "source": [
    "3. Use the reverse method directly to achieve this result:"
   ]
  },
  {
   "cell_type": "code",
   "execution_count": 33,
   "id": "4bec2380",
   "metadata": {},
   "outputs": [
    {
     "data": {
      "text/plain": [
       "[0,\n",
       " 1,\n",
       " 2,\n",
       " 3,\n",
       " 4,\n",
       " 5,\n",
       " 6,\n",
       " 7,\n",
       " 8,\n",
       " 9,\n",
       " 10,\n",
       " 11,\n",
       " 12,\n",
       " 13,\n",
       " 14,\n",
       " 15,\n",
       " 16,\n",
       " 17,\n",
       " 18,\n",
       " 19,\n",
       " 20,\n",
       " 21,\n",
       " 22,\n",
       " 23,\n",
       " 24,\n",
       " 25,\n",
       " 26,\n",
       " 27,\n",
       " 28,\n",
       " 29,\n",
       " 30,\n",
       " 31,\n",
       " 32,\n",
       " 33,\n",
       " 34,\n",
       " 35,\n",
       " 36,\n",
       " 37,\n",
       " 38,\n",
       " 39,\n",
       " 40,\n",
       " 41,\n",
       " 42,\n",
       " 43,\n",
       " 44,\n",
       " 45,\n",
       " 46,\n",
       " 47,\n",
       " 48,\n",
       " 49,\n",
       " 50,\n",
       " 51,\n",
       " 52,\n",
       " 53,\n",
       " 54,\n",
       " 55,\n",
       " 56,\n",
       " 57,\n",
       " 58,\n",
       " 59,\n",
       " 60,\n",
       " 61,\n",
       " 62,\n",
       " 63,\n",
       " 64,\n",
       " 65,\n",
       " 66,\n",
       " 67,\n",
       " 68,\n",
       " 69,\n",
       " 70,\n",
       " 71,\n",
       " 72,\n",
       " 73,\n",
       " 74,\n",
       " 75,\n",
       " 76,\n",
       " 77,\n",
       " 78,\n",
       " 79,\n",
       " 80,\n",
       " 81,\n",
       " 82,\n",
       " 83,\n",
       " 84,\n",
       " 85,\n",
       " 86,\n",
       " 87,\n",
       " 88,\n",
       " 89,\n",
       " 90,\n",
       " 91,\n",
       " 92,\n",
       " 93,\n",
       " 94,\n",
       " 95,\n",
       " 96,\n",
       " 97,\n",
       " 98,\n",
       " 99,\n",
       " 100]"
      ]
     },
     "execution_count": 33,
     "metadata": {},
     "output_type": "execute_result"
    }
   ],
   "source": [
    "list_1.reverse()\n",
    "list_1"
   ]
  },
  {
   "cell_type": "markdown",
   "id": "a75dc000",
   "metadata": {},
   "source": [
    "The difference b etween t he s ort m ethod a nd t he r everse m ethod i s t hat w e c an u se s ort with\n",
    "customized sorting, whereas we can only use reverse to reverse a list. Also, both methods work\n",
    "in-place, so be aware of this while using them. Now, let’s create a list with random numbers.\n",
    "Random numbers can be very useful in a variety of situations and preprocessing data is a common\n",
    "process in machine learning.\n",
    "\n",
    "Exercise 2.05: Generating a Random List\n",
    "\n",
    "In this exercise, we will be generating a list with random numbers using the random library in\n",
    "Python and performing mathematical operations on them. To do so, let’s go through the following\n",
    "steps:\n",
    "\n",
    "1. Import the random library:"
   ]
  },
  {
   "cell_type": "code",
   "execution_count": 34,
   "id": "37ff9308",
   "metadata": {},
   "outputs": [],
   "source": [
    "import random"
   ]
  },
  {
   "cell_type": "markdown",
   "id": "667a8066",
   "metadata": {},
   "source": [
    "2. Use the randint method to generate some random integers and add them to a list:\n"
   ]
  },
  {
   "cell_type": "code",
   "execution_count": 35,
   "id": "4ae4b7dc",
   "metadata": {},
   "outputs": [],
   "source": [
    "list_1 = [random.randint(0, 30) for x in range (0, 100)]"
   ]
  },
  {
   "cell_type": "markdown",
   "id": "f57d9d34",
   "metadata": {},
   "source": [
    "3. Let’s print the list. Note that there will be duplicate values in list_1:\n"
   ]
  },
  {
   "cell_type": "code",
   "execution_count": 36,
   "id": "a07caa2b",
   "metadata": {},
   "outputs": [
    {
     "data": {
      "text/plain": [
       "[16,\n",
       " 9,\n",
       " 9,\n",
       " 1,\n",
       " 6,\n",
       " 11,\n",
       " 23,\n",
       " 15,\n",
       " 21,\n",
       " 9,\n",
       " 24,\n",
       " 4,\n",
       " 21,\n",
       " 21,\n",
       " 30,\n",
       " 1,\n",
       " 30,\n",
       " 8,\n",
       " 19,\n",
       " 2,\n",
       " 28,\n",
       " 16,\n",
       " 30,\n",
       " 29,\n",
       " 20,\n",
       " 3,\n",
       " 21,\n",
       " 22,\n",
       " 16,\n",
       " 7,\n",
       " 30,\n",
       " 16,\n",
       " 29,\n",
       " 9,\n",
       " 22,\n",
       " 22,\n",
       " 30,\n",
       " 21,\n",
       " 10,\n",
       " 26,\n",
       " 9,\n",
       " 21,\n",
       " 17,\n",
       " 9,\n",
       " 9,\n",
       " 6,\n",
       " 6,\n",
       " 24,\n",
       " 4,\n",
       " 4,\n",
       " 15,\n",
       " 11,\n",
       " 10,\n",
       " 6,\n",
       " 19,\n",
       " 6,\n",
       " 22,\n",
       " 26,\n",
       " 1,\n",
       " 18,\n",
       " 0,\n",
       " 12,\n",
       " 4,\n",
       " 9,\n",
       " 10,\n",
       " 28,\n",
       " 5,\n",
       " 25,\n",
       " 20,\n",
       " 26,\n",
       " 3,\n",
       " 9,\n",
       " 19,\n",
       " 10,\n",
       " 22,\n",
       " 8,\n",
       " 1,\n",
       " 22,\n",
       " 12,\n",
       " 25,\n",
       " 21,\n",
       " 23,\n",
       " 30,\n",
       " 14,\n",
       " 5,\n",
       " 6,\n",
       " 28,\n",
       " 3,\n",
       " 7,\n",
       " 8,\n",
       " 4,\n",
       " 16,\n",
       " 8,\n",
       " 22,\n",
       " 10,\n",
       " 15,\n",
       " 16,\n",
       " 24,\n",
       " 3,\n",
       " 30]"
      ]
     },
     "execution_count": 36,
     "metadata": {},
     "output_type": "execute_result"
    }
   ],
   "source": [
    "list_1"
   ]
  },
  {
   "cell_type": "markdown",
   "id": "6eeb5975",
   "metadata": {},
   "source": [
    "4. Let’s find the square of each element:"
   ]
  },
  {
   "cell_type": "code",
   "execution_count": 37,
   "id": "5d144172",
   "metadata": {},
   "outputs": [
    {
     "data": {
      "text/plain": [
       "[256,\n",
       " 81,\n",
       " 81,\n",
       " 1,\n",
       " 36,\n",
       " 121,\n",
       " 529,\n",
       " 225,\n",
       " 441,\n",
       " 81,\n",
       " 576,\n",
       " 16,\n",
       " 441,\n",
       " 441,\n",
       " 900,\n",
       " 1,\n",
       " 900,\n",
       " 64,\n",
       " 361,\n",
       " 4,\n",
       " 784,\n",
       " 256,\n",
       " 900,\n",
       " 841,\n",
       " 400,\n",
       " 9,\n",
       " 441,\n",
       " 484,\n",
       " 256,\n",
       " 49,\n",
       " 900,\n",
       " 256,\n",
       " 841,\n",
       " 81,\n",
       " 484,\n",
       " 484,\n",
       " 900,\n",
       " 441,\n",
       " 100,\n",
       " 676,\n",
       " 81,\n",
       " 441,\n",
       " 289,\n",
       " 81,\n",
       " 81,\n",
       " 36,\n",
       " 36,\n",
       " 576,\n",
       " 16,\n",
       " 16,\n",
       " 225,\n",
       " 121,\n",
       " 100,\n",
       " 36,\n",
       " 361,\n",
       " 36,\n",
       " 484,\n",
       " 676,\n",
       " 1,\n",
       " 324,\n",
       " 0,\n",
       " 144,\n",
       " 16,\n",
       " 81,\n",
       " 100,\n",
       " 784,\n",
       " 25,\n",
       " 625,\n",
       " 400,\n",
       " 676,\n",
       " 9,\n",
       " 81,\n",
       " 361,\n",
       " 100,\n",
       " 484,\n",
       " 64,\n",
       " 1,\n",
       " 484,\n",
       " 144,\n",
       " 625,\n",
       " 441,\n",
       " 529,\n",
       " 900,\n",
       " 196,\n",
       " 25,\n",
       " 36,\n",
       " 784,\n",
       " 9,\n",
       " 49,\n",
       " 64,\n",
       " 16,\n",
       " 256,\n",
       " 64,\n",
       " 484,\n",
       " 100,\n",
       " 225,\n",
       " 256,\n",
       " 576,\n",
       " 9,\n",
       " 900]"
      ]
     },
     "execution_count": 37,
     "metadata": {},
     "output_type": "execute_result"
    }
   ],
   "source": [
    "list_2 = [x**2 for x in list_1]\n",
    "list_2"
   ]
  },
  {
   "cell_type": "markdown",
   "id": "b1fccbd9",
   "metadata": {},
   "source": [
    "5. Now let’s find the log of the 1 elements of list_2:"
   ]
  },
  {
   "cell_type": "code",
   "execution_count": 38,
   "id": "6c96ccf5",
   "metadata": {},
   "outputs": [
    {
     "data": {
      "text/plain": [
       "[2.4099331233312946,\n",
       " 1.9138138523837167,\n",
       " 1.9138138523837167,\n",
       " 0.30102999566398114,\n",
       " 1.5682017240669948,\n",
       " 2.086359830674748,\n",
       " 2.7242758696007887,\n",
       " 2.3541084391474008,\n",
       " 2.6454222693490914,\n",
       " 1.9138138523837167,\n",
       " 2.7611758131557314,\n",
       " 1.2304489213782739,\n",
       " 2.6454222693490914,\n",
       " 2.6454222693490914,\n",
       " 2.9547247909790624,\n",
       " 0.30102999566398114,\n",
       " 2.9547247909790624,\n",
       " 1.8129133566428552,\n",
       " 2.558708570533166,\n",
       " 0.6989700043360187,\n",
       " 2.8948696567452523,\n",
       " 2.4099331233312946,\n",
       " 2.9547247909790624,\n",
       " 2.925312091499649,\n",
       " 2.603144372620182,\n",
       " 1.0,\n",
       " 2.6454222693490914,\n",
       " 2.6857417386022635,\n",
       " 2.4099331233312946,\n",
       " 1.6989700043360185,\n",
       " 2.9547247909790624,\n",
       " 2.4099331233312946,\n",
       " 2.925312091499649,\n",
       " 1.9138138523837167,\n",
       " 2.6857417386022635,\n",
       " 2.6857417386022635,\n",
       " 2.9547247909790624,\n",
       " 2.6454222693490914,\n",
       " 2.0043213737826426,\n",
       " 2.8305886686851442,\n",
       " 1.9138138523837167,\n",
       " 2.6454222693490914,\n",
       " 2.4623979978989556,\n",
       " 1.9138138523837167,\n",
       " 1.9138138523837167,\n",
       " 1.5682017240669948,\n",
       " 1.5682017240669948,\n",
       " 2.7611758131557314,\n",
       " 1.2304489213782739,\n",
       " 1.2304489213782739,\n",
       " 2.3541084391474008,\n",
       " 2.086359830674748,\n",
       " 2.0043213737826426,\n",
       " 1.5682017240669948,\n",
       " 2.558708570533166,\n",
       " 1.5682017240669948,\n",
       " 2.6857417386022635,\n",
       " 2.8305886686851442,\n",
       " 0.30102999566398114,\n",
       " 2.511883360978874,\n",
       " 0.0,\n",
       " 2.1613680022349744,\n",
       " 1.2304489213782739,\n",
       " 1.9138138523837167,\n",
       " 2.0043213737826426,\n",
       " 2.8948696567452523,\n",
       " 1.414973347970818,\n",
       " 2.796574333210429,\n",
       " 2.603144372620182,\n",
       " 2.8305886686851442,\n",
       " 1.0,\n",
       " 1.9138138523837167,\n",
       " 2.558708570533166,\n",
       " 2.0043213737826426,\n",
       " 2.6857417386022635,\n",
       " 1.8129133566428552,\n",
       " 0.30102999566398114,\n",
       " 2.6857417386022635,\n",
       " 2.1613680022349744,\n",
       " 2.796574333210429,\n",
       " 2.6454222693490914,\n",
       " 2.7242758696007887,\n",
       " 2.9547247909790624,\n",
       " 2.294466226161593,\n",
       " 1.414973347970818,\n",
       " 1.5682017240669948,\n",
       " 2.8948696567452523,\n",
       " 1.0,\n",
       " 1.6989700043360185,\n",
       " 1.8129133566428552,\n",
       " 1.2304489213782739,\n",
       " 2.4099331233312946,\n",
       " 1.8129133566428552,\n",
       " 2.6857417386022635,\n",
       " 2.0043213737826426,\n",
       " 2.3541084391474008,\n",
       " 2.4099331233312946,\n",
       " 2.7611758131557314,\n",
       " 1.0,\n",
       " 2.9547247909790624]"
      ]
     },
     "execution_count": 38,
     "metadata": {},
     "output_type": "execute_result"
    }
   ],
   "source": [
    "import math\n",
    "list_2 = [math.log(x+1,10) for x in list_2]\n",
    "list_2"
   ]
  },
  {
   "cell_type": "markdown",
   "id": "568eac35",
   "metadata": {},
   "source": [
    "In this exercise, we worked on random variables, lists comprehension, and preprocessing data. Let’s\n",
    "put what we have learned so far together and go through an activity to practice how to handle\n",
    "lists.\n",
    "\n",
    "SETS\n",
    "\n",
    "A set, mathematically speaking, is just a collection of well-defined d istinct o bjects. P ython gives\n",
    "us a straightforward way to deal with them using its set data type.\n",
    "\n",
    "Introduction to Sets\n",
    "\n",
    "With the last list that we generated in the previous section; we are going to revisit the problem of\n",
    "getting rid of duplicates from it. We can achieve that with the following line of code"
   ]
  },
  {
   "cell_type": "code",
   "execution_count": 39,
   "id": "3ae7e171",
   "metadata": {},
   "outputs": [],
   "source": [
    "list_12 = list(set(list_1))"
   ]
  },
  {
   "cell_type": "markdown",
   "id": "b51f5a2b",
   "metadata": {},
   "source": [
    "If we print this, we will see that it only contains unique numbers. We used the set data type to turn\n",
    "the first list into a set, thus getting rid of all duplicate elements, and then used the list function to\n",
    "turn it into a list from a set once more:\n"
   ]
  },
  {
   "cell_type": "code",
   "execution_count": 40,
   "id": "fa2c9f08",
   "metadata": {},
   "outputs": [
    {
     "data": {
      "text/plain": [
       "[0,\n",
       " 1,\n",
       " 2,\n",
       " 3,\n",
       " 4,\n",
       " 5,\n",
       " 6,\n",
       " 7,\n",
       " 8,\n",
       " 9,\n",
       " 10,\n",
       " 11,\n",
       " 12,\n",
       " 14,\n",
       " 15,\n",
       " 16,\n",
       " 17,\n",
       " 18,\n",
       " 19,\n",
       " 20,\n",
       " 21,\n",
       " 22,\n",
       " 23,\n",
       " 24,\n",
       " 25,\n",
       " 26,\n",
       " 28,\n",
       " 29,\n",
       " 30]"
      ]
     },
     "execution_count": 40,
     "metadata": {},
     "output_type": "execute_result"
    }
   ],
   "source": [
    "list_12"
   ]
  },
  {
   "cell_type": "markdown",
   "id": "1bea4b6a",
   "metadata": {},
   "source": [
    "Union and Intersection of Sets\n",
    "\n",
    "In mathematical terms, a list of unique objects is a set. There are many ways of combining sets in\n",
    "the same mathematical term. One such way is the use of a union.\n",
    "\n",
    "This simply means taking everything from both sets but only taking the common elements once.\n",
    "We can implement this concept by using the following code:"
   ]
  },
  {
   "cell_type": "code",
   "execution_count": 41,
   "id": "9aeebf60",
   "metadata": {},
   "outputs": [],
   "source": [
    "set1 = {\"Apple\", \"Orange\", \"Banana\",\"Guava\"}\n",
    "set2 = {\"Pear\", \"Peach\", \"Mango\", \"Banana\", \"Guava\"}\n",
    "set3 = {\"Durian\",\"Kiwi\", \"Grape\",\"Avocado\",\"Banana\", \"Guava\"}"
   ]
  },
  {
   "cell_type": "markdown",
   "id": "efadacaa",
   "metadata": {},
   "source": [
    "To find the union of the two sets, the following code should be used:"
   ]
  },
  {
   "cell_type": "code",
   "execution_count": 42,
   "id": "c28f8004",
   "metadata": {},
   "outputs": [
    {
     "data": {
      "text/plain": [
       "{'Apple',\n",
       " 'Avocado',\n",
       " 'Banana',\n",
       " 'Durian',\n",
       " 'Grape',\n",
       " 'Guava',\n",
       " 'Kiwi',\n",
       " 'Mango',\n",
       " 'Orange',\n",
       " 'Peach',\n",
       " 'Pear'}"
      ]
     },
     "execution_count": 42,
     "metadata": {},
     "output_type": "execute_result"
    }
   ],
   "source": [
    "set1 | set2 | set3"
   ]
  },
  {
   "cell_type": "markdown",
   "id": "5f0c872b",
   "metadata": {},
   "source": [
    "Notice that the common element, Banana, appears only once in the resulting set. The common\n",
    "elements of two sets can be identified by obtaining the intersection of the two sets, as follows:\n",
    "\n",
    "We get the intersection of two sets in Python as follows:"
   ]
  },
  {
   "cell_type": "code",
   "execution_count": 43,
   "id": "25fb0522",
   "metadata": {},
   "outputs": [
    {
     "data": {
      "text/plain": [
       "{'Banana', 'Guava'}"
      ]
     },
     "execution_count": 43,
     "metadata": {},
     "output_type": "execute_result"
    }
   ],
   "source": [
    "set1 & set2 & set3"
   ]
  },
  {
   "cell_type": "markdown",
   "id": "691b2e8d",
   "metadata": {},
   "source": [
    "In this section, we went through sets and how we can do basic set functionality. Sets are used\n",
    "throughout database programming and design, and they are very useful for data wrangling.\n",
    "\n",
    "0.6 Creating Null Sets\n",
    "\n",
    "In mathematical terms, a set that has nothing inside it is called a null set or an empty set.\n",
    "\n",
    "You can create a null set by creating a set containing no elements. You can do this by using the\n",
    "following code:"
   ]
  },
  {
   "cell_type": "code",
   "execution_count": 44,
   "id": "49ff5cde",
   "metadata": {},
   "outputs": [
    {
     "data": {
      "text/plain": [
       "set()"
      ]
     },
     "execution_count": 44,
     "metadata": {},
     "output_type": "execute_result"
    }
   ],
   "source": [
    "null_set_1 = set({})\n",
    "null_set_1"
   ]
  },
  {
   "cell_type": "markdown",
   "id": "2ed3692e",
   "metadata": {},
   "source": [
    "However, to create a dictionary with null values, use the following command:"
   ]
  },
  {
   "cell_type": "code",
   "execution_count": 45,
   "id": "b2ec70db",
   "metadata": {},
   "outputs": [
    {
     "data": {
      "text/plain": [
       "{}"
      ]
     },
     "execution_count": 45,
     "metadata": {},
     "output_type": "execute_result"
    }
   ],
   "source": [
    "null_set_2 = {}\n",
    "null_set_2"
   ]
  },
  {
   "cell_type": "markdown",
   "id": "9bc7d3de",
   "metadata": {},
   "source": [
    "We are going to learn about this in detail in the next section.\n",
    "\n",
    "DICTIONARY\n",
    "\n",
    "A dictionary is like a list, which means it is a collection of several elements. However, with the\n",
    "dictionary, it is a collection of key-value pairs, where the key can be anything that can fit into\n",
    "memory. Generally, we use numbers or strings as keys.\n",
    "\n",
    "To create a dictionary, use the following code:"
   ]
  },
  {
   "cell_type": "code",
   "execution_count": 46,
   "id": "774a59b0",
   "metadata": {},
   "outputs": [
    {
     "data": {
      "text/plain": [
       "{'key1': 'value1', 'key2': 'value2'}"
      ]
     },
     "execution_count": 46,
     "metadata": {},
     "output_type": "execute_result"
    }
   ],
   "source": [
    "dict_1 = {\"key1\": \"value1\", \"key2\": \"value2\"}\n",
    "dict_1"
   ]
  },
  {
   "cell_type": "markdown",
   "id": "98044d9d",
   "metadata": {},
   "source": [
    "This is also a valid dictionary:"
   ]
  },
  {
   "cell_type": "code",
   "execution_count": 47,
   "id": "16fb0e48",
   "metadata": {},
   "outputs": [
    {
     "data": {
      "text/plain": [
       "{'key1': 1,\n",
       " 'key2': ['list_element1', 34],\n",
       " 'key3': 'value3',\n",
       " 'key4': {'subkey1': 'v1'},\n",
       " 'key5': 4.5}"
      ]
     },
     "execution_count": 47,
     "metadata": {},
     "output_type": "execute_result"
    }
   ],
   "source": [
    "dict_2 = {\"key1\": 1, \"key2\": [\"list_element1\", 34], \\\n",
    "\"key3\": \"value3\",\"key4\": {\"subkey1\": \"v1\"}, \\\n",
    "\"key5\": 4.5}\n",
    "dict_2"
   ]
  },
  {
   "cell_type": "markdown",
   "id": "12db15a3",
   "metadata": {},
   "source": [
    "The keys must be unique in a dictionary.\n",
    "\n",
    "Exercise 2.06: Accessing and Setting Values in a Dictionary\n",
    "\n",
    "In this exercise, we are going to access the elements and set values in a dictionary. When working\n",
    "with dictionaries, it’s important to be able to iterate through each key-value pair, which will allow\n",
    "you to process the data as needed. To do so, let’s go through the following steps:"
   ]
  },
  {
   "cell_type": "markdown",
   "id": "7fbfea17",
   "metadata": {},
   "source": [
    "1. To access a value in the dictionary, you must provide the key. Keep in mind there is no given\n",
    "order for any pair in the dictionary:"
   ]
  },
  {
   "cell_type": "code",
   "execution_count": 48,
   "id": "900e72c4",
   "metadata": {},
   "outputs": [],
   "source": [
    "stocks = \\\n",
    "{\"Solar Capital Ltd.\":\"$920.44M\", \\\n",
    "\"Zoe's Kitchen, Inc.\":\"$262.32M\",\\\n",
    "\"Toyota Motor Corp Ltd Ord\":\"$156.02B\",\\\n",
    "\"Nuveen Virginia Quality Municipal Income Fund\":\"$238.33M\",\\\n",
    "\"Kinross Gold Corporation\":\"$5.1B\",\\\n",
    "\"Vulcan Materials Company\":\"$17.1B\",\\\n",
    "\"Hi-Crush Partners LP\":\"$955.69M\",\\\n",
    "\"Lennox International, Inc.\":\"$8.05B\",\\\n",
    "\"WMIH Corp.\":\"$247.66M\",\\\n",
    "\"Comerica Incorporated\":\"n/a\"}"
   ]
  },
  {
   "cell_type": "markdown",
   "id": "71bb2223",
   "metadata": {},
   "source": [
    "2. Print a particular element from the stocks list:"
   ]
  },
  {
   "cell_type": "code",
   "execution_count": 49,
   "id": "e07155a6",
   "metadata": {},
   "outputs": [
    {
     "data": {
      "text/plain": [
       "'$247.66M'"
      ]
     },
     "execution_count": 49,
     "metadata": {},
     "output_type": "execute_result"
    }
   ],
   "source": [
    "stocks[\"WMIH Corp.\"]"
   ]
  },
  {
   "cell_type": "markdown",
   "id": "ca053eac",
   "metadata": {},
   "source": [
    "3. Set a value using the same method we use to access a value:"
   ]
  },
  {
   "cell_type": "code",
   "execution_count": 50,
   "id": "4ce38d30",
   "metadata": {},
   "outputs": [],
   "source": [
    "stocks[\"WMIH Corp.\"] = \"$300M\""
   ]
  },
  {
   "cell_type": "markdown",
   "id": "3b888277",
   "metadata": {},
   "source": [
    "4. Define a blank dictionary and then use the key notation to assign values to it:"
   ]
  },
  {
   "cell_type": "code",
   "execution_count": 51,
   "id": "dde9fce5",
   "metadata": {},
   "outputs": [
    {
     "data": {
      "text/plain": [
       "{'key1': 'Value1'}"
      ]
     },
     "execution_count": 51,
     "metadata": {},
     "output_type": "execute_result"
    }
   ],
   "source": [
    "dict_3 = {} # Not a null set. It is a dict\n",
    "dict_3[\"key1\"] = \"Value1\"\n",
    "dict_3"
   ]
  },
  {
   "cell_type": "markdown",
   "id": "91b332be",
   "metadata": {},
   "source": [
    "As we can see, the manipulation techniques of a dictionary are pretty simple. Now, just like a list,\n",
    "iterating through a dictionary is very important in order to process the data.\n",
    "\n",
    "Exercise 2.07: Iterating over a Dictionary\n",
    "\n",
    "In this exercise, we are going to iterate over a dictionary and print the values and keys. To do so,\n",
    "let’s go through the following steps:\n",
    "\n",
    "1. Open a new Jupyter Notebook and define a dictionary with the key provided along with it.\n",
    "Keep in mind there is no given order for any pair in the dictionary:\n"
   ]
  },
  {
   "cell_type": "code",
   "execution_count": 52,
   "id": "ead02047",
   "metadata": {},
   "outputs": [],
   "source": [
    "stocks = \\\n",
    "{\"Solar Capital Ltd.\":\"$920.44M\",\\\n",
    "\"Zoe's Kitchen, Inc.\":\"$262.32M\",\\\n",
    "\"Toyota Motor Corp Ltd Ord\":\"$156.02B\",\\\n",
    "\"Nuveen Virginia Quality Municipal Income Fund\":\"$238.33M\",\\\n",
    "\"Kinross Gold Corporation\":\"$5.1B\",\\\n",
    "\"Vulcan Materials Company\":\"$17.1B\",\\\n",
    "\"Hi-Crush Partners LP\":\"$955.69M\",\\\n",
    "\"Lennox International, Inc.\":\"$8.05B\",\\\n",
    "\"WMIH Corp.\":\"$247.66M\",\\\n",
    " \"Comerica Incorporated\":\"n/a\"}"
   ]
  },
  {
   "cell_type": "markdown",
   "id": "2f025d37",
   "metadata": {},
   "source": [
    "2. Remove the $ character from the stocks dictionary:"
   ]
  },
  {
   "cell_type": "code",
   "execution_count": 53,
   "id": "baf066bd",
   "metadata": {},
   "outputs": [
    {
     "data": {
      "text/plain": [
       "{'Solar Capital Ltd.': '920.44M',\n",
       " \"Zoe's Kitchen, Inc.\": '262.32M',\n",
       " 'Toyota Motor Corp Ltd Ord': '156.02B',\n",
       " 'Nuveen Virginia Quality Municipal Income Fund': '238.33M',\n",
       " 'Kinross Gold Corporation': '5.1B',\n",
       " 'Vulcan Materials Company': '17.1B',\n",
       " 'Hi-Crush Partners LP': '955.69M',\n",
       " 'Lennox International, Inc.': '8.05B',\n",
       " 'WMIH Corp.': '247.66M',\n",
       " 'Comerica Incorporated': 'n/a'}"
      ]
     },
     "execution_count": 53,
     "metadata": {},
     "output_type": "execute_result"
    }
   ],
   "source": [
    "for key,val in stocks.items():\n",
    "    stocks[key] = val.replace('$', '')\n",
    "stocks"
   ]
  },
  {
   "cell_type": "markdown",
   "id": "79693870",
   "metadata": {},
   "source": [
    "3. Iterate over the stocks dictionary again and split the value into a list with price (val) and\n",
    "multiplier (mult) as separate elements where a single value is assigned to each key:"
   ]
  },
  {
   "cell_type": "code",
   "execution_count": 54,
   "id": "b5468f52",
   "metadata": {},
   "outputs": [
    {
     "data": {
      "text/plain": [
       "{'Solar Capital Ltd.': ['920.44', 'M'],\n",
       " \"Zoe's Kitchen, Inc.\": ['262.32', 'M'],\n",
       " 'Toyota Motor Corp Ltd Ord': ['156.02', 'B'],\n",
       " 'Nuveen Virginia Quality Municipal Income Fund': ['238.33', 'M'],\n",
       " 'Kinross Gold Corporation': ['5.1', 'B'],\n",
       " 'Vulcan Materials Company': ['17.1', 'B'],\n",
       " 'Hi-Crush Partners LP': ['955.69', 'M'],\n",
       " 'Lennox International, Inc.': ['8.05', 'B'],\n",
       " 'WMIH Corp.': ['247.66', 'M'],\n",
       " 'Comerica Incorporated': ['n/', 'a']}"
      ]
     },
     "execution_count": 54,
     "metadata": {},
     "output_type": "execute_result"
    }
   ],
   "source": [
    "for key,val in stocks.items():\n",
    "    mult = val[-1]\n",
    "    stocks[key] = [val[:-1],mult]\n",
    "stocks"
   ]
  },
  {
   "cell_type": "markdown",
   "id": "a3db3fe0",
   "metadata": {},
   "source": [
    "Notice the difference between how we did the iteration on the list and how we are doing it h ere. A\n",
    "dictionary always contains a key-value pair, and we always need to access the value of any element\n",
    "in a dictionary with its key. In a dictionary, all the keys are unique.\n",
    "\n",
    "In the next exercise, we will revisit the problem that we encountered with the list earlier in this\n",
    "chapter to create a list with unique values. We will look at another workaround to fix this problem.\n",
    "\n",
    "Exercise 2.08: Revisiting the Unique Valued List Problem\n",
    "\n",
    "In this exercise, we will use the unique nature of a dictionary, and we will drop the duplicate values\n",
    "from a list. First, we will create a random list with duplicate values. Then, we’ll use the fromkeys\n",
    "and keys methods of a dictionary to create a unique valued list. To do so, let’s go through the\n",
    "following steps:\n",
    "\n",
    "1. First, generate a random list with duplicate values:\n"
   ]
  },
  {
   "cell_type": "code",
   "execution_count": 55,
   "id": "3fc20341",
   "metadata": {},
   "outputs": [],
   "source": [
    "import random\n",
    "list_1 = [random.randint(0, 30) for x in range (0, 100)]"
   ]
  },
  {
   "cell_type": "markdown",
   "id": "3d318162",
   "metadata": {},
   "source": [
    "2. Create a unique valued list from list_1:"
   ]
  },
  {
   "cell_type": "code",
   "execution_count": 56,
   "id": "69bec8a8",
   "metadata": {},
   "outputs": [
    {
     "data": {
      "text/plain": [
       "[3,\n",
       " 14,\n",
       " 24,\n",
       " 8,\n",
       " 29,\n",
       " 19,\n",
       " 5,\n",
       " 6,\n",
       " 11,\n",
       " 26,\n",
       " 20,\n",
       " 7,\n",
       " 1,\n",
       " 12,\n",
       " 0,\n",
       " 22,\n",
       " 28,\n",
       " 30,\n",
       " 18,\n",
       " 16,\n",
       " 21,\n",
       " 15,\n",
       " 27,\n",
       " 23,\n",
       " 13,\n",
       " 2,\n",
       " 4,\n",
       " 25,\n",
       " 17,\n",
       " 9,\n",
       " 10]"
      ]
     },
     "execution_count": 56,
     "metadata": {},
     "output_type": "execute_result"
    }
   ],
   "source": [
    "list(dict.fromkeys(list_1).keys())"
   ]
  },
  {
   "cell_type": "markdown",
   "id": "1ccb3509",
   "metadata": {},
   "source": [
    "Here, we have used two useful methods of the dict data type in Python, fromkeys and keys. fromkeys\n",
    "is a built-in function in which a new dictionary is created from the given sequence of elements with\n",
    "values given by the user, while the keys method gives us the keys of a dictionary.\n",
    "\n",
    "0.7.4 Exercise 2.09: Deleting a Value from Dictionary\n",
    "\n",
    "In this exercise, we are going to delete a value from dict using the del method. Perform the following\n",
    "steps:\n",
    "\n",
    "1. Create list_1 with five elements:\n"
   ]
  },
  {
   "cell_type": "code",
   "execution_count": 57,
   "id": "efe40e9e",
   "metadata": {},
   "outputs": [
    {
     "data": {
      "text/plain": [
       "{'key1': 1,\n",
       " 'key2': ['list_element1', 34],\n",
       " 'key3': 'value3',\n",
       " 'key4': {'subkey1': 'v1'},\n",
       " 'key5': 4.5}"
      ]
     },
     "execution_count": 57,
     "metadata": {},
     "output_type": "execute_result"
    }
   ],
   "source": [
    "dict_1 = {\"key1\": 1, \"key2\": [\"list_element1\", 34], \\\n",
    "\"key3\": \"value3\",\"key4\": {\"subkey1\": \"v1\"}, \\\n",
    "\"key5\": 4.5}\n",
    "dict_1"
   ]
  },
  {
   "cell_type": "markdown",
   "id": "cfc7d7dd",
   "metadata": {},
   "source": [
    "2. We will use the del function and specify the element we want to delete:\n"
   ]
  },
  {
   "cell_type": "code",
   "execution_count": 58,
   "id": "46f2dfcd",
   "metadata": {},
   "outputs": [
    {
     "data": {
      "text/plain": [
       "{'key1': 1, 'key3': 'value3', 'key4': {'subkey1': 'v1'}, 'key5': 4.5}"
      ]
     },
     "execution_count": 58,
     "metadata": {},
     "output_type": "execute_result"
    }
   ],
   "source": [
    "del dict_1[\"key2\"]\n",
    "dict_1"
   ]
  },
  {
   "cell_type": "markdown",
   "id": "df2bc5ab",
   "metadata": {},
   "source": [
    "3. Let’s delete key3 and key4:"
   ]
  },
  {
   "cell_type": "code",
   "execution_count": 59,
   "id": "900de6cf",
   "metadata": {},
   "outputs": [],
   "source": [
    "del dict_1[\"key3\"]\n",
    "del dict_1[\"key4\"]"
   ]
  },
  {
   "cell_type": "markdown",
   "id": "7636c46c",
   "metadata": {},
   "source": [
    "4. Now, let’s print the dictionary to see its content:"
   ]
  },
  {
   "cell_type": "code",
   "execution_count": 60,
   "id": "d29fb2eb",
   "metadata": {},
   "outputs": [
    {
     "data": {
      "text/plain": [
       "{'key1': 1, 'key5': 4.5}"
      ]
     },
     "execution_count": 60,
     "metadata": {},
     "output_type": "execute_result"
    }
   ],
   "source": [
    "dict_1"
   ]
  },
  {
   "cell_type": "markdown",
   "id": "2a1f85b2",
   "metadata": {},
   "source": [
    "In this exercise, we learned how to delete elements from a dictionary. This is a very useful func\u0002tionality of dictionaries, and you will find that it’s used heavily when writing Python applications.\n",
    "\n",
    "In our final e xercise o n d ict, we w ill g o over a l ess c ommonly u sed l ist c omprehension c alled dic\u0002tionary comprehension. We will also examine two other ways to create a dict, which can be very\n",
    "useful for processing dictionaries in one line. There could be cases where this could be used as a\n",
    "range of key-value pairs of name and age or credit card number and credit card owner. A dictionary\n",
    "comprehension works exactly the same way as list comprehension, but we need to specify both the\n",
    "key and the value.\n",
    "\n",
    "Exercise 2.10: Dictionary Comprehension\n",
    "\n",
    "In this exercise, we will generate a dictionary using the following steps:\n",
    "\n",
    "1. Generate a dict that has 0 to 9 as the keys and the square of the key as the values:"
   ]
  },
  {
   "cell_type": "code",
   "execution_count": 61,
   "id": "7b450e2e",
   "metadata": {},
   "outputs": [
    {
     "data": {
      "text/plain": [
       "{0: 0,\n",
       " 1: 1,\n",
       " 2: 1125899906842624,\n",
       " 3: 717897987691852588770249,\n",
       " 4: 1267650600228229401496703205376,\n",
       " 5: 88817841970012523233890533447265625,\n",
       " 6: 808281277464764060643139600456536293376,\n",
       " 7: 1798465042647412146620280340569649349251249,\n",
       " 8: 1427247692705959881058285969449495136382746624,\n",
       " 9: 515377520732011331036461129765621272702107522001}"
      ]
     },
     "execution_count": 61,
     "metadata": {},
     "output_type": "execute_result"
    }
   ],
   "source": [
    "list_1 = [x for x in range(0, 10)]\n",
    "dict_1 = {x : x**50 for x in list_1}\n",
    "dict_1"
   ]
  },
  {
   "cell_type": "markdown",
   "id": "24d64343",
   "metadata": {},
   "source": [
    "Can you generate a dict using dict comprehension without using a list? Let’s try this now.\n",
    "\n",
    "2. Generate a dictionary using the dict function:\n"
   ]
  },
  {
   "cell_type": "code",
   "execution_count": 62,
   "id": "96daa116",
   "metadata": {},
   "outputs": [
    {
     "data": {
      "text/plain": [
       "{'Tom': 100, 'Dick': 200, 'Harry': 300}"
      ]
     },
     "execution_count": 62,
     "metadata": {},
     "output_type": "execute_result"
    }
   ],
   "source": [
    "dict_2 = dict([('Tom', 100), ('Dick', 200), ('Harry', 300)])\n",
    "dict_2"
   ]
  },
  {
   "cell_type": "markdown",
   "id": "caf667cf",
   "metadata": {},
   "source": [
    "3. You can also a dictionary using the dict function, as follows:"
   ]
  },
  {
   "cell_type": "code",
   "execution_count": 63,
   "id": "96dc3b56",
   "metadata": {},
   "outputs": [
    {
     "data": {
      "text/plain": [
       "{'Tom': 100, 'Dick': 200, 'Harry': 300}"
      ]
     },
     "execution_count": 63,
     "metadata": {},
     "output_type": "execute_result"
    }
   ],
   "source": [
    "dict_3 = dict(Tom=100, Dick=200, Harry=300)\n",
    "dict_3"
   ]
  },
  {
   "cell_type": "markdown",
   "id": "3d4d2fbf",
   "metadata": {},
   "source": [
    "Dictionaries are very flexible a nd c an b e u sed f or a v ariety o f t asks. T he c ompact n ature of\n",
    "comprehension makes them very popular. The strange-looking pair of values that just looked at\n",
    "(‘Harry’, 300) is called a tuple. This is another important fundamental data type in Python. We\n",
    "will learn about tuples in the next section.\n",
    "\n",
    "TUPLES\n",
    "\n",
    "A tuple is another data type in Python. Tuples in Python are similar to lists, with one key\n",
    "difference. A tuple is a variant of a Python list that is i mmutable. Immutable basically means you\n",
    "can’t modify it by adding or removing from the list. It is sequential in nature and similar to lists.\n",
    "\n",
    "A tuple consists of values separated by commas, as follows:\n"
   ]
  },
  {
   "cell_type": "code",
   "execution_count": 64,
   "id": "62c27347",
   "metadata": {},
   "outputs": [
    {
     "data": {
      "text/plain": [
       "(24, 42, 2.3456, 'Hello')"
      ]
     },
     "execution_count": 64,
     "metadata": {},
     "output_type": "execute_result"
    }
   ],
   "source": [
    "tuple_1 = 24, 42, 2.3456, \"Hello\"\n",
    "tuple_1"
   ]
  },
  {
   "cell_type": "markdown",
   "id": "c5fcc6a7",
   "metadata": {},
   "source": [
    "Notice that, unlike lists, we did not open and close square brackets here.\n",
    "When referring to a tuple, the length of the tuple is called its cardinality. This comes from database\n",
    "and set theory and is a common way to reference its length.\n",
    "\n",
    "Creating a Tuple with Different Cardinalities\n",
    "\n",
    "This is how we create an empty tuple:"
   ]
  },
  {
   "cell_type": "code",
   "execution_count": 65,
   "id": "e835c7b9",
   "metadata": {},
   "outputs": [],
   "source": [
    "tuple_1 = ()"
   ]
  },
  {
   "cell_type": "markdown",
   "id": "0048f868",
   "metadata": {},
   "source": [
    "This is how we create a tuple with only one value:\n"
   ]
  },
  {
   "cell_type": "code",
   "execution_count": 66,
   "id": "83052d8d",
   "metadata": {},
   "outputs": [],
   "source": [
    "tuple_1 = \"Hello\","
   ]
  },
  {
   "cell_type": "markdown",
   "id": "0b7612fd",
   "metadata": {},
   "source": [
    "Notice the trailing comma here.\n",
    "We can nest tuples, similar to lists and dicts, as follows:"
   ]
  },
  {
   "cell_type": "code",
   "execution_count": 67,
   "id": "069b7e37",
   "metadata": {},
   "outputs": [],
   "source": [
    "tuple_1 = \"hello\", \"there\"\n",
    "tuple_12 = tuple_1, 45, \"Sam\""
   ]
  },
  {
   "cell_type": "markdown",
   "id": "0e69cc62",
   "metadata": {},
   "source": [
    "One special thing about tuples is the fact that they are an immutable data type. So, once they’re\n",
    "created, we cannot change their values. We can just access them, as follows:"
   ]
  },
  {
   "cell_type": "code",
   "execution_count": 68,
   "id": "d68300f8",
   "metadata": {},
   "outputs": [
    {
     "ename": "TypeError",
     "evalue": "'tuple' object does not support item assignment",
     "output_type": "error",
     "traceback": [
      "\u001b[1;31m---------------------------------------------------------------------------\u001b[0m",
      "\u001b[1;31mTypeError\u001b[0m                                 Traceback (most recent call last)",
      "\u001b[1;32m~\\AppData\\Local\\Temp\\ipykernel_9584\\1395361143.py\u001b[0m in \u001b[0;36m<module>\u001b[1;34m\u001b[0m\n\u001b[0;32m      1\u001b[0m \u001b[0mtuple_1\u001b[0m \u001b[1;33m=\u001b[0m \u001b[1;34m\"Hello\"\u001b[0m\u001b[1;33m,\u001b[0m \u001b[1;34m\"World!\"\u001b[0m\u001b[1;33m\u001b[0m\u001b[1;33m\u001b[0m\u001b[0m\n\u001b[1;32m----> 2\u001b[1;33m \u001b[0mtuple_1\u001b[0m\u001b[1;33m[\u001b[0m\u001b[1;36m1\u001b[0m\u001b[1;33m]\u001b[0m \u001b[1;33m=\u001b[0m \u001b[1;34m\"Universe!\"\u001b[0m\u001b[1;33m\u001b[0m\u001b[1;33m\u001b[0m\u001b[0m\n\u001b[0m",
      "\u001b[1;31mTypeError\u001b[0m: 'tuple' object does not support item assignment"
     ]
    }
   ],
   "source": [
    "tuple_1 = \"Hello\", \"World!\"\n",
    "tuple_1[1] = \"Universe!\""
   ]
  },
  {
   "cell_type": "markdown",
   "id": "f67ecce0",
   "metadata": {},
   "source": [
    "The last line of the preceding code will result in a TypeError as a tuple does not allow modification.\n",
    "This makes the use case for tuples a bit different t han l ists, a lthough t hey l ook a nd b ehave very\n",
    "similarly in a few ways.\n",
    "\n",
    "We can access the elements of a tuple in the same manner we can for lists:\n"
   ]
  },
  {
   "cell_type": "code",
   "execution_count": 70,
   "id": "2f0ce4eb",
   "metadata": {},
   "outputs": [
    {
     "data": {
      "text/plain": [
       "'good'"
      ]
     },
     "execution_count": 70,
     "metadata": {},
     "output_type": "execute_result"
    }
   ],
   "source": [
    "tuple_1 = (\"good\", \"morning!\" , \"how\", \"are\", \"you?\")\n",
    "tuple_1[0]"
   ]
  },
  {
   "cell_type": "markdown",
   "id": "36f673cd",
   "metadata": {},
   "source": [
    "Let’s access another element:"
   ]
  },
  {
   "cell_type": "code",
   "execution_count": 71,
   "id": "d68ddd97",
   "metadata": {},
   "outputs": [
    {
     "data": {
      "text/plain": [
       "'are'"
      ]
     },
     "execution_count": 71,
     "metadata": {},
     "output_type": "execute_result"
    }
   ],
   "source": [
    "tuple_1[3]"
   ]
  },
  {
   "cell_type": "markdown",
   "id": "c44e7bcd",
   "metadata": {},
   "source": [
    "Unpacking a Tuple\n",
    "\n",
    "The expression “unpacking a tuple” simply means getting the values contained in the tuple in\n",
    "different variables:\n"
   ]
  },
  {
   "cell_type": "code",
   "execution_count": 72,
   "id": "23eb2a91",
   "metadata": {},
   "outputs": [
    {
     "name": "stdout",
     "output_type": "stream",
     "text": [
      "Hello\n",
      "World\n"
     ]
    }
   ],
   "source": [
    "tuple_1 = \"Hello\", \"World\"\n",
    "hello, world = tuple_1\n",
    "print(hello)\n",
    "print(world)"
   ]
  },
  {
   "cell_type": "markdown",
   "id": "17e7a169",
   "metadata": {},
   "source": [
    "Of course, as soon as we do that, we can modify the values contained in those variables.\n",
    "\n",
    "Exercise 2.11: Handling Tuples\n",
    "\n",
    "In this exercise, we will walk through the basic functionalities of tuples. Let’s go through the steps\n",
    "one by one:\n",
    "\n",
    "1. Create a tuple to demonstrate how tuples are immutable. Unpack it to read all the elements,\n",
    "as follows:"
   ]
  },
  {
   "cell_type": "code",
   "execution_count": 73,
   "id": "ed587142",
   "metadata": {},
   "outputs": [
    {
     "data": {
      "text/plain": [
       "('1', '3', '5')"
      ]
     },
     "execution_count": 73,
     "metadata": {},
     "output_type": "execute_result"
    }
   ],
   "source": [
    "tupleE = \"1\", \"3\", \"5\"\n",
    "tupleE"
   ]
  },
  {
   "cell_type": "markdown",
   "id": "eb49652e",
   "metadata": {},
   "source": [
    "2. Try to override a variable from the tupleE tuple:\n"
   ]
  },
  {
   "cell_type": "code",
   "execution_count": 74,
   "id": "b0094602",
   "metadata": {},
   "outputs": [
    {
     "ename": "TypeError",
     "evalue": "'tuple' object does not support item assignment",
     "output_type": "error",
     "traceback": [
      "\u001b[1;31m---------------------------------------------------------------------------\u001b[0m",
      "\u001b[1;31mTypeError\u001b[0m                                 Traceback (most recent call last)",
      "\u001b[1;32m~\\AppData\\Local\\Temp\\ipykernel_9584\\3548885391.py\u001b[0m in \u001b[0;36m<module>\u001b[1;34m\u001b[0m\n\u001b[1;32m----> 1\u001b[1;33m \u001b[0mtupleE\u001b[0m\u001b[1;33m[\u001b[0m\u001b[1;36m1\u001b[0m\u001b[1;33m]\u001b[0m \u001b[1;33m=\u001b[0m \u001b[1;34m\"5\"\u001b[0m\u001b[1;33m\u001b[0m\u001b[1;33m\u001b[0m\u001b[0m\n\u001b[0m",
      "\u001b[1;31mTypeError\u001b[0m: 'tuple' object does not support item assignment"
     ]
    }
   ],
   "source": [
    "tupleE[1] = \"5\""
   ]
  },
  {
   "cell_type": "markdown",
   "id": "94493040",
   "metadata": {},
   "source": [
    "This step will result in TypeError as the tuple does not allow modification.\n",
    "\n",
    "3. Try to assign a series to the tupleE tuple:"
   ]
  },
  {
   "cell_type": "code",
   "execution_count": 75,
   "id": "6d12521d",
   "metadata": {},
   "outputs": [
    {
     "ename": "SyntaxError",
     "evalue": "cannot assign to literal (3968916292.py, line 1)",
     "output_type": "error",
     "traceback": [
      "\u001b[1;36m  File \u001b[1;32m\"C:\\Users\\user\\AppData\\Local\\Temp\\ipykernel_9584\\3968916292.py\"\u001b[1;36m, line \u001b[1;32m1\u001b[0m\n\u001b[1;33m    1, 3, 5 = tupleE\u001b[0m\n\u001b[1;37m    ^\u001b[0m\n\u001b[1;31mSyntaxError\u001b[0m\u001b[1;31m:\u001b[0m cannot assign to literal\n"
     ]
    }
   ],
   "source": [
    "1, 3, 5 = tupleE"
   ]
  },
  {
   "cell_type": "markdown",
   "id": "b04eef6d",
   "metadata": {},
   "source": [
    "This step will also result in a SyntaxError, stating that it can’t assign to the literal:\n",
    "\n",
    "4. Print variables at 0th and 1st positions:"
   ]
  },
  {
   "cell_type": "code",
   "execution_count": 76,
   "id": "159fe176",
   "metadata": {},
   "outputs": [
    {
     "name": "stdout",
     "output_type": "stream",
     "text": [
      "1\n",
      "3\n"
     ]
    }
   ],
   "source": [
    "print(tupleE[0])\n",
    "print(tupleE[1])"
   ]
  },
  {
   "cell_type": "markdown",
   "id": "f662c855",
   "metadata": {},
   "source": [
    "We have seen two different types of data so f ar. One is represented by numbers, while the other is\n",
    "represented by textual data. Now it’s time to look into textual data in a bit more detail.\n",
    "\n",
    "STRINGS\n",
    "\n",
    "Strings in Python are similar to strings in any other programming language.\n",
    "\n",
    "This is a string:\n"
   ]
  },
  {
   "cell_type": "code",
   "execution_count": 77,
   "id": "a9da4433",
   "metadata": {},
   "outputs": [],
   "source": [
    "string1 = 'Hello World!'"
   ]
  },
  {
   "cell_type": "markdown",
   "id": "20f1319c",
   "metadata": {},
   "source": [
    "A string can also be declared in this manner:"
   ]
  },
  {
   "cell_type": "code",
   "execution_count": 78,
   "id": "831d3ea4",
   "metadata": {},
   "outputs": [],
   "source": [
    "string2 = \"Hello World 2!\""
   ]
  },
  {
   "cell_type": "markdown",
   "id": "1f6d1b69",
   "metadata": {},
   "source": [
    "You can use single quotes and double quotes to define a string.\n",
    "\n",
    "The start and end of a string is defined as:\n",
    "\n",
    "str[ inclusive start position: exclusive end position ].\n",
    "\n",
    "Strings in Python behave similar to lists, apart from one big caveat. Strings are immutable, whereas\n",
    "lists are mutable data structures.\n",
    "\n",
    "Exercise 2.12: Accessing Strings\n",
    "\n",
    "In this exercise, we are going perform mathematical operations to access strings. Let’s go through\n",
    "the following steps:\n",
    "\n",
    "1. Create a string called str_1:\n"
   ]
  },
  {
   "cell_type": "code",
   "execution_count": 79,
   "id": "bb03399f",
   "metadata": {},
   "outputs": [
    {
     "data": {
      "text/plain": [
       "'Hello World!'"
      ]
     },
     "execution_count": 79,
     "metadata": {},
     "output_type": "execute_result"
    }
   ],
   "source": [
    "str_1 = \"Hello World!\"\n",
    "str_1"
   ]
  },
  {
   "cell_type": "markdown",
   "id": "39486106",
   "metadata": {},
   "source": [
    "You can access the elements of the string by specifying the location of the element, like we did for\n",
    "lists.\n",
    "\n",
    "2. Access the first member of the string:"
   ]
  },
  {
   "cell_type": "code",
   "execution_count": 80,
   "id": "ccd16f67",
   "metadata": {},
   "outputs": [
    {
     "data": {
      "text/plain": [
       "'H'"
      ]
     },
     "execution_count": 80,
     "metadata": {},
     "output_type": "execute_result"
    }
   ],
   "source": [
    "str_1[0]"
   ]
  },
  {
   "cell_type": "markdown",
   "id": "1fa76c78",
   "metadata": {},
   "source": [
    "3. Access the fifth member of the string:\n"
   ]
  },
  {
   "cell_type": "code",
   "execution_count": 81,
   "id": "0f575119",
   "metadata": {},
   "outputs": [
    {
     "data": {
      "text/plain": [
       "'o'"
      ]
     },
     "execution_count": 81,
     "metadata": {},
     "output_type": "execute_result"
    }
   ],
   "source": [
    "str_1[4]"
   ]
  },
  {
   "cell_type": "markdown",
   "id": "16962010",
   "metadata": {},
   "source": [
    "4. Access the last member of the string:\n"
   ]
  },
  {
   "cell_type": "code",
   "execution_count": 82,
   "id": "af9969fb",
   "metadata": {},
   "outputs": [
    {
     "data": {
      "text/plain": [
       "'!'"
      ]
     },
     "execution_count": 82,
     "metadata": {},
     "output_type": "execute_result"
    }
   ],
   "source": [
    "str_1[len(str_1) - 1]"
   ]
  },
  {
   "cell_type": "markdown",
   "id": "8a66c8ae",
   "metadata": {},
   "source": [
    "5. Access the last member of the string, in a different way this time:"
   ]
  },
  {
   "cell_type": "code",
   "execution_count": 83,
   "id": "c02db9e7",
   "metadata": {},
   "outputs": [
    {
     "data": {
      "text/plain": [
       "'!'"
      ]
     },
     "execution_count": 83,
     "metadata": {},
     "output_type": "execute_result"
    }
   ],
   "source": [
    "str_1[-1]"
   ]
  },
  {
   "cell_type": "markdown",
   "id": "401ea1d6",
   "metadata": {},
   "source": [
    "Each of the preceding operations will give you the character at the specific i ndex. The method for\n",
    "accessing the elements of a string is like accessing a list. Let’s do a couple of more exercises to\n",
    "manipulate strings.\n",
    "\n",
    "Exercise 2.13: String Slices\n",
    "\n",
    "This exercise will demonstrate how we can slice strings the same way as we did with lists. Although\n",
    "strings are not lists, the functionality will work in the same way.\n",
    "\n",
    "Let’s go through the following steps:\n",
    "\n",
    "1. Create a string, str_1:"
   ]
  },
  {
   "cell_type": "code",
   "execution_count": 84,
   "id": "57baf948",
   "metadata": {},
   "outputs": [
    {
     "data": {
      "text/plain": [
       "'Hello World! I am learning data wrangling'"
      ]
     },
     "execution_count": 84,
     "metadata": {},
     "output_type": "execute_result"
    }
   ],
   "source": [
    "str_1 = \"Hello World! I am learning data wrangling\"\n",
    "str_1"
   ]
  },
  {
   "cell_type": "markdown",
   "id": "188e784f",
   "metadata": {},
   "source": [
    "2. Specify the slicing values and slice the string:\n"
   ]
  },
  {
   "cell_type": "code",
   "execution_count": 85,
   "id": "9688e908",
   "metadata": {},
   "outputs": [
    {
     "data": {
      "text/plain": [
       "'llo Worl'"
      ]
     },
     "execution_count": 85,
     "metadata": {},
     "output_type": "execute_result"
    }
   ],
   "source": [
    "str_1[2:10]"
   ]
  },
  {
   "cell_type": "markdown",
   "id": "096990c2",
   "metadata": {},
   "source": [
    "3. Slice a string by skipping a slice value:\n"
   ]
  },
  {
   "cell_type": "code",
   "execution_count": 86,
   "id": "3e0c51fc",
   "metadata": {},
   "outputs": [
    {
     "data": {
      "text/plain": [
       "'d! I am learning data wrangling'"
      ]
     },
     "execution_count": 86,
     "metadata": {},
     "output_type": "execute_result"
    }
   ],
   "source": [
    "str_1[-31:]"
   ]
  },
  {
   "cell_type": "markdown",
   "id": "6304735a",
   "metadata": {},
   "source": [
    "4. Use negative numbers to slice the string:"
   ]
  },
  {
   "cell_type": "code",
   "execution_count": 87,
   "id": "99547f02",
   "metadata": {},
   "outputs": [
    {
     "data": {
      "text/plain": [
       "' wran'"
      ]
     },
     "execution_count": 87,
     "metadata": {},
     "output_type": "execute_result"
    }
   ],
   "source": [
    "str_1[-10:-5]"
   ]
  },
  {
   "cell_type": "markdown",
   "id": "1dbaa0da",
   "metadata": {},
   "source": [
    "As we can see, it is quite simple to manipulate strings with basic operations.\n",
    "\n",
    "String Functions\n",
    "\n",
    "To find out the length of a string, we simply use the len function:\n"
   ]
  },
  {
   "cell_type": "code",
   "execution_count": 88,
   "id": "2947547b",
   "metadata": {},
   "outputs": [
    {
     "data": {
      "text/plain": [
       "41"
      ]
     },
     "execution_count": 88,
     "metadata": {},
     "output_type": "execute_result"
    }
   ],
   "source": [
    "str_1 = \"Hello World! I am learning data wrangling\"\n",
    "len(str_1)"
   ]
  },
  {
   "cell_type": "markdown",
   "id": "47690a6f",
   "metadata": {},
   "source": [
    "The length of the string is 41. To convert a string’s case, we can use the lower and upper methods:"
   ]
  },
  {
   "cell_type": "code",
   "execution_count": 89,
   "id": "f3874cfe",
   "metadata": {},
   "outputs": [
    {
     "data": {
      "text/plain": [
       "'a complete upper case string'"
      ]
     },
     "execution_count": 89,
     "metadata": {},
     "output_type": "execute_result"
    }
   ],
   "source": [
    "str_1 = \"A COMPLETE UPPER CASE STRING\"\n",
    "str_1.lower()"
   ]
  },
  {
   "cell_type": "markdown",
   "id": "f5312bb2",
   "metadata": {},
   "source": [
    "To change the case of the string, use the following code:"
   ]
  },
  {
   "cell_type": "code",
   "execution_count": 90,
   "id": "be804b95",
   "metadata": {},
   "outputs": [
    {
     "data": {
      "text/plain": [
       "'A COMPLETE UPPER CASE STRING'"
      ]
     },
     "execution_count": 90,
     "metadata": {},
     "output_type": "execute_result"
    }
   ],
   "source": [
    "str_1.upper()"
   ]
  },
  {
   "cell_type": "markdown",
   "id": "300599fc",
   "metadata": {},
   "source": [
    "To search for a string within a string, we can use the find method:"
   ]
  },
  {
   "cell_type": "code",
   "execution_count": null,
   "id": "897613d9",
   "metadata": {},
   "outputs": [],
   "source": [
    "str_1 = \"A complicated string looks like this\"\n",
    "str_1.find(\"complicated\")\n",
    "str_1.find(\"hello\")"
   ]
  },
  {
   "cell_type": "markdown",
   "id": "a45d0a8c",
   "metadata": {},
   "source": [
    "The output is -1. Can you figure out whether the find method is case-sensitive or no t? Also, what\n",
    "do you think the find method returns when it actually finds the string?\n",
    "\n",
    "To replace one string with another, we have the replace method. Since we know that a string is an\n",
    "immutable data structure, replace actually returns a new string instead of replacing and returning\n",
    "the actual one:\n"
   ]
  },
  {
   "cell_type": "code",
   "execution_count": 91,
   "id": "a9aa607f",
   "metadata": {},
   "outputs": [
    {
     "data": {
      "text/plain": [
       "'A simple string looks like this'"
      ]
     },
     "execution_count": 91,
     "metadata": {},
     "output_type": "execute_result"
    }
   ],
   "source": [
    "str_1 = \"A complicated string looks like this\"\n",
    "str_1.replace(\"complicated\", \"simple\")"
   ]
  },
  {
   "cell_type": "markdown",
   "id": "17eb1f8a",
   "metadata": {},
   "source": [
    "Strings have two useful methods: split and join. Here are their definitions:\n",
    "\n",
    "str.split(separator)\n",
    "\n",
    "The seperator argument is a delimiter that you define:\n",
    "\n",
    "string.join(seperator)\n",
    "\n",
    "Exercise 2.14: Splitting and Joining a String\n",
    "\n",
    "This exercise will demonstrate how to perform split and join operations on a string. These two\n",
    "string methods need separate approaches as they allow you to convert a string into a list and vice\n",
    "versa. Let’s go through the following steps to do so:\n",
    "\n",
    "1. Create a string and convert it into a list using the split method:\n"
   ]
  },
  {
   "cell_type": "code",
   "execution_count": 92,
   "id": "d8c4c41e",
   "metadata": {},
   "outputs": [
    {
     "data": {
      "text/plain": [
       "['Name', ' Age', ' Sex', ' Address']"
      ]
     },
     "execution_count": 92,
     "metadata": {},
     "output_type": "execute_result"
    }
   ],
   "source": [
    "str_1 = \"Name, Age, Sex, Address\"\n",
    "list_1 = str_1.split(\",\")\n",
    "list_1"
   ]
  },
  {
   "cell_type": "markdown",
   "id": "872fc485",
   "metadata": {},
   "source": [
    "2. Combine this list into another string using the join method:\n"
   ]
  },
  {
   "cell_type": "code",
   "execution_count": 93,
   "id": "9eacf30f",
   "metadata": {},
   "outputs": [
    {
     "data": {
      "text/plain": [
       "'Name |  Age |  Sex |  Address'"
      ]
     },
     "execution_count": 93,
     "metadata": {},
     "output_type": "execute_result"
    }
   ],
   "source": [
    "s = \" | \"\n",
    "s.join(list_1)"
   ]
  },
  {
   "cell_type": "markdown",
   "id": "7febb5e6",
   "metadata": {},
   "source": [
    "# CHAPTER 2 DATA STRUCTURES"
   ]
  },
  {
   "cell_type": "markdown",
   "id": "49fe46a6",
   "metadata": {},
   "source": [
    "2.4 FUNCTIONS\n",
    "\n",
    "Introduction\n",
    "\n",
    "We were introduced to the basic concepts of different fundamental data structures in the previous\n",
    "chapter. We learned about lists, sets, dictionaries, tuples, and strings. However, what we have\n",
    "covered so far were only basic operations on those data structures. They have much more to\n",
    "offer o nce you l earn h ow t o u tilize t hem e ffectively. In th is ch apter, we wi ll ve nture fu rther into\n",
    "the land of data structures. We will learn about advanced operations and manipulations and use\n",
    "fundamental data structures to represent more complex and higher-level data structures; this is\n",
    "often handy while wrangling data in real life. These higher-level topics will include stacks, queues,\n",
    "interiors, and file operations.\n",
    "\n",
    "In this chapter, we will also learn how to open a file using built-in Python methods and about the\n",
    "many different file operations, such as reading and writing data, and safely closing files once we are\n",
    "done. We will also take a look at some of the problems to avoid while dealing with files.\n",
    "\n",
    "Iterator\n",
    "\n",
    "Iterators in Python are very useful when dealing with data as they allow you to parse the data one\n",
    "unit at a time. Iterators are stateful, which means it will be helpful to keep track of the previous\n",
    "state. An iterator is an object that implements the next method—meaning an iterator can iterate\n",
    "over collections such as lists, tuples, dictionaries, and more. Practically, this means that each time\n",
    "we call the method, it gives us the next element from the collection; if there is no further element\n",
    "in the list, then it raises a StopIteration exception.\n",
    "\n",
    "Let’s learn about the various functions we can use with itertools. As you execute each line of the\n",
    "code after the import statement, you will be able to see details about what that particular function\n",
    "does and how to use it:"
   ]
  },
  {
   "cell_type": "code",
   "execution_count": 94,
   "id": "27250202",
   "metadata": {},
   "outputs": [],
   "source": [
    "from itertools import (permutations, combinations, \\\n",
    "dropwhile, repeat, zip_longest)\n",
    "\n",
    "permutations?\n",
    "combinations?\n",
    "dropwhile?\n",
    "repeat?\n",
    "zip_longest?"
   ]
  },
  {
   "cell_type": "markdown",
   "id": "f7711722",
   "metadata": {},
   "source": [
    "Exercise 2.15: Introducing to the Iterator\n",
    "\n",
    "In this exercise, we’re going to generate a long list containing numbers. We will first c heck the\n",
    "memory occupied by the generated list. We will then check how we can use the iterator module to\n",
    "reduce memory utilization, and finally, we w ill u se t his i terator t o l oop over t he l ist. To d o this,\n",
    "let’s go through the following steps:\n",
    "\n",
    "1. Open a new Jupyter Notebook and generate a list that will contain 10000000 ones. Then,\n",
    "store this list in a variable called big_list_of_numbers:"
   ]
  },
  {
   "cell_type": "code",
   "execution_count": 95,
   "id": "bfb60d43",
   "metadata": {},
   "outputs": [
    {
     "data": {
      "text/plain": [
       "[1,\n",
       " 1,\n",
       " 1,\n",
       " 1,\n",
       " 1,\n",
       " 1,\n",
       " 1,\n",
       " 1,\n",
       " 1,\n",
       " 1,\n",
       " 1,\n",
       " 1,\n",
       " 1,\n",
       " 1,\n",
       " 1,\n",
       " 1,\n",
       " 1,\n",
       " 1,\n",
       " 1,\n",
       " 1,\n",
       " 1,\n",
       " 1,\n",
       " 1,\n",
       " 1,\n",
       " 1,\n",
       " 1,\n",
       " 1,\n",
       " 1,\n",
       " 1,\n",
       " 1,\n",
       " 1,\n",
       " 1,\n",
       " 1,\n",
       " 1,\n",
       " 1,\n",
       " 1,\n",
       " 1,\n",
       " 1,\n",
       " 1,\n",
       " 1,\n",
       " 1,\n",
       " 1,\n",
       " 1,\n",
       " 1,\n",
       " 1,\n",
       " 1,\n",
       " 1,\n",
       " 1,\n",
       " 1,\n",
       " 1,\n",
       " 1,\n",
       " 1,\n",
       " 1,\n",
       " 1,\n",
       " 1,\n",
       " 1,\n",
       " 1,\n",
       " 1,\n",
       " 1,\n",
       " 1,\n",
       " 1,\n",
       " 1,\n",
       " 1,\n",
       " 1,\n",
       " 1,\n",
       " 1,\n",
       " 1,\n",
       " 1,\n",
       " 1,\n",
       " 1,\n",
       " 1,\n",
       " 1,\n",
       " 1,\n",
       " 1,\n",
       " 1,\n",
       " 1,\n",
       " 1,\n",
       " 1,\n",
       " 1,\n",
       " 1,\n",
       " 1,\n",
       " 1,\n",
       " 1,\n",
       " 1,\n",
       " 1,\n",
       " 1,\n",
       " 1,\n",
       " 1,\n",
       " 1,\n",
       " 1,\n",
       " 1,\n",
       " 1,\n",
       " 1,\n",
       " 1,\n",
       " 1,\n",
       " 1,\n",
       " 1,\n",
       " 1,\n",
       " 1,\n",
       " 1,\n",
       " 1,\n",
       " 1,\n",
       " 1,\n",
       " 1,\n",
       " 1,\n",
       " 1,\n",
       " 1,\n",
       " 1,\n",
       " 1,\n",
       " 1,\n",
       " 1,\n",
       " 1,\n",
       " 1,\n",
       " 1,\n",
       " 1,\n",
       " 1,\n",
       " 1,\n",
       " 1,\n",
       " 1,\n",
       " 1,\n",
       " 1,\n",
       " 1,\n",
       " 1,\n",
       " 1,\n",
       " 1,\n",
       " 1,\n",
       " 1,\n",
       " 1,\n",
       " 1,\n",
       " 1,\n",
       " 1,\n",
       " 1,\n",
       " 1,\n",
       " 1,\n",
       " 1,\n",
       " 1,\n",
       " 1,\n",
       " 1,\n",
       " 1,\n",
       " 1,\n",
       " 1,\n",
       " 1,\n",
       " 1,\n",
       " 1,\n",
       " 1,\n",
       " 1,\n",
       " 1,\n",
       " 1,\n",
       " 1,\n",
       " 1,\n",
       " 1,\n",
       " 1,\n",
       " 1,\n",
       " 1,\n",
       " 1,\n",
       " 1,\n",
       " 1,\n",
       " 1,\n",
       " 1,\n",
       " 1,\n",
       " 1,\n",
       " 1,\n",
       " 1,\n",
       " 1,\n",
       " 1,\n",
       " 1,\n",
       " 1,\n",
       " 1,\n",
       " 1,\n",
       " 1,\n",
       " 1,\n",
       " 1,\n",
       " 1,\n",
       " 1,\n",
       " 1,\n",
       " 1,\n",
       " 1,\n",
       " 1,\n",
       " 1,\n",
       " 1,\n",
       " 1,\n",
       " 1,\n",
       " 1,\n",
       " 1,\n",
       " 1,\n",
       " 1,\n",
       " 1,\n",
       " 1,\n",
       " 1,\n",
       " 1,\n",
       " 1,\n",
       " 1,\n",
       " 1,\n",
       " 1,\n",
       " 1,\n",
       " 1,\n",
       " 1,\n",
       " 1,\n",
       " 1,\n",
       " 1,\n",
       " 1,\n",
       " 1,\n",
       " 1,\n",
       " 1,\n",
       " 1,\n",
       " 1,\n",
       " 1,\n",
       " 1,\n",
       " 1,\n",
       " 1,\n",
       " 1,\n",
       " 1,\n",
       " 1,\n",
       " 1,\n",
       " 1,\n",
       " 1,\n",
       " 1,\n",
       " 1,\n",
       " 1,\n",
       " 1,\n",
       " 1,\n",
       " 1,\n",
       " 1,\n",
       " 1,\n",
       " 1,\n",
       " 1,\n",
       " 1,\n",
       " 1,\n",
       " 1,\n",
       " 1,\n",
       " 1,\n",
       " 1,\n",
       " 1,\n",
       " 1,\n",
       " 1,\n",
       " 1,\n",
       " 1,\n",
       " 1,\n",
       " 1,\n",
       " 1,\n",
       " 1,\n",
       " 1,\n",
       " 1,\n",
       " 1,\n",
       " 1,\n",
       " 1,\n",
       " 1,\n",
       " 1,\n",
       " 1,\n",
       " 1,\n",
       " 1,\n",
       " 1,\n",
       " 1,\n",
       " 1,\n",
       " 1,\n",
       " 1,\n",
       " 1,\n",
       " 1,\n",
       " 1,\n",
       " 1,\n",
       " 1,\n",
       " 1,\n",
       " 1,\n",
       " 1,\n",
       " 1,\n",
       " 1,\n",
       " 1,\n",
       " 1,\n",
       " 1,\n",
       " 1,\n",
       " 1,\n",
       " 1,\n",
       " 1,\n",
       " 1,\n",
       " 1,\n",
       " 1,\n",
       " 1,\n",
       " 1,\n",
       " 1,\n",
       " 1,\n",
       " 1,\n",
       " 1,\n",
       " 1,\n",
       " 1,\n",
       " 1,\n",
       " 1,\n",
       " 1,\n",
       " 1,\n",
       " 1,\n",
       " 1,\n",
       " 1,\n",
       " 1,\n",
       " 1,\n",
       " 1,\n",
       " 1,\n",
       " 1,\n",
       " 1,\n",
       " 1,\n",
       " 1,\n",
       " 1,\n",
       " 1,\n",
       " 1,\n",
       " 1,\n",
       " 1,\n",
       " 1,\n",
       " 1,\n",
       " 1,\n",
       " 1,\n",
       " 1,\n",
       " 1,\n",
       " 1,\n",
       " 1,\n",
       " 1,\n",
       " 1,\n",
       " 1,\n",
       " 1,\n",
       " 1,\n",
       " 1,\n",
       " 1,\n",
       " 1,\n",
       " 1,\n",
       " 1,\n",
       " 1,\n",
       " 1,\n",
       " 1,\n",
       " 1,\n",
       " 1,\n",
       " 1,\n",
       " 1,\n",
       " 1,\n",
       " 1,\n",
       " 1,\n",
       " 1,\n",
       " 1,\n",
       " 1,\n",
       " 1,\n",
       " 1,\n",
       " 1,\n",
       " 1,\n",
       " 1,\n",
       " 1,\n",
       " 1,\n",
       " 1,\n",
       " 1,\n",
       " 1,\n",
       " 1,\n",
       " 1,\n",
       " 1,\n",
       " 1,\n",
       " 1,\n",
       " 1,\n",
       " 1,\n",
       " 1,\n",
       " 1,\n",
       " 1,\n",
       " 1,\n",
       " 1,\n",
       " 1,\n",
       " 1,\n",
       " 1,\n",
       " 1,\n",
       " 1,\n",
       " 1,\n",
       " 1,\n",
       " 1,\n",
       " 1,\n",
       " 1,\n",
       " 1,\n",
       " 1,\n",
       " 1,\n",
       " 1,\n",
       " 1,\n",
       " 1,\n",
       " 1,\n",
       " 1,\n",
       " 1,\n",
       " 1,\n",
       " 1,\n",
       " 1,\n",
       " 1,\n",
       " 1,\n",
       " 1,\n",
       " 1,\n",
       " 1,\n",
       " 1,\n",
       " 1,\n",
       " 1,\n",
       " 1,\n",
       " 1,\n",
       " 1,\n",
       " 1,\n",
       " 1,\n",
       " 1,\n",
       " 1,\n",
       " 1,\n",
       " 1,\n",
       " 1,\n",
       " 1,\n",
       " 1,\n",
       " 1,\n",
       " 1,\n",
       " 1,\n",
       " 1,\n",
       " 1,\n",
       " 1,\n",
       " 1,\n",
       " 1,\n",
       " 1,\n",
       " 1,\n",
       " 1,\n",
       " 1,\n",
       " 1,\n",
       " 1,\n",
       " 1,\n",
       " 1,\n",
       " 1,\n",
       " 1,\n",
       " 1,\n",
       " 1,\n",
       " 1,\n",
       " 1,\n",
       " 1,\n",
       " 1,\n",
       " 1,\n",
       " 1,\n",
       " 1,\n",
       " 1,\n",
       " 1,\n",
       " 1,\n",
       " 1,\n",
       " 1,\n",
       " 1,\n",
       " 1,\n",
       " 1,\n",
       " 1,\n",
       " 1,\n",
       " 1,\n",
       " 1,\n",
       " 1,\n",
       " 1,\n",
       " 1,\n",
       " 1,\n",
       " 1,\n",
       " 1,\n",
       " 1,\n",
       " 1,\n",
       " 1,\n",
       " 1,\n",
       " 1,\n",
       " 1,\n",
       " 1,\n",
       " 1,\n",
       " 1,\n",
       " 1,\n",
       " 1,\n",
       " 1,\n",
       " 1,\n",
       " 1,\n",
       " 1,\n",
       " 1,\n",
       " 1,\n",
       " 1,\n",
       " 1,\n",
       " 1,\n",
       " 1,\n",
       " 1,\n",
       " 1,\n",
       " 1,\n",
       " 1,\n",
       " 1,\n",
       " 1,\n",
       " 1,\n",
       " 1,\n",
       " 1,\n",
       " 1,\n",
       " 1,\n",
       " 1,\n",
       " 1,\n",
       " 1,\n",
       " 1,\n",
       " 1,\n",
       " 1,\n",
       " 1,\n",
       " 1,\n",
       " 1,\n",
       " 1,\n",
       " 1,\n",
       " 1,\n",
       " 1,\n",
       " 1,\n",
       " 1,\n",
       " 1,\n",
       " 1,\n",
       " 1,\n",
       " 1,\n",
       " 1,\n",
       " 1,\n",
       " 1,\n",
       " 1,\n",
       " 1,\n",
       " 1,\n",
       " 1,\n",
       " 1,\n",
       " 1,\n",
       " 1,\n",
       " 1,\n",
       " 1,\n",
       " 1,\n",
       " 1,\n",
       " 1,\n",
       " 1,\n",
       " 1,\n",
       " 1,\n",
       " 1,\n",
       " 1,\n",
       " 1,\n",
       " 1,\n",
       " 1,\n",
       " 1,\n",
       " 1,\n",
       " 1,\n",
       " 1,\n",
       " 1,\n",
       " 1,\n",
       " 1,\n",
       " 1,\n",
       " 1,\n",
       " 1,\n",
       " 1,\n",
       " 1,\n",
       " 1,\n",
       " 1,\n",
       " 1,\n",
       " 1,\n",
       " 1,\n",
       " 1,\n",
       " 1,\n",
       " 1,\n",
       " 1,\n",
       " 1,\n",
       " 1,\n",
       " 1,\n",
       " 1,\n",
       " 1,\n",
       " 1,\n",
       " 1,\n",
       " 1,\n",
       " 1,\n",
       " 1,\n",
       " 1,\n",
       " 1,\n",
       " 1,\n",
       " 1,\n",
       " 1,\n",
       " 1,\n",
       " 1,\n",
       " 1,\n",
       " 1,\n",
       " 1,\n",
       " 1,\n",
       " 1,\n",
       " 1,\n",
       " 1,\n",
       " 1,\n",
       " 1,\n",
       " 1,\n",
       " 1,\n",
       " 1,\n",
       " 1,\n",
       " 1,\n",
       " 1,\n",
       " 1,\n",
       " 1,\n",
       " 1,\n",
       " 1,\n",
       " 1,\n",
       " 1,\n",
       " 1,\n",
       " 1,\n",
       " 1,\n",
       " 1,\n",
       " 1,\n",
       " 1,\n",
       " 1,\n",
       " 1,\n",
       " 1,\n",
       " 1,\n",
       " 1,\n",
       " 1,\n",
       " 1,\n",
       " 1,\n",
       " 1,\n",
       " 1,\n",
       " 1,\n",
       " 1,\n",
       " 1,\n",
       " 1,\n",
       " 1,\n",
       " 1,\n",
       " 1,\n",
       " 1,\n",
       " 1,\n",
       " 1,\n",
       " 1,\n",
       " 1,\n",
       " 1,\n",
       " 1,\n",
       " 1,\n",
       " 1,\n",
       " 1,\n",
       " 1,\n",
       " 1,\n",
       " 1,\n",
       " 1,\n",
       " 1,\n",
       " 1,\n",
       " 1,\n",
       " 1,\n",
       " 1,\n",
       " 1,\n",
       " 1,\n",
       " 1,\n",
       " 1,\n",
       " 1,\n",
       " 1,\n",
       " 1,\n",
       " 1,\n",
       " 1,\n",
       " 1,\n",
       " 1,\n",
       " 1,\n",
       " 1,\n",
       " 1,\n",
       " 1,\n",
       " 1,\n",
       " 1,\n",
       " 1,\n",
       " 1,\n",
       " 1,\n",
       " 1,\n",
       " 1,\n",
       " 1,\n",
       " 1,\n",
       " 1,\n",
       " 1,\n",
       " 1,\n",
       " 1,\n",
       " 1,\n",
       " 1,\n",
       " 1,\n",
       " 1,\n",
       " 1,\n",
       " 1,\n",
       " 1,\n",
       " 1,\n",
       " 1,\n",
       " 1,\n",
       " 1,\n",
       " 1,\n",
       " 1,\n",
       " 1,\n",
       " 1,\n",
       " 1,\n",
       " 1,\n",
       " 1,\n",
       " 1,\n",
       " 1,\n",
       " 1,\n",
       " 1,\n",
       " 1,\n",
       " 1,\n",
       " 1,\n",
       " 1,\n",
       " 1,\n",
       " 1,\n",
       " 1,\n",
       " 1,\n",
       " 1,\n",
       " 1,\n",
       " 1,\n",
       " 1,\n",
       " 1,\n",
       " 1,\n",
       " 1,\n",
       " 1,\n",
       " 1,\n",
       " 1,\n",
       " 1,\n",
       " 1,\n",
       " 1,\n",
       " 1,\n",
       " 1,\n",
       " 1,\n",
       " 1,\n",
       " 1,\n",
       " 1,\n",
       " 1,\n",
       " 1,\n",
       " 1,\n",
       " 1,\n",
       " 1,\n",
       " 1,\n",
       " 1,\n",
       " 1,\n",
       " 1,\n",
       " 1,\n",
       " 1,\n",
       " 1,\n",
       " 1,\n",
       " 1,\n",
       " 1,\n",
       " 1,\n",
       " 1,\n",
       " 1,\n",
       " 1,\n",
       " 1,\n",
       " 1,\n",
       " 1,\n",
       " 1,\n",
       " 1,\n",
       " 1,\n",
       " 1,\n",
       " 1,\n",
       " 1,\n",
       " 1,\n",
       " 1,\n",
       " 1,\n",
       " 1,\n",
       " 1,\n",
       " 1,\n",
       " 1,\n",
       " 1,\n",
       " 1,\n",
       " 1,\n",
       " 1,\n",
       " 1,\n",
       " 1,\n",
       " 1,\n",
       " 1,\n",
       " 1,\n",
       " 1,\n",
       " 1,\n",
       " 1,\n",
       " 1,\n",
       " 1,\n",
       " 1,\n",
       " 1,\n",
       " 1,\n",
       " 1,\n",
       " 1,\n",
       " 1,\n",
       " 1,\n",
       " 1,\n",
       " 1,\n",
       " 1,\n",
       " 1,\n",
       " 1,\n",
       " 1,\n",
       " 1,\n",
       " 1,\n",
       " 1,\n",
       " 1,\n",
       " 1,\n",
       " 1,\n",
       " 1,\n",
       " 1,\n",
       " 1,\n",
       " 1,\n",
       " 1,\n",
       " 1,\n",
       " 1,\n",
       " 1,\n",
       " 1,\n",
       " 1,\n",
       " 1,\n",
       " 1,\n",
       " 1,\n",
       " 1,\n",
       " 1,\n",
       " 1,\n",
       " 1,\n",
       " 1,\n",
       " 1,\n",
       " 1,\n",
       " 1,\n",
       " 1,\n",
       " 1,\n",
       " 1,\n",
       " 1,\n",
       " 1,\n",
       " 1,\n",
       " 1,\n",
       " 1,\n",
       " 1,\n",
       " 1,\n",
       " 1,\n",
       " 1,\n",
       " 1,\n",
       " 1,\n",
       " 1,\n",
       " 1,\n",
       " 1,\n",
       " 1,\n",
       " 1,\n",
       " 1,\n",
       " 1,\n",
       " 1,\n",
       " 1,\n",
       " 1,\n",
       " 1,\n",
       " 1,\n",
       " 1,\n",
       " 1,\n",
       " 1,\n",
       " 1,\n",
       " 1,\n",
       " 1,\n",
       " 1,\n",
       " 1,\n",
       " 1,\n",
       " 1,\n",
       " 1,\n",
       " 1,\n",
       " 1,\n",
       " 1,\n",
       " 1,\n",
       " 1,\n",
       " 1,\n",
       " 1,\n",
       " 1,\n",
       " 1,\n",
       " 1,\n",
       " 1,\n",
       " 1,\n",
       " 1,\n",
       " 1,\n",
       " 1,\n",
       " 1,\n",
       " 1,\n",
       " 1,\n",
       " 1,\n",
       " 1,\n",
       " 1,\n",
       " 1,\n",
       " 1,\n",
       " 1,\n",
       " 1,\n",
       " 1,\n",
       " 1,\n",
       " 1,\n",
       " 1,\n",
       " 1,\n",
       " 1,\n",
       " 1,\n",
       " 1,\n",
       " 1,\n",
       " 1,\n",
       " 1,\n",
       " 1,\n",
       " 1,\n",
       " 1,\n",
       " 1,\n",
       " 1,\n",
       " 1,\n",
       " 1,\n",
       " 1,\n",
       " 1,\n",
       " 1,\n",
       " 1,\n",
       " 1,\n",
       " 1,\n",
       " 1,\n",
       " 1,\n",
       " 1,\n",
       " 1,\n",
       " 1,\n",
       " 1,\n",
       " 1,\n",
       " 1,\n",
       " 1,\n",
       " 1,\n",
       " 1,\n",
       " 1,\n",
       " 1,\n",
       " 1,\n",
       " 1,\n",
       " 1,\n",
       " 1,\n",
       " 1,\n",
       " 1,\n",
       " 1,\n",
       " 1,\n",
       " 1,\n",
       " 1,\n",
       " 1,\n",
       " 1,\n",
       " 1,\n",
       " 1,\n",
       " 1,\n",
       " 1,\n",
       " 1,\n",
       " 1,\n",
       " 1,\n",
       " 1,\n",
       " 1,\n",
       " 1,\n",
       " 1,\n",
       " 1,\n",
       " 1,\n",
       " 1,\n",
       " 1,\n",
       " 1,\n",
       " 1,\n",
       " 1,\n",
       " 1,\n",
       " 1,\n",
       " 1,\n",
       " 1,\n",
       " 1,\n",
       " 1,\n",
       " 1,\n",
       " 1,\n",
       " 1,\n",
       " 1,\n",
       " 1,\n",
       " 1,\n",
       " 1,\n",
       " 1,\n",
       " 1,\n",
       " 1,\n",
       " 1,\n",
       " 1,\n",
       " 1,\n",
       " 1,\n",
       " 1,\n",
       " 1,\n",
       " 1,\n",
       " 1,\n",
       " 1,\n",
       " 1,\n",
       " 1,\n",
       " 1,\n",
       " 1,\n",
       " 1,\n",
       " 1,\n",
       " 1,\n",
       " 1,\n",
       " 1,\n",
       " 1,\n",
       " 1,\n",
       " 1,\n",
       " 1,\n",
       " 1,\n",
       " 1,\n",
       " 1,\n",
       " 1,\n",
       " 1,\n",
       " 1,\n",
       " 1,\n",
       " 1,\n",
       " 1,\n",
       " 1,\n",
       " 1,\n",
       " 1,\n",
       " 1,\n",
       " 1,\n",
       " 1,\n",
       " 1,\n",
       " 1,\n",
       " 1,\n",
       " 1,\n",
       " 1,\n",
       " 1,\n",
       " 1,\n",
       " 1,\n",
       " 1,\n",
       " 1,\n",
       " 1,\n",
       " 1,\n",
       " 1,\n",
       " 1,\n",
       " 1,\n",
       " 1,\n",
       " 1,\n",
       " 1,\n",
       " 1,\n",
       " 1,\n",
       " 1,\n",
       " 1,\n",
       " 1,\n",
       " 1,\n",
       " 1,\n",
       " 1,\n",
       " 1,\n",
       " 1,\n",
       " 1,\n",
       " 1,\n",
       " 1,\n",
       " 1,\n",
       " 1,\n",
       " ...]"
      ]
     },
     "execution_count": 95,
     "metadata": {},
     "output_type": "execute_result"
    }
   ],
   "source": [
    "big_list_of_numbers = [1 for x in range (0, 10000000)]\n",
    "big_list_of_numbers"
   ]
  },
  {
   "cell_type": "markdown",
   "id": "c8550527",
   "metadata": {},
   "source": [
    "2. Check the size of this variable:"
   ]
  },
  {
   "cell_type": "code",
   "execution_count": 96,
   "id": "ae938393",
   "metadata": {},
   "outputs": [
    {
     "data": {
      "text/plain": [
       "89095160"
      ]
     },
     "execution_count": 96,
     "metadata": {},
     "output_type": "execute_result"
    }
   ],
   "source": [
    "from sys import getsizeof\n",
    "getsizeof(big_list_of_numbers)"
   ]
  },
  {
   "cell_type": "markdown",
   "id": "60c5d672",
   "metadata": {},
   "source": [
    "The value shown is 81528048 (in bytes). This is a huge chunk of memory occupied by the list. And\n",
    "the big_list_of_numbers variable is only available once the list comprehension is over. It can also\n",
    "overflow the available system memory if you try too big a number.\n",
    "\n",
    "3. Let’s use the repeat() method from itertools to get the same number but with less memory:\n"
   ]
  },
  {
   "cell_type": "code",
   "execution_count": 97,
   "id": "6ac7cab6",
   "metadata": {},
   "outputs": [
    {
     "data": {
      "text/plain": [
       "48"
      ]
     },
     "execution_count": 97,
     "metadata": {},
     "output_type": "execute_result"
    }
   ],
   "source": [
    "from itertools import repeat\n",
    "small_list_of_numbers = repeat(1, times=10000000)\n",
    "getsizeof(small_list_of_numbers)"
   ]
  },
  {
   "cell_type": "markdown",
   "id": "f5356c47",
   "metadata": {},
   "source": [
    "The last line shows that our list small_list_of_numbers is only 48 bytes in size. Also, it is a lazy\n",
    "method, a technique used in functional programming that will delay the execution of a method or\n",
    "a function by a few seconds. In this case, Python will not generate all the elements initially. It\n",
    "will, instead, generate them one by one when asked, thus saving us time. In fact, if you omit the\n",
    "times keyword argument in the repeat() method in the preceding code, then you can practically\n",
    "generate an infinite number of ones.\n",
    "\n",
    "4. Loop over the newly generated iterator:\n"
   ]
  },
  {
   "cell_type": "code",
   "execution_count": 98,
   "id": "97a5563a",
   "metadata": {},
   "outputs": [
    {
     "name": "stdout",
     "output_type": "stream",
     "text": [
      "1\n",
      "1\n",
      "1\n",
      "1\n",
      "1\n",
      "1\n",
      "1\n",
      "1\n",
      "1\n",
      "1\n",
      "1\n",
      "1\n"
     ]
    }
   ],
   "source": [
    "for i, x in enumerate(small_list_of_numbers):\n",
    "    print(x)\n",
    "    if i > 10:\n",
    "        break"
   ]
  },
  {
   "cell_type": "markdown",
   "id": "ffcd2296",
   "metadata": {},
   "source": [
    "We use the enumerate function so that we get the loop counter, along with the values. This will\n",
    "help us break the loop once we reach a certain number (10, for example.\n",
    "\n",
    "In this exercise, we first learned how to use the iterator function to reduce memory u sage. Then,\n",
    "we used an iterator to loop over a list. Now, we’ll see how to create stacks.\n",
    "\n",
    "Stacks\n",
    "                                                       \n",
    "A stack is a very useful data structure. If you know a bit about CPU internals and how a program\n",
    "gets executed, then you will know that a stack is present in many such cases. It is simply a listwith one restriction, Last In First Out (LIFO, meaning an element that comes in last goes out\n",
    "first when a value is read from a stack.\n",
    "                                                                                                                                          \n",
    "We will implement a stack using a Python list. Python lists have a method called pop, which does\n",
    "the exact same pop operation that you can see in the preceding illustration. Basically, the pop\n",
    "function will take an element off the stack, using the Last in First Out (LIFOr ules. We will use\n",
    "that to implement a stack in the following exercise.\n",
    "\n",
    "Let’s look at an example and try to understand the working of push() and pop() function:"
   ]
  },
  {
   "cell_type": "markdown",
   "id": "5b3e5c8c",
   "metadata": {},
   "source": [
    "Exercise 2.16: Stack Using List"
   ]
  },
  {
   "cell_type": "code",
   "execution_count": 99,
   "id": "f4d3cf50",
   "metadata": {},
   "outputs": [
    {
     "name": "stdout",
     "output_type": "stream",
     "text": [
      "['Goku', 'Bezita', 'Gohan', 'Trunks', 'Goten']\n",
      "Goten\n",
      "['Goku', 'Bezita', 'Gohan', 'Trunks']\n",
      "Trunks\n",
      "['Goku', 'Bezita', 'Gohan']\n"
     ]
    }
   ],
   "source": [
    "# Python code to demonstrate Implementing\n",
    "# stack using list\n",
    "stack = [\"Goku\", \"Bezita\", \"Gohan\"]\n",
    "# Let's push some other names into our list\n",
    "stack.append(\"Trunks\")\n",
    "stack.append(\"Goten\")\n",
    "print(stack)\n",
    "\n",
    "# Removes the last item\n",
    "print(stack.pop())\n",
    "\n",
    "print(stack)\n",
    "\n",
    "# Removes the last item\n",
    "print(stack.pop())\n",
    "\n",
    "print(stack)"
   ]
  },
  {
   "cell_type": "markdown",
   "id": "4c40c69a",
   "metadata": {},
   "source": [
    "Exercise 2.17: Implementing a Stack in Python\n",
    "    \n",
    "In this exercise, we’ll implement a stack in Python. We will first c reate a n e mpty s tack a nd add\n",
    "new elements to it using the append method. Next, we’ll take out elements from the stack using\n",
    "the pop method. Let’s go through the following steps:\n",
    "\n",
    "1. Import the necessary Python library and define an empty stack:"
   ]
  },
  {
   "cell_type": "code",
   "execution_count": 100,
   "id": "2c14afd5",
   "metadata": {},
   "outputs": [],
   "source": [
    "import pandas as pd\n",
    "stack = []"
   ]
  },
  {
   "cell_type": "markdown",
   "id": "216a0060",
   "metadata": {},
   "source": [
    "2. Use the append method to add multiple elements to the stack. Thanks to the append method,\n",
    "the element will always be appended at the end of the list:\n"
   ]
  },
  {
   "cell_type": "code",
   "execution_count": 101,
   "id": "70ba1010",
   "metadata": {},
   "outputs": [
    {
     "data": {
      "text/plain": [
       "['my_test@test.edu',\n",
       " 'rahul.subhramanian@test.edu',\n",
       " 'sania.test@test.edu',\n",
       " 'alec_baldwin@test.edu',\n",
       " 'albert90@test.edu',\n",
       " 'stewartj@test.edu']"
      ]
     },
     "execution_count": 101,
     "metadata": {},
     "output_type": "execute_result"
    }
   ],
   "source": [
    "stack.append('my_test@test.edu')\n",
    "stack.append('rahul.subhramanian@test.edu')\n",
    "stack.append('sania.test@test.edu')\n",
    "stack.append('alec_baldwin@test.edu')\n",
    "stack.append('albert90@test.edu')\n",
    "stack.append('stewartj@test.edu')\n",
    "stack"
   ]
  },
  {
   "cell_type": "markdown",
   "id": "7828d9ba",
   "metadata": {},
   "source": [
    "3. Let’s read a value from our stack using the pop method. This method reads the current last\n",
    "index of the list and returns it to us. It also deletes the index once the read is done:\n"
   ]
  },
  {
   "cell_type": "code",
   "execution_count": 102,
   "id": "32d82a54",
   "metadata": {},
   "outputs": [
    {
     "data": {
      "text/plain": [
       "'stewartj@test.edu'"
      ]
     },
     "execution_count": 102,
     "metadata": {},
     "output_type": "execute_result"
    }
   ],
   "source": [
    "tos = stack.pop()\n",
    "tos"
   ]
  },
  {
   "cell_type": "markdown",
   "id": "f2f5f5cd",
   "metadata": {},
   "source": [
    "As you can see, the last value of the stack has been retrieved. Now, if we add another value to the\n",
    "stack, the new value will be appended at the end of the stack.\n",
    "\n",
    "4. Append Hello@test.com to the stack:"
   ]
  },
  {
   "cell_type": "code",
   "execution_count": 103,
   "id": "f922759d",
   "metadata": {},
   "outputs": [
    {
     "data": {
      "text/plain": [
       "['my_test@test.edu',\n",
       " 'rahul.subhramanian@test.edu',\n",
       " 'sania.test@test.edu',\n",
       " 'alec_baldwin@test.edu',\n",
       " 'albert90@test.edu',\n",
       " 'Hello@test.com']"
      ]
     },
     "execution_count": 103,
     "metadata": {},
     "output_type": "execute_result"
    }
   ],
   "source": [
    "stack.append(\"Hello@test.com\")\n",
    "stack"
   ]
  },
  {
   "cell_type": "code",
   "execution_count": 104,
   "id": "29a4316b",
   "metadata": {},
   "outputs": [
    {
     "data": {
      "text/plain": [
       "'Hello@test.com'"
      ]
     },
     "execution_count": 104,
     "metadata": {},
     "output_type": "execute_result"
    }
   ],
   "source": [
    "tos = stack.pop()\n",
    "tos"
   ]
  },
  {
   "cell_type": "markdown",
   "id": "b1de60cb",
   "metadata": {},
   "source": [
    "From the exercise, we can see that the basic stack operations, append and pop, are pretty easy to\n",
    "perform.\n",
    "\n",
    "Let’s visualize a problem where you are scraping a web page and you want to follow each URL\n",
    "present there (backlinks. Let’s split the solution to this problem into three parts. In the first part,\n",
    "we would append all the URLs scraped off the page into the s tack. In the second part, we would\n",
    "pop each element in the stack, and then lastly, we would examine every URL, repeating the same\n",
    "process for each page. We will examine a part of this task in the next exercise.\n",
    "\n",
    "Exercise 2.18: Implementing a Stack Using User-De ined Methods\n",
    "\n",
    "In this exercise, we will continue the topic of stacks from the last exercise. This time, we will\n",
    "implement the append and pop functions by creating user-defined m ethods. We will implement a\n",
    "stack, and this time with a business use case example (taking Wikipedia as a source. The aim\n",
    "of this exercise is twofold. In the first f ew s teps, w e w ill e xtract a nd a ppend t he U RLs scraped\n",
    "off a web page in a stack, which also involves the string methods discussed in the last c hapter. In\n",
    "the next few steps, we will use the stack_pop function to iterate over the stack and print them.\n",
    "This exercise will show us a subtle feature of Python and how it handles passing list variables to\n",
    "functions. Let’s go through the following steps:\n",
    "\n",
    "1. First, define two functions: stack_push and stack_pop. We renamed them so that we do not\n",
    "have a namespace conflict. Also, create a stack called url_ stack for later use:"
   ]
  },
  {
   "cell_type": "code",
   "execution_count": 105,
   "id": "75e01284",
   "metadata": {},
   "outputs": [
    {
     "data": {
      "text/plain": [
       "[]"
      ]
     },
     "execution_count": 105,
     "metadata": {},
     "output_type": "execute_result"
    }
   ],
   "source": [
    "def stack_push(s, value):\n",
    "    return s + [value]\n",
    "def stack_pop(s):\n",
    "    tos = s[-1]\n",
    "    del s[-1]\n",
    "    return tos\n",
    "url_stack = []\n",
    "url_stack"
   ]
  },
  {
   "cell_type": "markdown",
   "id": "0f4691b7",
   "metadata": {},
   "source": [
    "The first function takes the already existing stack and adds the value at the end of it.\n",
    "\n",
    "Now, we are going to have a string with a few URLs in it.\n",
    "\n",
    "2. Analyze the string so that we push the URLs in the stack one by one as we encounter them,\n",
    "and then use a for loop to pop them one by one. Let’s take the first line from the Wikipedia\n",
    "article (https://en.wikipedia.org/wiki/Data_mining) about data science:\n"
   ]
  },
  {
   "cell_type": "code",
   "execution_count": 106,
   "id": "37cf64d3",
   "metadata": {},
   "outputs": [],
   "source": [
    "wikipedia_datascience = \"\"\"Data science is an interdisciplinary\n",
    "field that uses scientific methods, processes, algorithms and systems\n",
    "to extract knowledge [https://en.wikipedia.org/wiki/Knowledge] and\n",
    "insights from data [https://en.wikipedia.org/wiki/Data] in various\n",
    "forms, both structured and unstructured,similar to data mining\n",
    "[https://en.wikipedia.org/wiki/Data_mining]\"\"\""
   ]
  },
  {
   "cell_type": "markdown",
   "id": "fa54b84e",
   "metadata": {},
   "source": [
    "For the sake of the simplicity of this exercise, we have kept the links in square brackets beside the\n",
    "target words.\n",
    "\n",
    "3. Find the length of the string:"
   ]
  },
  {
   "cell_type": "code",
   "execution_count": 107,
   "id": "9edade31",
   "metadata": {},
   "outputs": [
    {
     "data": {
      "text/plain": [
       "347"
      ]
     },
     "execution_count": 107,
     "metadata": {},
     "output_type": "execute_result"
    }
   ],
   "source": [
    "len(wikipedia_datascience)"
   ]
  },
  {
   "cell_type": "markdown",
   "id": "9d1a8617",
   "metadata": {},
   "source": [
    "4. Convert this string into a list by using the split method from the string, and then calculate\n",
    "its length:"
   ]
  },
  {
   "cell_type": "code",
   "execution_count": 108,
   "id": "8880fb7c",
   "metadata": {},
   "outputs": [
    {
     "data": {
      "text/plain": [
       "['Data',\n",
       " 'science',\n",
       " 'is',\n",
       " 'an',\n",
       " 'interdisciplinary',\n",
       " 'field',\n",
       " 'that',\n",
       " 'uses',\n",
       " 'scientific',\n",
       " 'methods,',\n",
       " 'processes,',\n",
       " 'algorithms',\n",
       " 'and',\n",
       " 'systems',\n",
       " 'to',\n",
       " 'extract',\n",
       " 'knowledge',\n",
       " '[https://en.wikipedia.org/wiki/Knowledge]',\n",
       " 'and',\n",
       " 'insights',\n",
       " 'from',\n",
       " 'data',\n",
       " '[https://en.wikipedia.org/wiki/Data]',\n",
       " 'in',\n",
       " 'various',\n",
       " 'forms,',\n",
       " 'both',\n",
       " 'structured',\n",
       " 'and',\n",
       " 'unstructured,similar',\n",
       " 'to',\n",
       " 'data',\n",
       " 'mining',\n",
       " '[https://en.wikipedia.org/wiki/Data_mining]']"
      ]
     },
     "execution_count": 108,
     "metadata": {},
     "output_type": "execute_result"
    }
   ],
   "source": [
    "wd_list = wikipedia_datascience.split()\n",
    "wd_list"
   ]
  },
  {
   "cell_type": "markdown",
   "id": "b079312c",
   "metadata": {},
   "source": [
    "5. Check the length of the list:"
   ]
  },
  {
   "cell_type": "code",
   "execution_count": 109,
   "id": "15974680",
   "metadata": {},
   "outputs": [
    {
     "data": {
      "text/plain": [
       "34"
      ]
     },
     "execution_count": 109,
     "metadata": {},
     "output_type": "execute_result"
    }
   ],
   "source": [
    "len(wd_list)"
   ]
  },
  {
   "cell_type": "markdown",
   "id": "8fe3e257",
   "metadata": {},
   "source": [
    "6. Use a for loop to go over each word and check whether it is a URL. To do that, we will use\n",
    "the startswith method from the string, and if it is a URL, then we push it into the stack:\n"
   ]
  },
  {
   "cell_type": "code",
   "execution_count": 110,
   "id": "62737e5d",
   "metadata": {},
   "outputs": [
    {
     "name": "stdout",
     "output_type": "stream",
     "text": [
      "https://en.wikipedia.org/wiki/Knowledge\n",
      "https://en.wikipedia.org/wiki/Data\n",
      "https://en.wikipedia.org/wiki/Data_mining\n"
     ]
    }
   ],
   "source": [
    "for word in wd_list:\n",
    "    if word.startswith(\"[https://\"):\n",
    "        url_stack = stack_push(url_stack, word[1:-1])\n",
    "        print(word[1:-1])\n"
   ]
  },
  {
   "cell_type": "markdown",
   "id": "ec7eb615",
   "metadata": {},
   "source": [
    "Notice the use of string slicing to remove the surrounding double quotes “[” ”]”.\n",
    "\n",
    "7. Print the value in url_stack:\n"
   ]
  },
  {
   "cell_type": "code",
   "execution_count": 111,
   "id": "c5a9134a",
   "metadata": {},
   "outputs": [
    {
     "name": "stdout",
     "output_type": "stream",
     "text": [
      "['https://en.wikipedia.org/wiki/Knowledge', 'https://en.wikipedia.org/wiki/Data', 'https://en.wikipedia.org/wiki/Data_mining']\n"
     ]
    }
   ],
   "source": [
    "print(url_stack)"
   ]
  },
  {
   "cell_type": "markdown",
   "id": "88a49968",
   "metadata": {},
   "source": [
    "8. Iterate over the list and print the URLs one by one by using the stack_ popz function:"
   ]
  },
  {
   "cell_type": "code",
   "execution_count": 114,
   "id": "751dd6b0",
   "metadata": {},
   "outputs": [
    {
     "name": "stdout",
     "output_type": "stream",
     "text": [
      "https://en.wikipedia.org/wiki/Data_mining\n",
      "https://en.wikipedia.org/wiki/Data\n",
      "https://en.wikipedia.org/wiki/Knowledge\n"
     ]
    }
   ],
   "source": [
    "for i in range(0, len(url_stack)):\n",
    "    print(stack_pop(url_stack))"
   ]
  },
  {
   "cell_type": "markdown",
   "id": "5f5a2545",
   "metadata": {},
   "source": [
    "9. Print it again to make sure that the stack is empty after the final for loop:"
   ]
  },
  {
   "cell_type": "code",
   "execution_count": 113,
   "id": "a0a38484",
   "metadata": {},
   "outputs": [
    {
     "name": "stdout",
     "output_type": "stream",
     "text": [
      "['https://en.wikipedia.org/wiki/Knowledge', 'https://en.wikipedia.org/wiki/Data', 'https://en.wikipedia.org/wiki/Data_mining']\n"
     ]
    }
   ],
   "source": [
    "print(url_stack)"
   ]
  },
  {
   "cell_type": "markdown",
   "id": "a709fc27",
   "metadata": {},
   "source": [
    "In this exercise, we have noticed a strange phenomenon in the stack_pop method. We passed the\n",
    "list variable there, and we used the del operator inside the function in step 1, but it changed the\n",
    "original variable by deleting the last index each time we called the function. If you use languages\n",
    "like C, C++, and Java, then this is a completely unexpected behavior as, in those languages, this\n",
    "can only happen if we pass the variable by reference, and it can lead to subtle bugs in Python code.\n",
    "So, be careful when using the user-defined methods.\n",
    "\n",
    "Lambda Expressions\n",
    "\n",
    "In general, it is not a good idea to change a variable’s value inside a function. Any variable that is\n",
    "passed to the function should be considered and treated as immutable. This is close to the principles\n",
    "of functional programming. However, in that case, we could use unnamed functions that are neither\n",
    "immutable nor mutable and are typically not stored in a variable. Such an expression or function,\n",
    "called a lambda expression in Python, is a way to construct one-line, nameless functions that are,\n",
    "by convention, side-effect-free and are loosely considered as implementing functional programming.\n",
    "\n",
    "Let’s look at the following exercise to understand how we use a lambda expression.\n",
    "\n",
    "Exercise 2.19: Implementing a Lambda Expression\n",
    "\n",
    "In this exercise, we will use a lambda expression to prove the famous trigonometric identity:\n",
    "\n",
    "Let’s go through the following steps to do this: 1. Import the math package:"
   ]
  },
  {
   "cell_type": "code",
   "execution_count": 115,
   "id": "3de9a16c",
   "metadata": {},
   "outputs": [],
   "source": [
    "import math"
   ]
  },
  {
   "cell_type": "markdown",
   "id": "c9da869a",
   "metadata": {},
   "source": [
    "2. Define two functions, my_sine and my_cosine, using the def keyword. The reason we are\n",
    "declaring these functions is the original sin and cos functions from the math package take\n",
    "radians as input, but we are more familiar with degrees. So, we will use a lambda expression\n",
    "to define a wrapper function for sine and cosine, then use it. This lambda function will\n",
    "automatically convert our degree input to radians and then apply sin or cos on it and return\n",
    "the value:"
   ]
  },
  {
   "cell_type": "code",
   "execution_count": 116,
   "id": "dc4ee9e5",
   "metadata": {},
   "outputs": [],
   "source": [
    "def my_sine():\n",
    "    return lambda x: math.sin(math.radians(x))\n",
    "def my_cosine():\n",
    "    return lambda x: math.cos(math.radians(x))\n"
   ]
  },
  {
   "cell_type": "markdown",
   "id": "78731877",
   "metadata": {},
   "source": [
    "3. Define sine and cosine for our purpose:"
   ]
  },
  {
   "cell_type": "code",
   "execution_count": 117,
   "id": "d9ac6bca",
   "metadata": {},
   "outputs": [
    {
     "data": {
      "text/plain": [
       "1.0"
      ]
     },
     "execution_count": 117,
     "metadata": {},
     "output_type": "execute_result"
    }
   ],
   "source": [
    "sine = my_sine()\n",
    "cosine = my_cosine()\n",
    "math.pow(sine(30), 2) + math.pow(cosine(30), 2)"
   ]
  },
  {
   "cell_type": "markdown",
   "id": "2de3a9ee",
   "metadata": {},
   "source": [
    "Notice that we have assigned the return value from both my_sine and my_cosine to two variables,\n",
    "and then used them directly as the functions. It is a much cleaner approach than using them\n",
    "explicitly. Notice that we did not explicitly write a return statement inside the lambda function;\n",
    "it is assumed."
   ]
  },
  {
   "cell_type": "markdown",
   "id": "87340ca8",
   "metadata": {},
   "source": [
    "Now, in the next section, we will be using lambda functions, also known as anonymous functions,\n",
    "which come from lambda calculus. Lambda functions are useful for creating temporary functions\n",
    "that are not named. The lambda expression will take an input and then return the first character\n",
    "of that input.\n",
    "\n",
    "Exercise 2.20: Lambda Expression for Sorting\n",
    "\n",
    "In this exercise, we will be exploring the sort function to take advantage of the lambda function.\n",
    "What makes this exercise useful is that you will be learning how to create any unique algorithm\n",
    "that could be used for sorting a dataset. The syntax for a lambda function is as follows:\n",
    "\n",
    "lambda x :\n",
    "\n",
    "A lambda expression can take one or more inputs. A lambda expression can also be used to reverse\n",
    "sort by using the parameter of reverse as True. We’ll use the reverse functionality as well in this\n",
    "exercise. Let’s go through the following steps:\n",
    "\n",
    "1. Let’s store the list of tuples we want to sort in a variable called capitals:"
   ]
  },
  {
   "cell_type": "code",
   "execution_count": 118,
   "id": "38633269",
   "metadata": {},
   "outputs": [],
   "source": [
    "capitals = [(\"USA\", \"Washington\"), (\"India\", \"Delhi\"), (\"France\",\n",
    "\"Paris\"), (\"UK\", \"London\")]"
   ]
  },
  {
   "cell_type": "markdown",
   "id": "90d0e909",
   "metadata": {},
   "source": [
    "2. Print the output of this list:"
   ]
  },
  {
   "cell_type": "code",
   "execution_count": 119,
   "id": "e39dd7e6",
   "metadata": {},
   "outputs": [
    {
     "data": {
      "text/plain": [
       "[('USA', 'Washington'),\n",
       " ('India', 'Delhi'),\n",
       " ('France', 'Paris'),\n",
       " ('UK', 'London')]"
      ]
     },
     "execution_count": 119,
     "metadata": {},
     "output_type": "execute_result"
    }
   ],
   "source": [
    "capitals"
   ]
  },
  {
   "cell_type": "markdown",
   "id": "607cb4e9",
   "metadata": {},
   "source": [
    "3. Sort this list by the name of the capitals of each country, using a simple lambda expression.\n",
    "The following code uses a lambda function as the sort function. It will sort based on the first\n",
    "element in each tuple:\n"
   ]
  },
  {
   "cell_type": "code",
   "execution_count": 120,
   "id": "18480a2b",
   "metadata": {},
   "outputs": [
    {
     "data": {
      "text/plain": [
       "[('France', 'Paris'),\n",
       " ('India', 'Delhi'),\n",
       " ('UK', 'London'),\n",
       " ('USA', 'Washington')]"
      ]
     },
     "execution_count": 120,
     "metadata": {},
     "output_type": "execute_result"
    }
   ],
   "source": [
    "capitals.sort(key=lambda item: item[0])\n",
    "capitals"
   ]
  },
  {
   "cell_type": "markdown",
   "id": "b4c0b105",
   "metadata": {},
   "source": [
    "As we can see, lambda expressions are powerful if we master them and use them in our data\n",
    "wrangling jobs. They are also side-effect-free—meaning that they do not change the values of the\n",
    "variables that are passed to them in place.\n",
    "\n",
    "We will now move on to the next section, where we will discuss membership checking for each\n",
    "element. Membership checking is commonly used terminology in qualitative research and describes\n",
    "the process of checking that the data present in a dataset is accurate.\n",
    "\n",
    "Exercise 2.21: Multi-Element Membership Checking\n",
    "\n",
    "In this exercise, we will create a list of words using for loop to validate that all the elements in the\n",
    "first list are present in the second l ist. Let’s see how:\n",
    "\n",
    "1. Create a list_of_words list with words scraped from a text corpus:"
   ]
  },
  {
   "cell_type": "code",
   "execution_count": 121,
   "id": "7c2a8958",
   "metadata": {},
   "outputs": [
    {
     "data": {
      "text/plain": [
       "['Hello', 'there.', 'How', 'are', 'you', 'doing?']"
      ]
     },
     "execution_count": 121,
     "metadata": {},
     "output_type": "execute_result"
    }
   ],
   "source": [
    "list_of_words = [\"Hello\", \"there.\", \"How\", \"are\", \"you\", \"doing?\"]\n",
    "list_of_words"
   ]
  },
  {
   "cell_type": "markdown",
   "id": "437985a9",
   "metadata": {},
   "source": [
    "2. Define a check_for list, which will contain two similar elements of list_of_words:\n"
   ]
  },
  {
   "cell_type": "code",
   "execution_count": 122,
   "id": "a509002a",
   "metadata": {},
   "outputs": [
    {
     "data": {
      "text/plain": [
       "['How', 'are']"
      ]
     },
     "execution_count": 122,
     "metadata": {},
     "output_type": "execute_result"
    }
   ],
   "source": [
    "check_for = [\"How\", \"are\"]\n",
    "check_for"
   ]
  },
  {
   "cell_type": "markdown",
   "id": "5dfca529",
   "metadata": {},
   "source": [
    "There is an elaborate solution, which involves a for loop and a few if/else conditions (and you\n",
    "should try to write it), but there is also an elegant Pythonic solution to this problem, which takes\n",
    "one line and uses the all function. The all function returns True if all elements of the iterable are\n",
    "True.\n",
    "3. Use the in keyword to check membership of the elements in the check_for list in\n",
    "list_of_words:"
   ]
  },
  {
   "cell_type": "code",
   "execution_count": 123,
   "id": "9e3ea4f5",
   "metadata": {},
   "outputs": [
    {
     "data": {
      "text/plain": [
       "False"
      ]
     },
     "execution_count": 123,
     "metadata": {},
     "output_type": "execute_result"
    }
   ],
   "source": [
    "all('b' in list_of_words for b in check_for)"
   ]
  },
  {
   "cell_type": "markdown",
   "id": "0725f4c6",
   "metadata": {},
   "source": [
    "It is indeed elegant and simple to reason about, and this neat trick is very important while dealing\n",
    "with lists. Basically, what we are doing is looping over the first l ist w ith t he c omprehension and\n",
    "then looping over the second list using the for loop. What makes this elegant is how compactly\n",
    "we can represent this complex process. Caution should be taken when using very complex list\n",
    "comprehension—the more complex you make it, the harder it is to read.\n",
    "\n",
    "Let’s look at the next data structure: a queue.\n",
    "\n",
    "Queue\n",
    "\n",
    "Apart from stacks, another high-level data structure type that we are interested in is queues. A\n",
    "queue is like a stack, which means that you continue adding elements one by one. With a queue,\n",
    "the reading of elements obeys the First in First Out (FIFO strategy.\n",
    "\n",
    "We will accomplish this first using list methods and will show you that, for this purpose, they are\n",
    "inefficient. T hen, we w ill l earn a bout t he d equeue d ata s tructure f rom t he c ollections m odule of\n",
    "Python. A queue is a very important data structure. We can think of a scenario on a producer\u0002consumer system design. When doing data wrangling, you will often come across a problem where\n",
    "you must process very big files. O ne o f t he ways t o d eal w ith t his p roblem i s t o s plit t he chunk\n",
    "the contents of the file i nto s maller p arts a nd t hen p ush t hem i nto a q ueue w hile c reating small,\n",
    "dedicated worker processes, to read off the queue and process one small chunk at a t ime. This is a\n",
    "very powerful design, and you can even use it efficiently to design huge multi-node data wrangling\n",
    "pipelines.\n",
    "\n",
    "Below is list implementation of queue. We use pop(0) to remove the first item from a list.\n",
    "\n",
    "Exercise 2.22: Queue Using List"
   ]
  },
  {
   "cell_type": "code",
   "execution_count": 124,
   "id": "8ed45b57",
   "metadata": {},
   "outputs": [
    {
     "name": "stdout",
     "output_type": "stream",
     "text": [
      "['Goku', 'Bezita', 'Gohan', 'Trunks', 'Goten']\n",
      "Goku\n",
      "['Bezita', 'Gohan', 'Trunks', 'Goten']\n",
      "Bezita\n",
      "['Gohan', 'Trunks', 'Goten']\n"
     ]
    }
   ],
   "source": [
    "# Python code to demonstrate Implementing\n",
    "# Queue using list\n",
    "queue = [\"Goku\", \"Bezita\", \"Gohan\"]\n",
    "queue.append(\"Trunks\")\n",
    "queue.append(\"Goten\")\n",
    "print(queue)\n",
    "\n",
    "# Removes the first item\n",
    "print(queue.pop(0))\n",
    "\n",
    "print(queue)\n",
    "\n",
    "# Removes the first item\n",
    "print(queue.pop(0))\n",
    "\n",
    "print(queue)"
   ]
  },
  {
   "cell_type": "markdown",
   "id": "c6ff7a5e",
   "metadata": {},
   "source": [
    "Exercise 2.23: Implementing a Queue in Python\n",
    "\n",
    "In this exercise, we’ll implement a queue in Python. We’ll use the append function to add elements\n",
    "to the queue and use the pop function to take elements out of the queue. We’ll also use the deque\n",
    "data structure and compare it with the queue in order to understand the wall time required to\n",
    "complete the execution of an operation. To do so, perform the following steps:\n",
    "\n",
    "1. Create a Python queue with the plain list methods. To record the time the append operation\n",
    "in the queue data structure takes, we use the %%time command:"
   ]
  },
  {
   "cell_type": "code",
   "execution_count": 140,
   "id": "3704b971",
   "metadata": {},
   "outputs": [
    {
     "name": "stdout",
     "output_type": "stream",
     "text": [
      "Queue created\n",
      "Wall time: 9.97 ms\n"
     ]
    },
    {
     "data": {
      "text/plain": [
       "[0,\n",
       " 1,\n",
       " 2,\n",
       " 3,\n",
       " 4,\n",
       " 5,\n",
       " 6,\n",
       " 7,\n",
       " 8,\n",
       " 9,\n",
       " 10,\n",
       " 11,\n",
       " 12,\n",
       " 13,\n",
       " 14,\n",
       " 15,\n",
       " 16,\n",
       " 17,\n",
       " 18,\n",
       " 19,\n",
       " 20,\n",
       " 21,\n",
       " 22,\n",
       " 23,\n",
       " 24,\n",
       " 25,\n",
       " 26,\n",
       " 27,\n",
       " 28,\n",
       " 29,\n",
       " 30,\n",
       " 31,\n",
       " 32,\n",
       " 33,\n",
       " 34,\n",
       " 35,\n",
       " 36,\n",
       " 37,\n",
       " 38,\n",
       " 39,\n",
       " 40,\n",
       " 41,\n",
       " 42,\n",
       " 43,\n",
       " 44,\n",
       " 45,\n",
       " 46,\n",
       " 47,\n",
       " 48,\n",
       " 49,\n",
       " 50,\n",
       " 51,\n",
       " 52,\n",
       " 53,\n",
       " 54,\n",
       " 55,\n",
       " 56,\n",
       " 57,\n",
       " 58,\n",
       " 59,\n",
       " 60,\n",
       " 61,\n",
       " 62,\n",
       " 63,\n",
       " 64,\n",
       " 65,\n",
       " 66,\n",
       " 67,\n",
       " 68,\n",
       " 69,\n",
       " 70,\n",
       " 71,\n",
       " 72,\n",
       " 73,\n",
       " 74,\n",
       " 75,\n",
       " 76,\n",
       " 77,\n",
       " 78,\n",
       " 79,\n",
       " 80,\n",
       " 81,\n",
       " 82,\n",
       " 83,\n",
       " 84,\n",
       " 85,\n",
       " 86,\n",
       " 87,\n",
       " 88,\n",
       " 89,\n",
       " 90,\n",
       " 91,\n",
       " 92,\n",
       " 93,\n",
       " 94,\n",
       " 95,\n",
       " 96,\n",
       " 97,\n",
       " 98,\n",
       " 99,\n",
       " 100,\n",
       " 101,\n",
       " 102,\n",
       " 103,\n",
       " 104,\n",
       " 105,\n",
       " 106,\n",
       " 107,\n",
       " 108,\n",
       " 109,\n",
       " 110,\n",
       " 111,\n",
       " 112,\n",
       " 113,\n",
       " 114,\n",
       " 115,\n",
       " 116,\n",
       " 117,\n",
       " 118,\n",
       " 119,\n",
       " 120,\n",
       " 121,\n",
       " 122,\n",
       " 123,\n",
       " 124,\n",
       " 125,\n",
       " 126,\n",
       " 127,\n",
       " 128,\n",
       " 129,\n",
       " 130,\n",
       " 131,\n",
       " 132,\n",
       " 133,\n",
       " 134,\n",
       " 135,\n",
       " 136,\n",
       " 137,\n",
       " 138,\n",
       " 139,\n",
       " 140,\n",
       " 141,\n",
       " 142,\n",
       " 143,\n",
       " 144,\n",
       " 145,\n",
       " 146,\n",
       " 147,\n",
       " 148,\n",
       " 149,\n",
       " 150,\n",
       " 151,\n",
       " 152,\n",
       " 153,\n",
       " 154,\n",
       " 155,\n",
       " 156,\n",
       " 157,\n",
       " 158,\n",
       " 159,\n",
       " 160,\n",
       " 161,\n",
       " 162,\n",
       " 163,\n",
       " 164,\n",
       " 165,\n",
       " 166,\n",
       " 167,\n",
       " 168,\n",
       " 169,\n",
       " 170,\n",
       " 171,\n",
       " 172,\n",
       " 173,\n",
       " 174,\n",
       " 175,\n",
       " 176,\n",
       " 177,\n",
       " 178,\n",
       " 179,\n",
       " 180,\n",
       " 181,\n",
       " 182,\n",
       " 183,\n",
       " 184,\n",
       " 185,\n",
       " 186,\n",
       " 187,\n",
       " 188,\n",
       " 189,\n",
       " 190,\n",
       " 191,\n",
       " 192,\n",
       " 193,\n",
       " 194,\n",
       " 195,\n",
       " 196,\n",
       " 197,\n",
       " 198,\n",
       " 199,\n",
       " 200,\n",
       " 201,\n",
       " 202,\n",
       " 203,\n",
       " 204,\n",
       " 205,\n",
       " 206,\n",
       " 207,\n",
       " 208,\n",
       " 209,\n",
       " 210,\n",
       " 211,\n",
       " 212,\n",
       " 213,\n",
       " 214,\n",
       " 215,\n",
       " 216,\n",
       " 217,\n",
       " 218,\n",
       " 219,\n",
       " 220,\n",
       " 221,\n",
       " 222,\n",
       " 223,\n",
       " 224,\n",
       " 225,\n",
       " 226,\n",
       " 227,\n",
       " 228,\n",
       " 229,\n",
       " 230,\n",
       " 231,\n",
       " 232,\n",
       " 233,\n",
       " 234,\n",
       " 235,\n",
       " 236,\n",
       " 237,\n",
       " 238,\n",
       " 239,\n",
       " 240,\n",
       " 241,\n",
       " 242,\n",
       " 243,\n",
       " 244,\n",
       " 245,\n",
       " 246,\n",
       " 247,\n",
       " 248,\n",
       " 249,\n",
       " 250,\n",
       " 251,\n",
       " 252,\n",
       " 253,\n",
       " 254,\n",
       " 255,\n",
       " 256,\n",
       " 257,\n",
       " 258,\n",
       " 259,\n",
       " 260,\n",
       " 261,\n",
       " 262,\n",
       " 263,\n",
       " 264,\n",
       " 265,\n",
       " 266,\n",
       " 267,\n",
       " 268,\n",
       " 269,\n",
       " 270,\n",
       " 271,\n",
       " 272,\n",
       " 273,\n",
       " 274,\n",
       " 275,\n",
       " 276,\n",
       " 277,\n",
       " 278,\n",
       " 279,\n",
       " 280,\n",
       " 281,\n",
       " 282,\n",
       " 283,\n",
       " 284,\n",
       " 285,\n",
       " 286,\n",
       " 287,\n",
       " 288,\n",
       " 289,\n",
       " 290,\n",
       " 291,\n",
       " 292,\n",
       " 293,\n",
       " 294,\n",
       " 295,\n",
       " 296,\n",
       " 297,\n",
       " 298,\n",
       " 299,\n",
       " 300,\n",
       " 301,\n",
       " 302,\n",
       " 303,\n",
       " 304,\n",
       " 305,\n",
       " 306,\n",
       " 307,\n",
       " 308,\n",
       " 309,\n",
       " 310,\n",
       " 311,\n",
       " 312,\n",
       " 313,\n",
       " 314,\n",
       " 315,\n",
       " 316,\n",
       " 317,\n",
       " 318,\n",
       " 319,\n",
       " 320,\n",
       " 321,\n",
       " 322,\n",
       " 323,\n",
       " 324,\n",
       " 325,\n",
       " 326,\n",
       " 327,\n",
       " 328,\n",
       " 329,\n",
       " 330,\n",
       " 331,\n",
       " 332,\n",
       " 333,\n",
       " 334,\n",
       " 335,\n",
       " 336,\n",
       " 337,\n",
       " 338,\n",
       " 339,\n",
       " 340,\n",
       " 341,\n",
       " 342,\n",
       " 343,\n",
       " 344,\n",
       " 345,\n",
       " 346,\n",
       " 347,\n",
       " 348,\n",
       " 349,\n",
       " 350,\n",
       " 351,\n",
       " 352,\n",
       " 353,\n",
       " 354,\n",
       " 355,\n",
       " 356,\n",
       " 357,\n",
       " 358,\n",
       " 359,\n",
       " 360,\n",
       " 361,\n",
       " 362,\n",
       " 363,\n",
       " 364,\n",
       " 365,\n",
       " 366,\n",
       " 367,\n",
       " 368,\n",
       " 369,\n",
       " 370,\n",
       " 371,\n",
       " 372,\n",
       " 373,\n",
       " 374,\n",
       " 375,\n",
       " 376,\n",
       " 377,\n",
       " 378,\n",
       " 379,\n",
       " 380,\n",
       " 381,\n",
       " 382,\n",
       " 383,\n",
       " 384,\n",
       " 385,\n",
       " 386,\n",
       " 387,\n",
       " 388,\n",
       " 389,\n",
       " 390,\n",
       " 391,\n",
       " 392,\n",
       " 393,\n",
       " 394,\n",
       " 395,\n",
       " 396,\n",
       " 397,\n",
       " 398,\n",
       " 399,\n",
       " 400,\n",
       " 401,\n",
       " 402,\n",
       " 403,\n",
       " 404,\n",
       " 405,\n",
       " 406,\n",
       " 407,\n",
       " 408,\n",
       " 409,\n",
       " 410,\n",
       " 411,\n",
       " 412,\n",
       " 413,\n",
       " 414,\n",
       " 415,\n",
       " 416,\n",
       " 417,\n",
       " 418,\n",
       " 419,\n",
       " 420,\n",
       " 421,\n",
       " 422,\n",
       " 423,\n",
       " 424,\n",
       " 425,\n",
       " 426,\n",
       " 427,\n",
       " 428,\n",
       " 429,\n",
       " 430,\n",
       " 431,\n",
       " 432,\n",
       " 433,\n",
       " 434,\n",
       " 435,\n",
       " 436,\n",
       " 437,\n",
       " 438,\n",
       " 439,\n",
       " 440,\n",
       " 441,\n",
       " 442,\n",
       " 443,\n",
       " 444,\n",
       " 445,\n",
       " 446,\n",
       " 447,\n",
       " 448,\n",
       " 449,\n",
       " 450,\n",
       " 451,\n",
       " 452,\n",
       " 453,\n",
       " 454,\n",
       " 455,\n",
       " 456,\n",
       " 457,\n",
       " 458,\n",
       " 459,\n",
       " 460,\n",
       " 461,\n",
       " 462,\n",
       " 463,\n",
       " 464,\n",
       " 465,\n",
       " 466,\n",
       " 467,\n",
       " 468,\n",
       " 469,\n",
       " 470,\n",
       " 471,\n",
       " 472,\n",
       " 473,\n",
       " 474,\n",
       " 475,\n",
       " 476,\n",
       " 477,\n",
       " 478,\n",
       " 479,\n",
       " 480,\n",
       " 481,\n",
       " 482,\n",
       " 483,\n",
       " 484,\n",
       " 485,\n",
       " 486,\n",
       " 487,\n",
       " 488,\n",
       " 489,\n",
       " 490,\n",
       " 491,\n",
       " 492,\n",
       " 493,\n",
       " 494,\n",
       " 495,\n",
       " 496,\n",
       " 497,\n",
       " 498,\n",
       " 499,\n",
       " 500,\n",
       " 501,\n",
       " 502,\n",
       " 503,\n",
       " 504,\n",
       " 505,\n",
       " 506,\n",
       " 507,\n",
       " 508,\n",
       " 509,\n",
       " 510,\n",
       " 511,\n",
       " 512,\n",
       " 513,\n",
       " 514,\n",
       " 515,\n",
       " 516,\n",
       " 517,\n",
       " 518,\n",
       " 519,\n",
       " 520,\n",
       " 521,\n",
       " 522,\n",
       " 523,\n",
       " 524,\n",
       " 525,\n",
       " 526,\n",
       " 527,\n",
       " 528,\n",
       " 529,\n",
       " 530,\n",
       " 531,\n",
       " 532,\n",
       " 533,\n",
       " 534,\n",
       " 535,\n",
       " 536,\n",
       " 537,\n",
       " 538,\n",
       " 539,\n",
       " 540,\n",
       " 541,\n",
       " 542,\n",
       " 543,\n",
       " 544,\n",
       " 545,\n",
       " 546,\n",
       " 547,\n",
       " 548,\n",
       " 549,\n",
       " 550,\n",
       " 551,\n",
       " 552,\n",
       " 553,\n",
       " 554,\n",
       " 555,\n",
       " 556,\n",
       " 557,\n",
       " 558,\n",
       " 559,\n",
       " 560,\n",
       " 561,\n",
       " 562,\n",
       " 563,\n",
       " 564,\n",
       " 565,\n",
       " 566,\n",
       " 567,\n",
       " 568,\n",
       " 569,\n",
       " 570,\n",
       " 571,\n",
       " 572,\n",
       " 573,\n",
       " 574,\n",
       " 575,\n",
       " 576,\n",
       " 577,\n",
       " 578,\n",
       " 579,\n",
       " 580,\n",
       " 581,\n",
       " 582,\n",
       " 583,\n",
       " 584,\n",
       " 585,\n",
       " 586,\n",
       " 587,\n",
       " 588,\n",
       " 589,\n",
       " 590,\n",
       " 591,\n",
       " 592,\n",
       " 593,\n",
       " 594,\n",
       " 595,\n",
       " 596,\n",
       " 597,\n",
       " 598,\n",
       " 599,\n",
       " 600,\n",
       " 601,\n",
       " 602,\n",
       " 603,\n",
       " 604,\n",
       " 605,\n",
       " 606,\n",
       " 607,\n",
       " 608,\n",
       " 609,\n",
       " 610,\n",
       " 611,\n",
       " 612,\n",
       " 613,\n",
       " 614,\n",
       " 615,\n",
       " 616,\n",
       " 617,\n",
       " 618,\n",
       " 619,\n",
       " 620,\n",
       " 621,\n",
       " 622,\n",
       " 623,\n",
       " 624,\n",
       " 625,\n",
       " 626,\n",
       " 627,\n",
       " 628,\n",
       " 629,\n",
       " 630,\n",
       " 631,\n",
       " 632,\n",
       " 633,\n",
       " 634,\n",
       " 635,\n",
       " 636,\n",
       " 637,\n",
       " 638,\n",
       " 639,\n",
       " 640,\n",
       " 641,\n",
       " 642,\n",
       " 643,\n",
       " 644,\n",
       " 645,\n",
       " 646,\n",
       " 647,\n",
       " 648,\n",
       " 649,\n",
       " 650,\n",
       " 651,\n",
       " 652,\n",
       " 653,\n",
       " 654,\n",
       " 655,\n",
       " 656,\n",
       " 657,\n",
       " 658,\n",
       " 659,\n",
       " 660,\n",
       " 661,\n",
       " 662,\n",
       " 663,\n",
       " 664,\n",
       " 665,\n",
       " 666,\n",
       " 667,\n",
       " 668,\n",
       " 669,\n",
       " 670,\n",
       " 671,\n",
       " 672,\n",
       " 673,\n",
       " 674,\n",
       " 675,\n",
       " 676,\n",
       " 677,\n",
       " 678,\n",
       " 679,\n",
       " 680,\n",
       " 681,\n",
       " 682,\n",
       " 683,\n",
       " 684,\n",
       " 685,\n",
       " 686,\n",
       " 687,\n",
       " 688,\n",
       " 689,\n",
       " 690,\n",
       " 691,\n",
       " 692,\n",
       " 693,\n",
       " 694,\n",
       " 695,\n",
       " 696,\n",
       " 697,\n",
       " 698,\n",
       " 699,\n",
       " 700,\n",
       " 701,\n",
       " 702,\n",
       " 703,\n",
       " 704,\n",
       " 705,\n",
       " 706,\n",
       " 707,\n",
       " 708,\n",
       " 709,\n",
       " 710,\n",
       " 711,\n",
       " 712,\n",
       " 713,\n",
       " 714,\n",
       " 715,\n",
       " 716,\n",
       " 717,\n",
       " 718,\n",
       " 719,\n",
       " 720,\n",
       " 721,\n",
       " 722,\n",
       " 723,\n",
       " 724,\n",
       " 725,\n",
       " 726,\n",
       " 727,\n",
       " 728,\n",
       " 729,\n",
       " 730,\n",
       " 731,\n",
       " 732,\n",
       " 733,\n",
       " 734,\n",
       " 735,\n",
       " 736,\n",
       " 737,\n",
       " 738,\n",
       " 739,\n",
       " 740,\n",
       " 741,\n",
       " 742,\n",
       " 743,\n",
       " 744,\n",
       " 745,\n",
       " 746,\n",
       " 747,\n",
       " 748,\n",
       " 749,\n",
       " 750,\n",
       " 751,\n",
       " 752,\n",
       " 753,\n",
       " 754,\n",
       " 755,\n",
       " 756,\n",
       " 757,\n",
       " 758,\n",
       " 759,\n",
       " 760,\n",
       " 761,\n",
       " 762,\n",
       " 763,\n",
       " 764,\n",
       " 765,\n",
       " 766,\n",
       " 767,\n",
       " 768,\n",
       " 769,\n",
       " 770,\n",
       " 771,\n",
       " 772,\n",
       " 773,\n",
       " 774,\n",
       " 775,\n",
       " 776,\n",
       " 777,\n",
       " 778,\n",
       " 779,\n",
       " 780,\n",
       " 781,\n",
       " 782,\n",
       " 783,\n",
       " 784,\n",
       " 785,\n",
       " 786,\n",
       " 787,\n",
       " 788,\n",
       " 789,\n",
       " 790,\n",
       " 791,\n",
       " 792,\n",
       " 793,\n",
       " 794,\n",
       " 795,\n",
       " 796,\n",
       " 797,\n",
       " 798,\n",
       " 799,\n",
       " 800,\n",
       " 801,\n",
       " 802,\n",
       " 803,\n",
       " 804,\n",
       " 805,\n",
       " 806,\n",
       " 807,\n",
       " 808,\n",
       " 809,\n",
       " 810,\n",
       " 811,\n",
       " 812,\n",
       " 813,\n",
       " 814,\n",
       " 815,\n",
       " 816,\n",
       " 817,\n",
       " 818,\n",
       " 819,\n",
       " 820,\n",
       " 821,\n",
       " 822,\n",
       " 823,\n",
       " 824,\n",
       " 825,\n",
       " 826,\n",
       " 827,\n",
       " 828,\n",
       " 829,\n",
       " 830,\n",
       " 831,\n",
       " 832,\n",
       " 833,\n",
       " 834,\n",
       " 835,\n",
       " 836,\n",
       " 837,\n",
       " 838,\n",
       " 839,\n",
       " 840,\n",
       " 841,\n",
       " 842,\n",
       " 843,\n",
       " 844,\n",
       " 845,\n",
       " 846,\n",
       " 847,\n",
       " 848,\n",
       " 849,\n",
       " 850,\n",
       " 851,\n",
       " 852,\n",
       " 853,\n",
       " 854,\n",
       " 855,\n",
       " 856,\n",
       " 857,\n",
       " 858,\n",
       " 859,\n",
       " 860,\n",
       " 861,\n",
       " 862,\n",
       " 863,\n",
       " 864,\n",
       " 865,\n",
       " 866,\n",
       " 867,\n",
       " 868,\n",
       " 869,\n",
       " 870,\n",
       " 871,\n",
       " 872,\n",
       " 873,\n",
       " 874,\n",
       " 875,\n",
       " 876,\n",
       " 877,\n",
       " 878,\n",
       " 879,\n",
       " 880,\n",
       " 881,\n",
       " 882,\n",
       " 883,\n",
       " 884,\n",
       " 885,\n",
       " 886,\n",
       " 887,\n",
       " 888,\n",
       " 889,\n",
       " 890,\n",
       " 891,\n",
       " 892,\n",
       " 893,\n",
       " 894,\n",
       " 895,\n",
       " 896,\n",
       " 897,\n",
       " 898,\n",
       " 899,\n",
       " 900,\n",
       " 901,\n",
       " 902,\n",
       " 903,\n",
       " 904,\n",
       " 905,\n",
       " 906,\n",
       " 907,\n",
       " 908,\n",
       " 909,\n",
       " 910,\n",
       " 911,\n",
       " 912,\n",
       " 913,\n",
       " 914,\n",
       " 915,\n",
       " 916,\n",
       " 917,\n",
       " 918,\n",
       " 919,\n",
       " 920,\n",
       " 921,\n",
       " 922,\n",
       " 923,\n",
       " 924,\n",
       " 925,\n",
       " 926,\n",
       " 927,\n",
       " 928,\n",
       " 929,\n",
       " 930,\n",
       " 931,\n",
       " 932,\n",
       " 933,\n",
       " 934,\n",
       " 935,\n",
       " 936,\n",
       " 937,\n",
       " 938,\n",
       " 939,\n",
       " 940,\n",
       " 941,\n",
       " 942,\n",
       " 943,\n",
       " 944,\n",
       " 945,\n",
       " 946,\n",
       " 947,\n",
       " 948,\n",
       " 949,\n",
       " 950,\n",
       " 951,\n",
       " 952,\n",
       " 953,\n",
       " 954,\n",
       " 955,\n",
       " 956,\n",
       " 957,\n",
       " 958,\n",
       " 959,\n",
       " 960,\n",
       " 961,\n",
       " 962,\n",
       " 963,\n",
       " 964,\n",
       " 965,\n",
       " 966,\n",
       " 967,\n",
       " 968,\n",
       " 969,\n",
       " 970,\n",
       " 971,\n",
       " 972,\n",
       " 973,\n",
       " 974,\n",
       " 975,\n",
       " 976,\n",
       " 977,\n",
       " 978,\n",
       " 979,\n",
       " 980,\n",
       " 981,\n",
       " 982,\n",
       " 983,\n",
       " 984,\n",
       " 985,\n",
       " 986,\n",
       " 987,\n",
       " 988,\n",
       " 989,\n",
       " 990,\n",
       " 991,\n",
       " 992,\n",
       " 993,\n",
       " 994,\n",
       " 995,\n",
       " 996,\n",
       " 997,\n",
       " 998,\n",
       " 999,\n",
       " ...]"
      ]
     },
     "execution_count": 140,
     "metadata": {},
     "output_type": "execute_result"
    }
   ],
   "source": [
    "%%time\n",
    "queue = []\n",
    "for i in range(0, 100000):\n",
    "    queue.append(i)\n",
    "print(\"Queue created\")\n",
    "queue"
   ]
  },
  {
   "cell_type": "markdown",
   "id": "be073efe",
   "metadata": {},
   "source": [
    "2. If we were to use the pop function to empty the queue and check the items in it:"
   ]
  },
  {
   "cell_type": "code",
   "execution_count": 138,
   "id": "3d6e7392",
   "metadata": {},
   "outputs": [
    {
     "name": "stdout",
     "output_type": "stream",
     "text": [
      "Queue emptied\n"
     ]
    }
   ],
   "source": [
    "for i in range(0, 100000):\n",
    "    queue.pop(0)\n",
    "print(\"Queue emptied\")"
   ]
  },
  {
   "cell_type": "markdown",
   "id": "d1dff636",
   "metadata": {},
   "source": [
    "However, this time, we’ll use the %%time magic command while executing the preceding code to\n",
    "see that it takes a while to finish:\n"
   ]
  },
  {
   "cell_type": "code",
   "execution_count": 141,
   "id": "3e5960f5",
   "metadata": {},
   "outputs": [
    {
     "name": "stdout",
     "output_type": "stream",
     "text": [
      "Queue emptied\n",
      "Wall time: 879 ms\n"
     ]
    },
    {
     "data": {
      "text/plain": [
       "[]"
      ]
     },
     "execution_count": 141,
     "metadata": {},
     "output_type": "execute_result"
    }
   ],
   "source": [
    "%%time\n",
    "for i in range(0, 100000):\n",
    "    queue.pop(0)\n",
    "print(\"Queue emptied\")\n",
    "queue"
   ]
  },
  {
   "cell_type": "markdown",
   "id": "1ea97a44",
   "metadata": {},
   "source": [
    "In a modern MacBook, with a quad-core processor and 8 GB of RAM, it took around 1.20 seconds\n",
    "to finish. With Windows 10, it took around 2.24 seconds to finish. It takes this amount of time\n",
    "because of the pop(0) operation, which means every time we pop a value from the left of the list\n",
    "(the current 0 index), Python has to rearrange all the other elements of the list by shifting them\n",
    "one space left. Indeed, it is not a very optimized implementation.\n",
    "\n",
    "3. Implement the same queue using the deque data structure from Python’s collections package\n",
    "and perform the append and pop functions on this data structure:"
   ]
  },
  {
   "cell_type": "code",
   "execution_count": 129,
   "id": "bef57b27",
   "metadata": {},
   "outputs": [
    {
     "name": "stdout",
     "output_type": "stream",
     "text": [
      "Queue created\n",
      "Queue emptied\n",
      "Wall time: 16 ms\n"
     ]
    }
   ],
   "source": [
    "%%time\n",
    "from collections import deque\n",
    "queue2 = deque()\n",
    "for i in range(0, 100000):\n",
    "    queue2.append(i)\n",
    "print(\"Queue created\")\n",
    "for i in range(0, 100000):\n",
    "    queue2.popleft()\n",
    "print(\"Queue emptied\")"
   ]
  },
  {
   "cell_type": "markdown",
   "id": "43884772",
   "metadata": {},
   "source": [
    "With the specialized and optimized queue implementation from Python’s standard library, the time\n",
    "that this should take for both the operations is only approximately 27.9 milliseconds. This is a\n",
    "huge improvement on the previous one.\n",
    "\n",
    "We will end the discussion on data structures here. What we discussed here is just the tip of the\n",
    "iceberg. Data structures are a fascinating subject. There are many other data structures that we\n",
    "did not touch on and that, when used efficiently, c an o ffer en ormous ad ded va lue. We strongly\n",
    "encourage you to explore data structures more. Try to learn about linked lists, trees, graphs, and\n",
    "all the different variations o f t hem a s much a s you c an; you w ill fi nd th ere ar e ma ny similarities\n",
    "between them and you will benefit greatly from studying t hem. Not only do they offer the joy of\n",
    "learning, but they are also the secret mega-weapons in the arsenal of a data practitioner that you\n",
    "can bring out every time you are challenged with a di icult data wrangling job.\n",
    "\n",
    "Exercise 2.24 : Using Deque"
   ]
  },
  {
   "cell_type": "code",
   "execution_count": 142,
   "id": "a22246aa",
   "metadata": {},
   "outputs": [
    {
     "name": "stdout",
     "output_type": "stream",
     "text": [
      "deque(['Luffy', 'Zorro', 'Sanji', 'Nami'])\n",
      "deque(['Luffy', 'Zorro', 'Sanji', 'Nami', 'Franky'])\n",
      "deque(['Luffy', 'Zorro', 'Sanji', 'Nami', 'Franky', 'Usop'])\n",
      "Usop\n",
      "Franky\n",
      "deque(['Luffy', 'Zorro', 'Sanji', 'Nami'])\n"
     ]
    }
   ],
   "source": [
    "# Python code to demonstrate Implementing\n",
    "# Stack using deque\n",
    "from collections import deque\n",
    "queue = deque([\"Luffy\", \"Zorro\", \"Sanji\", \"Nami\"])\n",
    "print(queue)\n",
    "queue.append(\"Franky\")\n",
    "print(queue)\n",
    "queue.append(\"Usop\")\n",
    "print(queue)\n",
    "print(queue.pop())\n",
    "print(queue.pop())\n",
    "print(queue)"
   ]
  },
  {
   "cell_type": "markdown",
   "id": "fd9cb7d3",
   "metadata": {},
   "source": [
    "Basic File Operations in Python\n",
    "\n",
    "In the previous topic, we investigated a few advanced data structures and also learned neat and\n",
    "useful functional programming methods to manipulate them without side effects. In this topic, we\n",
    "will learn about a few OS-level functions in Python, such as working with files, but these could also\n",
    "include working with printers, and even the internet. We will concentrate mainly on file-related\n",
    "functions and learn how to open a file, read the data line by line or all at once, and finally, how to\n",
    "cleanly close the file we o pened. T he c losing o peration o f a fi le sh ould be do ne ca utiously, which\n",
    "is ignored most of the time by developers. When handling file o perations, we often run into very\n",
    "strange and hard-to-track-down bugs because a process opened a file and did not close it properly.We will apply a few of the techniques we have learned about to a file that we will read to practice\n",
    "our data wrangling skills further."
   ]
  },
  {
   "cell_type": "markdown",
   "id": "1e62b676",
   "metadata": {},
   "source": [
    "Exercise 2.25: File Operations\n",
    "\n",
    "In this exercise, we will learn about the OS module of Python, and we will also look at two very\n",
    "useful ways to write and read environment variables. The power of writing and reading environment\n",
    "variables is often very important when designing and developing data-wrangling pipelines.\n",
    "\n",
    "The purpose of the OS module is to give you ways to interact with OS-dependent functionalities.\n",
    "In general, it is pretty low-level and most of the functions from there are not useful on a day-to-day\n",
    "basis; however, some are worth learning. os.environ is the collection Python maintains with all the\n",
    "present environment variables in your OS. It gives you the power to create new ones. The os.getenv\n",
    "function gives you the ability to read an environment variable:\n",
    "\n",
    "1. Import the os module."
   ]
  },
  {
   "cell_type": "code",
   "execution_count": 143,
   "id": "566cca38",
   "metadata": {},
   "outputs": [],
   "source": [
    "import os"
   ]
  },
  {
   "cell_type": "markdown",
   "id": "c1b8668f",
   "metadata": {},
   "source": [
    "2. Set a few environment variables:\n"
   ]
  },
  {
   "cell_type": "code",
   "execution_count": 144,
   "id": "601ff810",
   "metadata": {},
   "outputs": [
    {
     "data": {
      "text/plain": [
       "'MY_VAL'"
      ]
     },
     "execution_count": 144,
     "metadata": {},
     "output_type": "execute_result"
    }
   ],
   "source": [
    "os.environ['MY_KEY'] = \"MY_VAL\"\n",
    "os.getenv('MY_KEY')"
   ]
  },
  {
   "cell_type": "markdown",
   "id": "dda4dc72",
   "metadata": {},
   "source": [
    "3. Print the environment variable when it is not set:"
   ]
  },
  {
   "cell_type": "code",
   "execution_count": 145,
   "id": "982b2700",
   "metadata": {},
   "outputs": [
    {
     "name": "stdout",
     "output_type": "stream",
     "text": [
      "None\n"
     ]
    }
   ],
   "source": [
    "print(os.getenv('MY_KEY_NOT_SET'))"
   ]
  },
  {
   "cell_type": "markdown",
   "id": "45f7c665",
   "metadata": {},
   "source": [
    "4. Print the os environment:"
   ]
  },
  {
   "cell_type": "code",
   "execution_count": 146,
   "id": "a6a37d23",
   "metadata": {},
   "outputs": [
    {
     "name": "stdout",
     "output_type": "stream",
     "text": [
      "environ({'ALLUSERSPROFILE': 'C:\\\\ProgramData', 'APPDATA': 'C:\\\\Users\\\\user\\\\AppData\\\\Roaming', 'COMMONPROGRAMFILES': 'C:\\\\Program Files\\\\Common Files', 'COMMONPROGRAMFILES(X86)': 'C:\\\\Program Files (x86)\\\\Common Files', 'COMMONPROGRAMW6432': 'C:\\\\Program Files\\\\Common Files', 'COMPUTERNAME': 'MSI', 'COMSPEC': 'C:\\\\Windows\\\\system32\\\\cmd.exe', 'CONFIGSETROOT': 'C:\\\\Windows\\\\ConfigSetRoot', 'DRIVERDATA': 'C:\\\\Windows\\\\System32\\\\Drivers\\\\DriverData', 'FPS_BROWSER_APP_PROFILE_STRING': 'Internet Explorer', 'FPS_BROWSER_USER_PROFILE_STRING': 'Default', 'HOMEDRIVE': 'C:', 'HOMEPATH': '\\\\Users\\\\user', 'INTEL_DEV_REDIST': 'C:\\\\Program Files (x86)\\\\Common Files\\\\Intel\\\\Shared Libraries\\\\', 'LOCALAPPDATA': 'C:\\\\Users\\\\user\\\\AppData\\\\Local', 'LOGONSERVER': '\\\\\\\\MSI', 'MIC_LD_LIBRARY_PATH': 'C:\\\\Program Files (x86)\\\\Common Files\\\\Intel\\\\Shared Libraries\\\\compiler\\\\lib\\\\mic', 'NUMBER_OF_PROCESSORS': '12', 'ONEDRIVE': 'C:\\\\Users\\\\user\\\\OneDrive - ump.edu.my', 'ONEDRIVECOMMERCIAL': 'C:\\\\Users\\\\user\\\\OneDrive - ump.edu.my', 'ONEDRIVECONSUMER': 'C:\\\\Users\\\\user\\\\OneDrive', 'OS': 'Windows_NT', 'PATH': 'D:\\\\Anaconda;D:\\\\Anaconda\\\\Library\\\\mingw-w64\\\\bin;D:\\\\Anaconda\\\\Library\\\\usr\\\\bin;D:\\\\Anaconda\\\\Library\\\\bin;D:\\\\Anaconda\\\\Scripts;C:\\\\Program Files (x86)\\\\Common Files\\\\Intel\\\\Shared Libraries\\\\redist\\\\intel64\\\\compiler;C:\\\\Program Files (x86)\\\\Razer Chroma SDK\\\\bin;C:\\\\Program Files\\\\Razer Chroma SDK\\\\bin;C:\\\\Program Files (x86)\\\\Razer\\\\ChromaBroadcast\\\\bin;C:\\\\Program Files\\\\Razer\\\\ChromaBroadcast\\\\bin;C:\\\\Windows\\\\system32;C:\\\\Windows;C:\\\\Windows\\\\System32\\\\Wbem;C:\\\\Windows\\\\System32\\\\WindowsPowerShell\\\\v1.0\\\\;C:\\\\Windows\\\\System32\\\\OpenSSH\\\\;C:\\\\Program Files (x86)\\\\NVIDIA Corporation\\\\PhysX\\\\Common;C:\\\\Program Files\\\\NVIDIA Corporation\\\\NVIDIA NvDLISR;C:\\\\Windows\\\\system32\\\\config\\\\systemprofile\\\\AppData\\\\Local\\\\Microsoft\\\\WindowsApps;C:\\\\Users\\\\user\\\\AppData\\\\Local\\\\Microsoft\\\\WindowsApps;C:\\\\Program Files\\\\MySQL\\\\MySQL Shell 8.0\\\\bin\\\\;C:\\\\Users\\\\user\\\\AppData\\\\Local\\\\Programs\\\\Python\\\\Python310\\\\Scripts\\\\;C:\\\\Users\\\\user\\\\AppData\\\\Local\\\\Programs\\\\Python\\\\Python310\\\\;C:\\\\Users\\\\user\\\\AppData\\\\Local\\\\Microsoft\\\\WindowsApps;C:\\\\Program Files\\\\JetBrains\\\\PyCharm Community Edition 2022.2.3\\\\bin;;C:\\\\Users\\\\user\\\\AppData\\\\Local\\\\Programs\\\\MiKTeX\\\\miktex\\\\bin\\\\x64\\\\;C:\\\\Users\\\\user\\\\AppData\\\\Local\\\\Pandoc\\\\;D:\\\\MiKTeX\\\\miktex\\\\bin\\\\x64\\\\;D:\\\\Microsoft VS Code\\\\bin', 'PATHEXT': '.COM;.EXE;.BAT;.CMD;.VBS;.VBE;.JS;.JSE;.WSF;.WSH;.MSC', 'PROCESSOR_ARCHITECTURE': 'AMD64', 'PROCESSOR_IDENTIFIER': 'Intel64 Family 6 Model 165 Stepping 2, GenuineIntel', 'PROCESSOR_LEVEL': '6', 'PROCESSOR_REVISION': 'a502', 'PROGRAMDATA': 'C:\\\\ProgramData', 'PROGRAMFILES': 'C:\\\\Program Files', 'PROGRAMFILES(X86)': 'C:\\\\Program Files (x86)', 'PROGRAMW6432': 'C:\\\\Program Files', 'PSMODULEPATH': 'C:\\\\Program Files\\\\WindowsPowerShell\\\\Modules;C:\\\\Windows\\\\system32\\\\WindowsPowerShell\\\\v1.0\\\\Modules', 'PUBLIC': 'C:\\\\Users\\\\Public', 'PYCHARM COMMUNITY EDITION': 'C:\\\\Program Files\\\\JetBrains\\\\PyCharm Community Edition 2022.2.3\\\\bin;', 'SESSIONNAME': 'Console', 'SYSTEMDRIVE': 'C:', 'SYSTEMROOT': 'C:\\\\Windows', 'TEMP': 'C:\\\\Users\\\\user\\\\AppData\\\\Local\\\\Temp', 'TMP': 'C:\\\\Users\\\\user\\\\AppData\\\\Local\\\\Temp', 'USERDOMAIN': 'MSI', 'USERDOMAIN_ROAMINGPROFILE': 'MSI', 'USERNAME': 'user', 'USERPROFILE': 'C:\\\\Users\\\\user', 'WINDIR': 'C:\\\\Windows', 'ZES_ENABLE_SYSMAN': '1', 'CONDA_PREFIX': 'D:\\\\Anaconda', 'PYDEVD_USE_FRAME_EVAL': 'NO', 'JPY_INTERRUPT_EVENT': '2360', 'IPY_INTERRUPT_EVENT': '2360', 'JPY_PARENT_PID': '2428', 'TERM': 'xterm-color', 'CLICOLOR': '1', 'PAGER': 'cat', 'GIT_PAGER': 'cat', 'MPLBACKEND': 'module://matplotlib_inline.backend_inline', 'MY_KEY': 'MY_VAL'})\n"
     ]
    }
   ],
   "source": [
    "print(os.environ)"
   ]
  },
  {
   "cell_type": "markdown",
   "id": "b8f4158e",
   "metadata": {},
   "source": [
    "After executing the preceding code, you will be able to see that you have successfully printed\n",
    "the value of MY_KEY, and when you tried to print MY_KEY_NOT_SET, it printed None.\n",
    "Therefore, utilizing the OS module, you will be able to set the value of environment variables in\n",
    "your system.\n",
    "\n",
    "File Handling\n",
    "\n",
    "In this section, we will learn about how to open a file in P ython. We will learn about the different\n",
    "modes that we can use and what they stand for when opening a file. Python has a built-in open\n",
    "function that we will use to open a file. The open function takes a few arguments as i nput. Among\n",
    "them, the first one, which stands for the name of the file you want to op en, is the only one that’s\n",
    "mandatory. Everything else has a default value. When you call open, Python uses underlying\n",
    "system-level calls to open a file handler and return it to the caller.\n",
    "\n",
    "Usually, a file can be opened either for reading or w riting. If we open a file in one mode, the other\n",
    "operation is not supported. Whereas reading usually means we start to read from the beginning\n",
    "of an existing file, w riting c an m ean e ither s tarting a n ew fi le an d wr iting fr om th e be ginning or\n",
    "opening an existing file and appending to it.\n",
    "\n",
    "You can open a file for reading with the command that f ollows. The path (highlightedwould need\n",
    "to be changed based on the location of the file on your system."
   ]
  },
  {
   "cell_type": "code",
   "execution_count": 158,
   "id": "1f1cadc5",
   "metadata": {},
   "outputs": [],
   "source": [
    "fd = open(\"data_temporary_files.txt\")"
   ]
  },
  {
   "cell_type": "markdown",
   "id": "e8dcea5a",
   "metadata": {},
   "source": [
    "We will discuss some more functions in the following section.\n",
    "\n",
    "This is opened in rt mode (opened for the reading+text mode. You can open the same file in\n",
    "binary mode if you want. To open the file in binary mode, use the rb (read, bytemode:\n"
   ]
  },
  {
   "cell_type": "code",
   "execution_count": 172,
   "id": "c8d66b44",
   "metadata": {},
   "outputs": [
    {
     "data": {
      "text/plain": [
       "<_io.BufferedReader name='AA.txt'>"
      ]
     },
     "execution_count": 172,
     "metadata": {},
     "output_type": "execute_result"
    }
   ],
   "source": [
    "fd = open('AA.txt',\"rb\")\n",
    "fd"
   ]
  },
  {
   "cell_type": "markdown",
   "id": "851a203a",
   "metadata": {},
   "source": [
    "This is how we open a file for writing:"
   ]
  },
  {
   "cell_type": "code",
   "execution_count": 160,
   "id": "3abe7280",
   "metadata": {},
   "outputs": [
    {
     "data": {
      "text/plain": [
       "<_io.TextIOWrapper name='data_temporary_files.txt ' mode='w' encoding='cp1252'>"
      ]
     },
     "execution_count": 160,
     "metadata": {},
     "output_type": "execute_result"
    }
   ],
   "source": [
    "fd = open(\"data_temporary_files.txt \", \"w\")\n",
    "fd"
   ]
  },
  {
   "cell_type": "markdown",
   "id": "7759a7dd",
   "metadata": {},
   "source": [
    "Exercise 2.26: Opening and Closing a File\n",
    "\n",
    "In this exercise, we will learn how to close a file after opening it.\n",
    "\n",
    "We must close a file once we have opened i t. A lot of system-level bugs can occur due to a dangling\n",
    "file handler, which means the file is still being modified, even though the application is done using\n",
    "it. Once we close a file, no further operations can be performed on that file using that specific file\n",
    "handler.\n",
    "\n",
    "1. Open a file in binary mode:\n"
   ]
  },
  {
   "cell_type": "code",
   "execution_count": 173,
   "id": "ad7034ee",
   "metadata": {},
   "outputs": [],
   "source": [
    "fd = open(\"AA.txt\", \"rb\")"
   ]
  },
  {
   "cell_type": "markdown",
   "id": "d00bb5df",
   "metadata": {},
   "source": [
    "2. Close a file using close(:"
   ]
  },
  {
   "cell_type": "code",
   "execution_count": 174,
   "id": "8ffb0b15",
   "metadata": {},
   "outputs": [],
   "source": [
    "fd.close()"
   ]
  },
  {
   "cell_type": "markdown",
   "id": "02d7a160",
   "metadata": {},
   "source": [
    "Python also gives us a closed flag with the file ha ndler. If we print it before closing, then we will\n",
    "see False, whereas if we print it after closing, then we will see True. If our logic checks whether a\n",
    "file is properly closed or not, then this is the flag we want to use.\n",
    "\n",
    "The ‘With’ Statement\n",
    "\n",
    "In this section, we will learn about the with statement in Python and how we can effectively use it\n",
    "in the context of opening and closing files.\n",
    "\n",
    "The with command is a compound statement in Python, like if and for, designed to combine\n",
    "multiple lines. Like any compound statement, with also affects the execution of the code enclosed\n",
    "by it. In the case of with, it is used to wrap a block of code in the scope of what we call a Context\n",
    "Manager in Python. A context manager is a convenient way to work with resources and will help\n",
    "avoid forgetting to close the resource. A detailed discussion of context managers is out of the scope\n",
    "of this exercise and this topic in general, but it is sufficient t o s ay t hat i f a c ontext m anager is\n",
    "implemented inside the open call for opening a file in Python, it is guaranteed that a close call will\n",
    "automatically be made if we wrap it inside a with statement."
   ]
  },
  {
   "cell_type": "markdown",
   "id": "a6cb3a66",
   "metadata": {},
   "source": [
    "Opening a File Using the with Statement\n",
    "\n",
    "Open a file using the with statement:"
   ]
  },
  {
   "cell_type": "code",
   "execution_count": 175,
   "id": "05edc580",
   "metadata": {},
   "outputs": [
    {
     "name": "stdout",
     "output_type": "stream",
     "text": [
      "False\n",
      "True\n"
     ]
    }
   ],
   "source": [
    "with open(\"AA.txt\") as fd:\n",
    "    print(fd.closed)\n",
    "print(fd.closed)"
   ]
  },
  {
   "cell_type": "markdown",
   "id": "b6ac742b",
   "metadata": {},
   "source": [
    "If we execute the preceding code, we will see that the first print will end up printing False, whereas\n",
    "the second one will print True. This means that as soon as the control goes out of the with block,\n",
    "the file descriptor is automatically closed.\n",
    "\n",
    "Exercise 2.27: Reading a File Line by Line\n",
    "\n",
    "In this exercise, we’ll read a file line by l ine. Let’s go through the following steps to do s o: 1 . Open\n",
    "a file and then read the file line by line and print it as we read it:"
   ]
  },
  {
   "cell_type": "code",
   "execution_count": 176,
   "id": "ca10e541",
   "metadata": {},
   "outputs": [
    {
     "ename": "FileNotFoundError",
     "evalue": "[Errno 2] No such file or directory: 'Alice`s Adventures in Wonderland, by Lewis Carroll'",
     "output_type": "error",
     "traceback": [
      "\u001b[1;31m---------------------------------------------------------------------------\u001b[0m",
      "\u001b[1;31mFileNotFoundError\u001b[0m                         Traceback (most recent call last)",
      "\u001b[1;32m~\\AppData\\Local\\Temp\\ipykernel_9584\\3375473003.py\u001b[0m in \u001b[0;36m<module>\u001b[1;34m\u001b[0m\n\u001b[1;32m----> 1\u001b[1;33m with open(\"Alice`s Adventures in Wonderland, \"\\\n\u001b[0m\u001b[0;32m      2\u001b[0m \"by Lewis Carroll\", encoding=\"utf8\") as fd:\n\u001b[0;32m      3\u001b[0m     \u001b[1;32mfor\u001b[0m \u001b[0mline\u001b[0m \u001b[1;32min\u001b[0m \u001b[0mfd\u001b[0m\u001b[1;33m:\u001b[0m\u001b[1;33m\u001b[0m\u001b[1;33m\u001b[0m\u001b[0m\n\u001b[0;32m      4\u001b[0m         \u001b[0mprint\u001b[0m\u001b[1;33m(\u001b[0m\u001b[0mline\u001b[0m\u001b[1;33m)\u001b[0m\u001b[1;33m\u001b[0m\u001b[1;33m\u001b[0m\u001b[0m\n",
      "\u001b[1;31mFileNotFoundError\u001b[0m: [Errno 2] No such file or directory: 'Alice`s Adventures in Wonderland, by Lewis Carroll'"
     ]
    }
   ],
   "source": [
    "with open(\"Alice`s Adventures in Wonderland, \"\\\n",
    "\"by Lewis Carroll\", encoding=\"utf8\") as fd:\n",
    "    for line in fd:\n",
    "        print(line)\n"
   ]
  },
  {
   "cell_type": "markdown",
   "id": "d28d539b",
   "metadata": {},
   "source": [
    "Looking at the preceding code, we can see why it is important. With this short snippet of code,\n",
    "you can even open and read files that are many gigabytes in size, line by line, and without flooding\n",
    "or overrunning the system memory. There is another explicit method in the file descriptor object,\n",
    "called readline, which reads one line at a time from a file.\n",
    "\n",
    "2. Duplicate the same for loop, just after the first one:"
   ]
  },
  {
   "cell_type": "code",
   "execution_count": 177,
   "id": "6f890058",
   "metadata": {},
   "outputs": [
    {
     "ename": "FileNotFoundError",
     "evalue": "[Errno 2] No such file or directory: 'Alice`s Adventures in Wonderland, by Lewis Carroll'",
     "output_type": "error",
     "traceback": [
      "\u001b[1;31m---------------------------------------------------------------------------\u001b[0m",
      "\u001b[1;31mFileNotFoundError\u001b[0m                         Traceback (most recent call last)",
      "\u001b[1;32m~\\AppData\\Local\\Temp\\ipykernel_9584\\2775930158.py\u001b[0m in \u001b[0;36m<module>\u001b[1;34m\u001b[0m\n\u001b[1;32m----> 1\u001b[1;33m with open(\"Alice`s Adventures in Wonderland, \"\\\n\u001b[0m\u001b[0;32m      2\u001b[0m \"by Lewis Carroll\", encoding=\"utf8\") as fd:\n\u001b[0;32m      3\u001b[0m     \u001b[1;32mfor\u001b[0m \u001b[0mline\u001b[0m \u001b[1;32min\u001b[0m \u001b[0mfd\u001b[0m\u001b[1;33m:\u001b[0m\u001b[1;33m\u001b[0m\u001b[1;33m\u001b[0m\u001b[0m\n\u001b[0;32m      4\u001b[0m         \u001b[0mprint\u001b[0m\u001b[1;33m(\u001b[0m\u001b[0mline\u001b[0m\u001b[1;33m)\u001b[0m\u001b[1;33m\u001b[0m\u001b[1;33m\u001b[0m\u001b[0m\n\u001b[0;32m      5\u001b[0m     \u001b[0mprint\u001b[0m\u001b[1;33m(\u001b[0m\u001b[1;34m\"Ended first loop\"\u001b[0m\u001b[1;33m)\u001b[0m\u001b[1;33m\u001b[0m\u001b[1;33m\u001b[0m\u001b[0m\n",
      "\u001b[1;31mFileNotFoundError\u001b[0m: [Errno 2] No such file or directory: 'Alice`s Adventures in Wonderland, by Lewis Carroll'"
     ]
    }
   ],
   "source": [
    "with open(\"Alice`s Adventures in Wonderland, \"\\\n",
    "\"by Lewis Carroll\", encoding=\"utf8\") as fd:\n",
    "    for line in fd:\n",
    "        print(line)\n",
    "    print(\"Ended first loop\")\n",
    "for line in fd:\n",
    "    print(line)"
   ]
  },
  {
   "cell_type": "markdown",
   "id": "65213833",
   "metadata": {},
   "source": [
    "Exercise 2.28: Writing to a File\n",
    "\n",
    "In this exercise, we’ll look into file operations by showing you how to read from a dictionary and\n",
    "write to a file. We will write a few lines to a file and read the file:\n",
    "\n",
    "Let’s go through the following steps: 1. Use the write function from the file descriptor object:\n"
   ]
  },
  {
   "cell_type": "code",
   "execution_count": 166,
   "id": "6ce26717",
   "metadata": {},
   "outputs": [],
   "source": [
    "data_dict = {\"India\": \"Delhi\", \"France\": \"Paris\",\\\n",
    "\"UK\": \"London\", \"USA\": \"Washington\"}\n",
    "with open(\"data_temporary_files.txt\", \"w\") as fd:\n",
    "    for country, capital in data_dict.items():\n",
    "        fd.write(\"The capital of {} is {}\\n\"\\\n",
    "                .format(country, capital))"
   ]
  },
  {
   "cell_type": "markdown",
   "id": "e682762b",
   "metadata": {},
   "source": [
    "2. Read the file using the following command:"
   ]
  },
  {
   "cell_type": "code",
   "execution_count": 167,
   "id": "275891b0",
   "metadata": {},
   "outputs": [
    {
     "name": "stdout",
     "output_type": "stream",
     "text": [
      "The capital of India is Delhi\n",
      "\n",
      "The capital of France is Paris\n",
      "\n",
      "The capital of UK is London\n",
      "\n",
      "The capital of USA is Washington\n",
      "\n"
     ]
    }
   ],
   "source": [
    "with open(\"data_temporary_files.txt\", \"r\") as fd:\n",
    "    for line in fd:\n",
    "        print(line)"
   ]
  },
  {
   "cell_type": "markdown",
   "id": "23df55d8",
   "metadata": {},
   "source": [
    "3. Use the print function to write to a file using the following command:"
   ]
  },
  {
   "cell_type": "code",
   "execution_count": 168,
   "id": "4354d049",
   "metadata": {},
   "outputs": [],
   "source": [
    "data_dict_2 = {\"China\": \"Beijing\", \"Japan\": \"Tokyo\"}\n",
    "with open(\"data_temporary_files.txt\", \"a\") as fd:\n",
    "    for country, capital in data_dict_2.items():\n",
    "        print(\"The capital of {} is {}\"\\\n",
    "                .format(country, capital), file=fd)"
   ]
  },
  {
   "cell_type": "markdown",
   "id": "b3d40f17",
   "metadata": {},
   "source": [
    "4. Read the file using the following command:"
   ]
  },
  {
   "cell_type": "code",
   "execution_count": 169,
   "id": "519796f9",
   "metadata": {},
   "outputs": [
    {
     "name": "stdout",
     "output_type": "stream",
     "text": [
      "The capital of India is Delhi\n",
      "\n",
      "The capital of France is Paris\n",
      "\n",
      "The capital of UK is London\n",
      "\n",
      "The capital of USA is Washington\n",
      "\n",
      "The capital of China is Beijing\n",
      "\n",
      "The capital of Japan is Tokyo\n",
      "\n"
     ]
    }
   ],
   "source": [
    "with open(\"data_temporary_files.txt\", \"r\") as fd:\n",
    "    for line in fd:\n",
    "        print(line)"
   ]
  },
  {
   "cell_type": "code",
   "execution_count": null,
   "id": "dae269b7",
   "metadata": {},
   "outputs": [],
   "source": []
  }
 ],
 "metadata": {
  "kernelspec": {
   "display_name": "Python 3 (ipykernel)",
   "language": "python",
   "name": "python3"
  },
  "language_info": {
   "codemirror_mode": {
    "name": "ipython",
    "version": 3
   },
   "file_extension": ".py",
   "mimetype": "text/x-python",
   "name": "python",
   "nbconvert_exporter": "python",
   "pygments_lexer": "ipython3",
   "version": "3.9.13"
  }
 },
 "nbformat": 4,
 "nbformat_minor": 5
}
