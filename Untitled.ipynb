{
 "cells": [
  {
   "cell_type": "code",
   "execution_count": 2,
   "id": "a9e050d5",
   "metadata": {},
   "outputs": [
    {
     "name": "stdout",
     "output_type": "stream",
     "text": [
      "Note: you may need to restart the kernel to use updated packages.\n"
     ]
    },
    {
     "name": "stderr",
     "output_type": "stream",
     "text": [
      "ERROR: Could not find a version that satisfies the requirement stack (from versions: none)\n",
      "ERROR: No matching distribution found for stack\n"
     ]
    }
   ],
   "source": [
    "pip install stack"
   ]
  },
  {
   "cell_type": "code",
   "execution_count": 1,
   "id": "82f9e0b8",
   "metadata": {},
   "outputs": [
    {
     "ename": "ModuleNotFoundError",
     "evalue": "No module named 'stack'",
     "output_type": "error",
     "traceback": [
      "\u001b[1;31m---------------------------------------------------------------------------\u001b[0m",
      "\u001b[1;31mModuleNotFoundError\u001b[0m                       Traceback (most recent call last)",
      "\u001b[1;32m~\\AppData\\Local\\Temp\\ipykernel_5688\\3475472907.py\u001b[0m in \u001b[0;36m<module>\u001b[1;34m\u001b[0m\n\u001b[0;32m      1\u001b[0m \u001b[1;32mfrom\u001b[0m \u001b[0mtime\u001b[0m \u001b[1;32mimport\u001b[0m \u001b[0msleep\u001b[0m\u001b[1;33m\u001b[0m\u001b[1;33m\u001b[0m\u001b[0m\n\u001b[1;32m----> 2\u001b[1;33m \u001b[1;32mfrom\u001b[0m \u001b[0mstack\u001b[0m \u001b[1;32mimport\u001b[0m \u001b[0mStack\u001b[0m\u001b[1;33m\u001b[0m\u001b[1;33m\u001b[0m\u001b[0m\n\u001b[0m\u001b[0;32m      3\u001b[0m \u001b[1;32mfrom\u001b[0m \u001b[0mqueue\u001b[0m \u001b[1;32mimport\u001b[0m \u001b[0mQueue\u001b[0m\u001b[1;33m\u001b[0m\u001b[1;33m\u001b[0m\u001b[0m\n\u001b[0;32m      4\u001b[0m \u001b[0mprint\u001b[0m\u001b[1;33m(\u001b[0m\u001b[1;34m\"> > > > > Stack > > > > >\"\u001b[0m\u001b[1;33m)\u001b[0m\u001b[1;33m\u001b[0m\u001b[1;33m\u001b[0m\u001b[0m\n\u001b[0;32m      5\u001b[0m \u001b[0mprint\u001b[0m\u001b[1;33m(\u001b[0m\u001b[1;34m\"\"\u001b[0m\u001b[1;33m)\u001b[0m\u001b[1;33m\u001b[0m\u001b[1;33m\u001b[0m\u001b[0m\n",
      "\u001b[1;31mModuleNotFoundError\u001b[0m: No module named 'stack'"
     ]
    }
   ],
   "source": [
    "from time import sleep\n",
    "from stack import Stack\n",
    "from queue import Queue\n",
    "print(\"> > > > > Stack > > > > >\")\n",
    "print(\"\")\n",
    "myStack = Stack([\"Mia\",\"Naim\",\"Sham\",\"Zhuang\",\"Safia\",\"Khairul\"])\n",
    "sleep(0.2)\n",
    "myStack.output()\n",
    "print(\"\")\n",
    "sleep(0.2)\n",
    "myStack.pop()\n",
    "sleep(0.2)\n",
    "myStack.pop()\n",
    "sleep(0.2)\n",
    "myStack.push(\"Atikah\")\n",
    "sleep(0.2)\n",
    "print(\"\")\n",
    "myStack.output()\n",
    "print(\"\")\n",
    "print(\"\")\n",
    "sleep(0.2)\n",
    "print(\"> > > > > Queue > > > > >\")\n",
    "print(\"\")\n",
    "myQueue = Queue([\"Mia\",\"Naim\",\"Sham\",\"Zhuang\",\"Safia\",\"Khairul\"])\n",
    "sleep(0.2)\n",
    "myQueue.output()\n",
    "print(\"\")\n",
    "sleep(0.2)\n",
    "myQueue.dequeue()\n",
    "sleep(0.2)\n",
    "myQueue.dequeue()\n",
    "sleep(0.2)\n",
    "myQueue.enqueue(\"Atikah\")\n",
    "sleep(0.2)\n",
    "print(\"\")\n",
    "myQueue.output()\n",
    "print(\"\")\n"
   ]
  },
  {
   "cell_type": "code",
   "execution_count": null,
   "id": "99e69467",
   "metadata": {},
   "outputs": [],
   "source": []
  }
 ],
 "metadata": {
  "kernelspec": {
   "display_name": "Python 3 (ipykernel)",
   "language": "python",
   "name": "python3"
  },
  "language_info": {
   "codemirror_mode": {
    "name": "ipython",
    "version": 3
   },
   "file_extension": ".py",
   "mimetype": "text/x-python",
   "name": "python",
   "nbconvert_exporter": "python",
   "pygments_lexer": "ipython3",
   "version": "3.9.13"
  }
 },
 "nbformat": 4,
 "nbformat_minor": 5
}
